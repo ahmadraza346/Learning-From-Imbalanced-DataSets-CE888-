{
 "cells": [
  {
   "cell_type": "markdown",
   "id": "69fe5522",
   "metadata": {},
   "source": [
    "# Libraries"
   ]
  },
  {
   "cell_type": "code",
   "execution_count": 1179,
   "id": "a158b992",
   "metadata": {},
   "outputs": [],
   "source": [
    "import pandas as pd\n",
    "import numpy as np\n",
    "import seaborn as sns\n",
    "import numpy as np\n",
    "import matplotlib.pyplot as plt\n",
    "from sklearn.preprocessing import LabelEncoder,OneHotEncoder\n",
    "from sklearn.compose import ColumnTransformer\n",
    "from sklearn.ensemble import RandomForestClassifier\n",
    "from sklearn.model_selection import cross_val_score\n",
    "from sklearn.metrics import make_scorer, accuracy_score, f1_score, precision_score, recall_score\n",
    "from sklearn.model_selection import StratifiedKFold"
   ]
  },
  {
   "cell_type": "markdown",
   "id": "0034592c",
   "metadata": {},
   "source": [
    "# Loading the DataSet"
   ]
  },
  {
   "cell_type": "markdown",
   "id": "efd6e33a",
   "metadata": {},
   "source": [
    "https://www.kaggle.com/uditg6/smelly-mushrooms-bad-adaboost-100/data"
   ]
  },
  {
   "cell_type": "code",
   "execution_count": 1180,
   "id": "8c4746a4",
   "metadata": {},
   "outputs": [
    {
     "data": {
      "text/html": [
       "<div>\n",
       "<style scoped>\n",
       "    .dataframe tbody tr th:only-of-type {\n",
       "        vertical-align: middle;\n",
       "    }\n",
       "\n",
       "    .dataframe tbody tr th {\n",
       "        vertical-align: top;\n",
       "    }\n",
       "\n",
       "    .dataframe thead th {\n",
       "        text-align: right;\n",
       "    }\n",
       "</style>\n",
       "<table border=\"1\" class=\"dataframe\">\n",
       "  <thead>\n",
       "    <tr style=\"text-align: right;\">\n",
       "      <th></th>\n",
       "      <th>class</th>\n",
       "      <th>cap-shape</th>\n",
       "      <th>cap-surface</th>\n",
       "      <th>cap-color</th>\n",
       "      <th>bruises</th>\n",
       "      <th>odor</th>\n",
       "      <th>gill-attachment</th>\n",
       "      <th>gill-spacing</th>\n",
       "      <th>gill-size</th>\n",
       "      <th>gill-color</th>\n",
       "      <th>...</th>\n",
       "      <th>stalk-surface-below-ring</th>\n",
       "      <th>stalk-color-above-ring</th>\n",
       "      <th>stalk-color-below-ring</th>\n",
       "      <th>veil-type</th>\n",
       "      <th>veil-color</th>\n",
       "      <th>ring-number</th>\n",
       "      <th>ring-type</th>\n",
       "      <th>spore-print-color</th>\n",
       "      <th>population</th>\n",
       "      <th>habitat</th>\n",
       "    </tr>\n",
       "  </thead>\n",
       "  <tbody>\n",
       "    <tr>\n",
       "      <th>0</th>\n",
       "      <td>p</td>\n",
       "      <td>x</td>\n",
       "      <td>s</td>\n",
       "      <td>n</td>\n",
       "      <td>t</td>\n",
       "      <td>p</td>\n",
       "      <td>f</td>\n",
       "      <td>c</td>\n",
       "      <td>n</td>\n",
       "      <td>k</td>\n",
       "      <td>...</td>\n",
       "      <td>s</td>\n",
       "      <td>w</td>\n",
       "      <td>w</td>\n",
       "      <td>p</td>\n",
       "      <td>w</td>\n",
       "      <td>o</td>\n",
       "      <td>p</td>\n",
       "      <td>k</td>\n",
       "      <td>s</td>\n",
       "      <td>u</td>\n",
       "    </tr>\n",
       "    <tr>\n",
       "      <th>1</th>\n",
       "      <td>e</td>\n",
       "      <td>x</td>\n",
       "      <td>s</td>\n",
       "      <td>y</td>\n",
       "      <td>t</td>\n",
       "      <td>a</td>\n",
       "      <td>f</td>\n",
       "      <td>c</td>\n",
       "      <td>b</td>\n",
       "      <td>k</td>\n",
       "      <td>...</td>\n",
       "      <td>s</td>\n",
       "      <td>w</td>\n",
       "      <td>w</td>\n",
       "      <td>p</td>\n",
       "      <td>w</td>\n",
       "      <td>o</td>\n",
       "      <td>p</td>\n",
       "      <td>n</td>\n",
       "      <td>n</td>\n",
       "      <td>g</td>\n",
       "    </tr>\n",
       "    <tr>\n",
       "      <th>2</th>\n",
       "      <td>e</td>\n",
       "      <td>b</td>\n",
       "      <td>s</td>\n",
       "      <td>w</td>\n",
       "      <td>t</td>\n",
       "      <td>l</td>\n",
       "      <td>f</td>\n",
       "      <td>c</td>\n",
       "      <td>b</td>\n",
       "      <td>n</td>\n",
       "      <td>...</td>\n",
       "      <td>s</td>\n",
       "      <td>w</td>\n",
       "      <td>w</td>\n",
       "      <td>p</td>\n",
       "      <td>w</td>\n",
       "      <td>o</td>\n",
       "      <td>p</td>\n",
       "      <td>n</td>\n",
       "      <td>n</td>\n",
       "      <td>m</td>\n",
       "    </tr>\n",
       "    <tr>\n",
       "      <th>3</th>\n",
       "      <td>p</td>\n",
       "      <td>x</td>\n",
       "      <td>y</td>\n",
       "      <td>w</td>\n",
       "      <td>t</td>\n",
       "      <td>p</td>\n",
       "      <td>f</td>\n",
       "      <td>c</td>\n",
       "      <td>n</td>\n",
       "      <td>n</td>\n",
       "      <td>...</td>\n",
       "      <td>s</td>\n",
       "      <td>w</td>\n",
       "      <td>w</td>\n",
       "      <td>p</td>\n",
       "      <td>w</td>\n",
       "      <td>o</td>\n",
       "      <td>p</td>\n",
       "      <td>k</td>\n",
       "      <td>s</td>\n",
       "      <td>u</td>\n",
       "    </tr>\n",
       "    <tr>\n",
       "      <th>4</th>\n",
       "      <td>e</td>\n",
       "      <td>x</td>\n",
       "      <td>s</td>\n",
       "      <td>g</td>\n",
       "      <td>f</td>\n",
       "      <td>n</td>\n",
       "      <td>f</td>\n",
       "      <td>w</td>\n",
       "      <td>b</td>\n",
       "      <td>k</td>\n",
       "      <td>...</td>\n",
       "      <td>s</td>\n",
       "      <td>w</td>\n",
       "      <td>w</td>\n",
       "      <td>p</td>\n",
       "      <td>w</td>\n",
       "      <td>o</td>\n",
       "      <td>e</td>\n",
       "      <td>n</td>\n",
       "      <td>a</td>\n",
       "      <td>g</td>\n",
       "    </tr>\n",
       "  </tbody>\n",
       "</table>\n",
       "<p>5 rows × 23 columns</p>\n",
       "</div>"
      ],
      "text/plain": [
       "  class cap-shape cap-surface cap-color bruises odor gill-attachment  \\\n",
       "0     p         x           s         n       t    p               f   \n",
       "1     e         x           s         y       t    a               f   \n",
       "2     e         b           s         w       t    l               f   \n",
       "3     p         x           y         w       t    p               f   \n",
       "4     e         x           s         g       f    n               f   \n",
       "\n",
       "  gill-spacing gill-size gill-color  ... stalk-surface-below-ring  \\\n",
       "0            c         n          k  ...                        s   \n",
       "1            c         b          k  ...                        s   \n",
       "2            c         b          n  ...                        s   \n",
       "3            c         n          n  ...                        s   \n",
       "4            w         b          k  ...                        s   \n",
       "\n",
       "  stalk-color-above-ring stalk-color-below-ring veil-type veil-color  \\\n",
       "0                      w                      w         p          w   \n",
       "1                      w                      w         p          w   \n",
       "2                      w                      w         p          w   \n",
       "3                      w                      w         p          w   \n",
       "4                      w                      w         p          w   \n",
       "\n",
       "  ring-number ring-type spore-print-color population habitat  \n",
       "0           o         p                 k          s       u  \n",
       "1           o         p                 n          n       g  \n",
       "2           o         p                 n          n       m  \n",
       "3           o         p                 k          s       u  \n",
       "4           o         e                 n          a       g  \n",
       "\n",
       "[5 rows x 23 columns]"
      ]
     },
     "execution_count": 1180,
     "metadata": {},
     "output_type": "execute_result"
    }
   ],
   "source": [
    "mushrooms = pd.read_csv(\"mushrooms.csv\")\n",
    "balanced_dataset= mushrooms.copy()\n",
    "balanced_dataset.head()"
   ]
  },
  {
   "cell_type": "markdown",
   "id": "58ed7655",
   "metadata": {},
   "source": [
    "# Inspecting the Data"
   ]
  },
  {
   "cell_type": "code",
   "execution_count": 1181,
   "id": "b1c73416",
   "metadata": {},
   "outputs": [
    {
     "name": "stdout",
     "output_type": "stream",
     "text": [
      "percentage of class p:  48.20285573609059\n",
      "percentage of class e:  51.7971442639094\n"
     ]
    }
   ],
   "source": [
    "p=(balanced_dataset['class'].value_counts()['p'])/(len(balanced_dataset))*100\n",
    "print('percentage of class p: ',p)\n",
    "e=balanced_dataset['class'].value_counts()['e']/(len(balanced_dataset))*100\n",
    "print('percentage of class e: ',e)"
   ]
  },
  {
   "cell_type": "markdown",
   "id": "0a5b92be",
   "metadata": {},
   "source": [
    "Initially the dataset is balanced. i.e. The target has almost equal percentage of both classes, p and e."
   ]
  },
  {
   "cell_type": "code",
   "execution_count": 1182,
   "id": "85dabd31",
   "metadata": {},
   "outputs": [
    {
     "data": {
      "text/plain": [
       "<AxesSubplot:xlabel='class', ylabel='count'>"
      ]
     },
     "execution_count": 1182,
     "metadata": {},
     "output_type": "execute_result"
    },
    {
     "data": {
      "image/png": "[encoded data removed]",
      "text/plain": [
       "<Figure size 432x288 with 1 Axes>"
      ]
     },
     "metadata": {
      "needs_background": "light"
     },
     "output_type": "display_data"
    }
   ],
   "source": [
    "sns.countplot(x=\"class\", data=balanced_dataset)"
   ]
  },
  {
   "cell_type": "code",
   "execution_count": 1183,
   "id": "05847899",
   "metadata": {},
   "outputs": [
    {
     "name": "stdout",
     "output_type": "stream",
     "text": [
      "<class 'pandas.core.frame.DataFrame'>\n",
      "RangeIndex: 8124 entries, 0 to 8123\n",
      "Data columns (total 23 columns):\n",
      " #   Column                    Non-Null Count  Dtype \n",
      "---  ------                    --------------  ----- \n",
      " 0   class                     8124 non-null   object\n",
      " 1   cap-shape                 8124 non-null   object\n",
      " 2   cap-surface               8124 non-null   object\n",
      " 3   cap-color                 8124 non-null   object\n",
      " 4   bruises                   8124 non-null   object\n",
      " 5   odor                      8124 non-null   object\n",
      " 6   gill-attachment           8124 non-null   object\n",
      " 7   gill-spacing              8124 non-null   object\n",
      " 8   gill-size                 8124 non-null   object\n",
      " 9   gill-color                8124 non-null   object\n",
      " 10  stalk-shape               8124 non-null   object\n",
      " 11  stalk-root                8124 non-null   object\n",
      " 12  stalk-surface-above-ring  8124 non-null   object\n",
      " 13  stalk-surface-below-ring  8124 non-null   object\n",
      " 14  stalk-color-above-ring    8124 non-null   object\n",
      " 15  stalk-color-below-ring    8124 non-null   object\n",
      " 16  veil-type                 8124 non-null   object\n",
      " 17  veil-color                8124 non-null   object\n",
      " 18  ring-number               8124 non-null   object\n",
      " 19  ring-type                 8124 non-null   object\n",
      " 20  spore-print-color         8124 non-null   object\n",
      " 21  population                8124 non-null   object\n",
      " 22  habitat                   8124 non-null   object\n",
      "dtypes: object(23)\n",
      "memory usage: 1.4+ MB\n"
     ]
    }
   ],
   "source": [
    "balanced_dataset.info()"
   ]
  },
  {
   "cell_type": "markdown",
   "id": "7776a010",
   "metadata": {},
   "source": [
    "There are no numerical features,all the columns contains categorical values."
   ]
  },
  {
   "cell_type": "code",
   "execution_count": 1184,
   "id": "03957e10",
   "metadata": {},
   "outputs": [
    {
     "data": {
      "text/plain": [
       "(8124, 23)"
      ]
     },
     "execution_count": 1184,
     "metadata": {},
     "output_type": "execute_result"
    }
   ],
   "source": [
    "balanced_dataset.shape"
   ]
  },
  {
   "cell_type": "markdown",
   "id": "bb7d6bc0",
   "metadata": {},
   "source": [
    "DataSet has 23 columns and 8124 rows.\n",
    "\n"
   ]
  },
  {
   "cell_type": "code",
   "execution_count": 1185,
   "id": "61e36861",
   "metadata": {},
   "outputs": [
    {
     "name": "stdout",
     "output_type": "stream",
     "text": [
      "Null Values in the dataset:  0\n"
     ]
    }
   ],
   "source": [
    "print('Null Values in the dataset: ',balanced_dataset.isnull().sum().sum())"
   ]
  },
  {
   "cell_type": "markdown",
   "id": "66f1f0d7",
   "metadata": {},
   "source": [
    "No column contains the null values."
   ]
  },
  {
   "cell_type": "code",
   "execution_count": 1186,
   "id": "9c27a058",
   "metadata": {},
   "outputs": [
    {
     "name": "stdout",
     "output_type": "stream",
     "text": [
      "Duplicates in the dataset:  0\n"
     ]
    }
   ],
   "source": [
    "print('Duplicates in the dataset: ', balanced_dataset.duplicated().sum())"
   ]
  },
  {
   "cell_type": "markdown",
   "id": "7f405726",
   "metadata": {},
   "source": [
    "No duplicates exists in the dataset."
   ]
  },
  {
   "cell_type": "markdown",
   "id": "03d7cdf7",
   "metadata": {},
   "source": [
    "# Visualizing the Data"
   ]
  },
  {
   "cell_type": "markdown",
   "id": "9735a6b9",
   "metadata": {},
   "source": [
    "Displaying the distribution of features among both classes in terms of percentage.\n",
    "https://medium.com/swlh/how-to-create-percentage-plots-for-visualizing-your-data-in-python-f0d894d7c7bb"
   ]
  },
  {
   "cell_type": "code",
   "execution_count": 1187,
   "id": "539b14c7",
   "metadata": {},
   "outputs": [
    {
     "data": {
      "text/plain": [
       "<seaborn.axisgrid.FacetGrid at 0x22a05ca90d0>"
      ]
     },
     "execution_count": 1187,
     "metadata": {},
     "output_type": "execute_result"
    },
    {
     "data": {
      "image/png": "[encoded data removed]",
      "text/plain": [
       "<Figure size 402.25x360 with 1 Axes>"
      ]
     },
     "metadata": {
      "needs_background": "light"
     },
     "output_type": "display_data"
    }
   ],
   "source": [
    "df_temp = balanced_dataset.groupby('cap-shape')['class'].value_counts(normalize=True)\n",
    "df_temp = df_temp.mul(100).rename('Percent').reset_index()\n",
    "sns.catplot(x='cap-shape', y='Percent', hue='class', kind='bar', data=df_temp)"
   ]
  },
  {
   "cell_type": "markdown",
   "id": "d81328fc",
   "metadata": {},
   "source": [
    "Insight from above graph: Conical-shaped(c) mushrooms are always poisonous while sunken(s) shaped mushrooms are always edible."
   ]
  },
  {
   "cell_type": "code",
   "execution_count": 1188,
   "id": "46718289",
   "metadata": {},
   "outputs": [
    {
     "data": {
      "text/plain": [
       "<seaborn.axisgrid.FacetGrid at 0x22a07ae8700>"
      ]
     },
     "execution_count": 1188,
     "metadata": {},
     "output_type": "execute_result"
    },
    {
     "data": {
      "image/png": "[encoded data removed]",
      "text/plain": [
       "<Figure size 402.25x360 with 1 Axes>"
      ]
     },
     "metadata": {
      "needs_background": "light"
     },
     "output_type": "display_data"
    }
   ],
   "source": [
    "df_temp = balanced_dataset.groupby('cap-surface')['class'].value_counts(normalize=True)\n",
    "df_temp = df_temp.mul(100).rename('Percent').reset_index()\n",
    "sns.catplot(x='cap-surface', y='Percent', hue='class', kind='bar', data=df_temp)"
   ]
  },
  {
   "cell_type": "markdown",
   "id": "ed73d53e",
   "metadata": {},
   "source": [
    "Insight: Grooves(g) cap-surfaced mushrooms are always poisonous."
   ]
  },
  {
   "cell_type": "code",
   "execution_count": 1189,
   "id": "8e4902b8",
   "metadata": {},
   "outputs": [
    {
     "data": {
      "text/plain": [
       "<seaborn.axisgrid.FacetGrid at 0x22a05ca9640>"
      ]
     },
     "execution_count": 1189,
     "metadata": {},
     "output_type": "execute_result"
    },
    {
     "data": {
      "image/png": "[encoded data removed]",
      "text/plain": [
       "<Figure size 402.25x360 with 1 Axes>"
      ]
     },
     "metadata": {
      "needs_background": "light"
     },
     "output_type": "display_data"
    }
   ],
   "source": [
    "df_temp = balanced_dataset.groupby('cap-color')['class'].value_counts(normalize=True)\n",
    "df_temp = df_temp.mul(100).rename('Percent').reset_index()\n",
    "sns.catplot(x='cap-color', y='Percent', hue='class', kind='bar', data=df_temp)"
   ]
  },
  {
   "cell_type": "markdown",
   "id": "7a8de6f9",
   "metadata": {},
   "source": [
    "Insight: Green(r) and purple(u) mushrooms are always edible mushrooms."
   ]
  },
  {
   "cell_type": "code",
   "execution_count": 1190,
   "id": "4273443a",
   "metadata": {},
   "outputs": [
    {
     "data": {
      "text/plain": [
       "<seaborn.axisgrid.FacetGrid at 0x22a05c420a0>"
      ]
     },
     "execution_count": 1190,
     "metadata": {},
     "output_type": "execute_result"
    },
    {
     "data": {
      "image/png": "[encoded data removed]",
      "text/plain": [
       "<Figure size 402.25x360 with 1 Axes>"
      ]
     },
     "metadata": {
      "needs_background": "light"
     },
     "output_type": "display_data"
    }
   ],
   "source": [
    "df_temp = balanced_dataset.groupby('odor')['class'].value_counts(normalize=True)\n",
    "df_temp = df_temp.mul(100).rename('Percent').reset_index()\n",
    "sns.catplot(x='odor', y='Percent', hue='class', kind='bar', data=df_temp)"
   ]
  },
  {
   "cell_type": "markdown",
   "id": "5fc4c0d1",
   "metadata": {},
   "source": [
    "Insight: Almond(a) and Anise(l) odourded mushrooms are always edible while cresosote(c), foul(f), musty(m), pungent(p), spicy(s) and fishy(y) odourded mushrooms are always poisonous."
   ]
  },
  {
   "cell_type": "code",
   "execution_count": 1191,
   "id": "81e27646",
   "metadata": {},
   "outputs": [
    {
     "data": {
      "text/plain": [
       "<seaborn.axisgrid.FacetGrid at 0x22a0788f310>"
      ]
     },
     "execution_count": 1191,
     "metadata": {},
     "output_type": "execute_result"
    },
    {
     "data": {
      "image/png": "[encoded data removed]",
      "text/plain": [
       "<Figure size 402.25x360 with 1 Axes>"
      ]
     },
     "metadata": {
      "needs_background": "light"
     },
     "output_type": "display_data"
    }
   ],
   "source": [
    "df_temp = balanced_dataset.groupby('stalk-root')['class'].value_counts(normalize=True)\n",
    "df_temp = df_temp.mul(100).rename('Percent').reset_index()\n",
    "sns.catplot(x='stalk-root', y='Percent', hue='class', kind='bar', data=df_temp)"
   ]
  },
  {
   "cell_type": "markdown",
   "id": "50f89bc7",
   "metadata": {},
   "source": [
    "Insight: Rooted(r) mushrooms are always edible."
   ]
  },
  {
   "cell_type": "code",
   "execution_count": 1192,
   "id": "65f1d909",
   "metadata": {},
   "outputs": [
    {
     "data": {
      "text/plain": [
       "<seaborn.axisgrid.FacetGrid at 0x22a07af69d0>"
      ]
     },
     "execution_count": 1192,
     "metadata": {},
     "output_type": "execute_result"
    },
    {
     "data": {
      "image/png": "[encoded data removed]",
      "text/plain": [
       "<Figure size 402.25x360 with 1 Axes>"
      ]
     },
     "metadata": {
      "needs_background": "light"
     },
     "output_type": "display_data"
    }
   ],
   "source": [
    "df_temp = balanced_dataset.groupby('stalk-color-above-ring')['class'].value_counts(normalize=True)\n",
    "df_temp = df_temp.mul(100).rename('Percent').reset_index()\n",
    "sns.catplot(x='stalk-color-above-ring', y='Percent', hue='class', kind='bar', data=df_temp)"
   ]
  },
  {
   "cell_type": "markdown",
   "id": "d4831be2",
   "metadata": {},
   "source": [
    "Insight: Mushrooms having stalk-color-above-ring buff(b), cinnamon(c) and yellow(y) are always poisonous while mushrooms having stalk-color-above-ring red(e), grey(g) and orange(o) are always edible."
   ]
  },
  {
   "cell_type": "code",
   "execution_count": 1193,
   "id": "b3258be5",
   "metadata": {},
   "outputs": [
    {
     "data": {
      "text/plain": [
       "<seaborn.axisgrid.FacetGrid at 0x22a08b8c400>"
      ]
     },
     "execution_count": 1193,
     "metadata": {},
     "output_type": "execute_result"
    },
    {
     "data": {
      "image/png": "[encoded data removed]",
      "text/plain": [
       "<Figure size 402.25x360 with 1 Axes>"
      ]
     },
     "metadata": {
      "needs_background": "light"
     },
     "output_type": "display_data"
    }
   ],
   "source": [
    "df_temp = balanced_dataset.groupby('stalk-color-below-ring')['class'].value_counts(normalize=True)\n",
    "df_temp = df_temp.mul(100).rename('Percent').reset_index()\n",
    "sns.catplot(x='stalk-color-below-ring', y='Percent', hue='class', kind='bar', data=df_temp)"
   ]
  },
  {
   "cell_type": "markdown",
   "id": "cbe15ae3",
   "metadata": {},
   "source": [
    "Insight: Mushrooms having stalk-color-below-ring buff(b), cinnamon(c) and yellow(y) are always poisonous while mushrooms having stalk-color-below-ring red(e), grey(g) and orange(o) are always edible."
   ]
  },
  {
   "cell_type": "code",
   "execution_count": 1194,
   "id": "6304f203",
   "metadata": {},
   "outputs": [
    {
     "data": {
      "text/plain": [
       "<seaborn.axisgrid.FacetGrid at 0x22a08be8040>"
      ]
     },
     "execution_count": 1194,
     "metadata": {},
     "output_type": "execute_result"
    },
    {
     "data": {
      "image/png": "[encoded data removed]",
      "text/plain": [
       "<Figure size 402.25x360 with 1 Axes>"
      ]
     },
     "metadata": {
      "needs_background": "light"
     },
     "output_type": "display_data"
    }
   ],
   "source": [
    "df_temp = balanced_dataset.groupby('veil-color')['class'].value_counts(normalize=True)\n",
    "df_temp = df_temp.mul(100).rename('Percent').reset_index()\n",
    "sns.catplot(x='veil-color', y='Percent', hue='class', kind='bar', data=df_temp)"
   ]
  },
  {
   "cell_type": "markdown",
   "id": "64ba978f",
   "metadata": {},
   "source": [
    "Insight: Mushrooms having veil color brown(n) and orange(o) are always edible while mushrooms with yellow(y)-colored veils are always poisonous."
   ]
  },
  {
   "cell_type": "code",
   "execution_count": 1195,
   "id": "cd3008b7",
   "metadata": {},
   "outputs": [
    {
     "data": {
      "text/plain": [
       "<seaborn.axisgrid.FacetGrid at 0x22a09d9b160>"
      ]
     },
     "execution_count": 1195,
     "metadata": {},
     "output_type": "execute_result"
    },
    {
     "data": {
      "image/png": "[encoded data removed]",
      "text/plain": [
       "<Figure size 402.25x360 with 1 Axes>"
      ]
     },
     "metadata": {
      "needs_background": "light"
     },
     "output_type": "display_data"
    }
   ],
   "source": [
    "df_temp = balanced_dataset.groupby('ring-number')['class'].value_counts(normalize=True)\n",
    "df_temp = df_temp.mul(100).rename('Percent').reset_index()\n",
    "sns.catplot(x='ring-number', y='Percent', hue='class', kind='bar', data=df_temp)"
   ]
  },
  {
   "cell_type": "markdown",
   "id": "e318215b",
   "metadata": {},
   "source": [
    "Insight: Mushrooms without rings(n) are always poisonous."
   ]
  },
  {
   "cell_type": "code",
   "execution_count": 1196,
   "id": "8bf011f7",
   "metadata": {},
   "outputs": [
    {
     "data": {
      "text/plain": [
       "<seaborn.axisgrid.FacetGrid at 0x22a09d23670>"
      ]
     },
     "execution_count": 1196,
     "metadata": {},
     "output_type": "execute_result"
    },
    {
     "data": {
      "image/png": "[encoded data removed]",
      "text/plain": [
       "<Figure size 402.25x360 with 1 Axes>"
      ]
     },
     "metadata": {
      "needs_background": "light"
     },
     "output_type": "display_data"
    }
   ],
   "source": [
    "df_temp = balanced_dataset.groupby('ring-type')['class'].value_counts(normalize=True)\n",
    "df_temp = df_temp.mul(100).rename('Percent').reset_index()\n",
    "sns.catplot(x='ring-type', y='Percent', hue='class', kind='bar', data=df_temp)"
   ]
  },
  {
   "cell_type": "markdown",
   "id": "266fa5a8",
   "metadata": {},
   "source": [
    "Insight: Large(l) and none(n) ring-typed mushrooms are always poisonous while rings with flaring(f) type are edibles. "
   ]
  },
  {
   "cell_type": "code",
   "execution_count": 1197,
   "id": "86cdb0b8",
   "metadata": {},
   "outputs": [
    {
     "data": {
      "text/plain": [
       "<seaborn.axisgrid.FacetGrid at 0x22a09f84610>"
      ]
     },
     "execution_count": 1197,
     "metadata": {},
     "output_type": "execute_result"
    },
    {
     "data": {
      "image/png": "[encoded data removed]",
      "text/plain": [
       "<Figure size 402.25x360 with 1 Axes>"
      ]
     },
     "metadata": {
      "needs_background": "light"
     },
     "output_type": "display_data"
    }
   ],
   "source": [
    "df_temp = balanced_dataset.groupby('spore-print-color')['class'].value_counts(normalize=True)\n",
    "df_temp = df_temp.mul(100).rename('Percent').reset_index()\n",
    "sns.catplot(x='spore-print-color', y='Percent', hue='class', kind='bar', data=df_temp)"
   ]
  },
  {
   "cell_type": "markdown",
   "id": "5408f429",
   "metadata": {},
   "source": [
    "Insight: Green(r) spore-printed mushrooms are always poisonous while buff(b), orange(o), purple(u), and yellow(y) are edibles."
   ]
  },
  {
   "cell_type": "code",
   "execution_count": 1198,
   "id": "364edfcf",
   "metadata": {},
   "outputs": [
    {
     "data": {
      "text/plain": [
       "<seaborn.axisgrid.FacetGrid at 0x22a09d9b130>"
      ]
     },
     "execution_count": 1198,
     "metadata": {},
     "output_type": "execute_result"
    },
    {
     "data": {
      "image/png": "[encoded data removed]",
      "text/plain": [
       "<Figure size 402.25x360 with 1 Axes>"
      ]
     },
     "metadata": {
      "needs_background": "light"
     },
     "output_type": "display_data"
    }
   ],
   "source": [
    "df_temp = balanced_dataset.groupby('population')['class'].value_counts(normalize=True)\n",
    "df_temp = df_temp.mul(100).rename('Percent').reset_index()\n",
    "sns.catplot(x='population', y='Percent', hue='class', kind='bar', data=df_temp)"
   ]
  },
  {
   "cell_type": "markdown",
   "id": "c59afe13",
   "metadata": {},
   "source": [
    "Insight: Abundantly(a) and numerously(n) populated mushrooms are always edible mushrooms."
   ]
  },
  {
   "cell_type": "code",
   "execution_count": 1199,
   "id": "1ec8d195",
   "metadata": {},
   "outputs": [
    {
     "data": {
      "text/plain": [
       "<seaborn.axisgrid.FacetGrid at 0x22a0a0fd2e0>"
      ]
     },
     "execution_count": 1199,
     "metadata": {},
     "output_type": "execute_result"
    },
    {
     "data": {
      "image/png": "[encoded data removed]",
      "text/plain": [
       "<Figure size 402.25x360 with 1 Axes>"
      ]
     },
     "metadata": {
      "needs_background": "light"
     },
     "output_type": "display_data"
    }
   ],
   "source": [
    "df_temp = balanced_dataset.groupby('habitat')['class'].value_counts(normalize=True)\n",
    "df_temp = df_temp.mul(100).rename('Percent').reset_index()\n",
    "sns.catplot(x='habitat', y='Percent', hue='class', kind='bar', data=df_temp)"
   ]
  },
  {
   "cell_type": "markdown",
   "id": "172b1748",
   "metadata": {},
   "source": [
    "Insight: Mushrooms that exist in waste(w) are always edible."
   ]
  },
  {
   "cell_type": "code",
   "execution_count": 1200,
   "id": "0f426cfb",
   "metadata": {},
   "outputs": [
    {
     "data": {
      "text/plain": [
       "<seaborn.axisgrid.FacetGrid at 0x22a0a1b7580>"
      ]
     },
     "execution_count": 1200,
     "metadata": {},
     "output_type": "execute_result"
    },
    {
     "data": {
      "image/png": "[encoded data removed]",
      "text/plain": [
       "<Figure size 402.25x360 with 1 Axes>"
      ]
     },
     "metadata": {
      "needs_background": "light"
     },
     "output_type": "display_data"
    }
   ],
   "source": [
    "df_temp = balanced_dataset.groupby('veil-type')['class'].value_counts(normalize=True)\n",
    "df_temp = df_temp.mul(100).rename('Percent').reset_index()\n",
    "sns.catplot(x='veil-type', y='Percent', hue='class', kind='bar', data=df_temp)"
   ]
  },
  {
   "cell_type": "markdown",
   "id": "bb25a276",
   "metadata": {},
   "source": [
    "Veil type has only one unique value p which is predicting edible and poisonous almost same number of times, so this feature is not much informative and we can drop it."
   ]
  },
  {
   "cell_type": "markdown",
   "id": "c2f7cbec",
   "metadata": {},
   "source": [
    "# Data pre-processing"
   ]
  },
  {
   "cell_type": "code",
   "execution_count": 1201,
   "id": "3a61d7e3",
   "metadata": {},
   "outputs": [
    {
     "name": "stdout",
     "output_type": "stream",
     "text": [
      "Total Unique Values among all features:  117\n"
     ]
    }
   ],
   "source": [
    "features=['cap-shape','cap-surface','cap-color','bruises','odor','gill-attachment','gill-spacing','gill-size','gill-color','stalk-shape','stalk-root','stalk-surface-above-ring','stalk-surface-below-ring','stalk-color-above-ring','stalk-color-below-ring','veil-type','veil-color','ring-number','ring-type','spore-print-color','population','habitat']\n",
    "unique_values=0\n",
    "for i in range(len(features)):\n",
    "    unique_values=unique_values+len(balanced_dataset[features[i]].unique())\n",
    "print('Total Unique Values among all features: ',unique_values)"
   ]
  },
  {
   "cell_type": "markdown",
   "id": "326d4c27",
   "metadata": {},
   "source": [
    "On observing the features, it can be seen that the features contains nominal values. i.e. they cannot be ranked so we cannot perform ordinal encoding.Therefore, we are going to perform the one hot encoding."
   ]
  },
  {
   "cell_type": "code",
   "execution_count": 1202,
   "id": "b346f11d",
   "metadata": {
    "scrolled": true
   },
   "outputs": [
    {
     "data": {
      "text/html": [
       "<div>\n",
       "<style scoped>\n",
       "    .dataframe tbody tr th:only-of-type {\n",
       "        vertical-align: middle;\n",
       "    }\n",
       "\n",
       "    .dataframe tbody tr th {\n",
       "        vertical-align: top;\n",
       "    }\n",
       "\n",
       "    .dataframe thead th {\n",
       "        text-align: right;\n",
       "    }\n",
       "</style>\n",
       "<table border=\"1\" class=\"dataframe\">\n",
       "  <thead>\n",
       "    <tr style=\"text-align: right;\">\n",
       "      <th></th>\n",
       "      <th>cap-shape_b</th>\n",
       "      <th>cap-shape_c</th>\n",
       "      <th>cap-shape_f</th>\n",
       "      <th>cap-shape_k</th>\n",
       "      <th>cap-shape_s</th>\n",
       "      <th>cap-shape_x</th>\n",
       "      <th>cap-surface_f</th>\n",
       "      <th>cap-surface_g</th>\n",
       "      <th>cap-surface_s</th>\n",
       "      <th>cap-surface_y</th>\n",
       "      <th>...</th>\n",
       "      <th>population_s</th>\n",
       "      <th>population_v</th>\n",
       "      <th>population_y</th>\n",
       "      <th>habitat_d</th>\n",
       "      <th>habitat_g</th>\n",
       "      <th>habitat_l</th>\n",
       "      <th>habitat_m</th>\n",
       "      <th>habitat_p</th>\n",
       "      <th>habitat_u</th>\n",
       "      <th>habitat_w</th>\n",
       "    </tr>\n",
       "  </thead>\n",
       "  <tbody>\n",
       "    <tr>\n",
       "      <th>0</th>\n",
       "      <td>0</td>\n",
       "      <td>0</td>\n",
       "      <td>0</td>\n",
       "      <td>0</td>\n",
       "      <td>0</td>\n",
       "      <td>1</td>\n",
       "      <td>0</td>\n",
       "      <td>0</td>\n",
       "      <td>1</td>\n",
       "      <td>0</td>\n",
       "      <td>...</td>\n",
       "      <td>1</td>\n",
       "      <td>0</td>\n",
       "      <td>0</td>\n",
       "      <td>0</td>\n",
       "      <td>0</td>\n",
       "      <td>0</td>\n",
       "      <td>0</td>\n",
       "      <td>0</td>\n",
       "      <td>1</td>\n",
       "      <td>0</td>\n",
       "    </tr>\n",
       "    <tr>\n",
       "      <th>1</th>\n",
       "      <td>0</td>\n",
       "      <td>0</td>\n",
       "      <td>0</td>\n",
       "      <td>0</td>\n",
       "      <td>0</td>\n",
       "      <td>1</td>\n",
       "      <td>0</td>\n",
       "      <td>0</td>\n",
       "      <td>1</td>\n",
       "      <td>0</td>\n",
       "      <td>...</td>\n",
       "      <td>0</td>\n",
       "      <td>0</td>\n",
       "      <td>0</td>\n",
       "      <td>0</td>\n",
       "      <td>1</td>\n",
       "      <td>0</td>\n",
       "      <td>0</td>\n",
       "      <td>0</td>\n",
       "      <td>0</td>\n",
       "      <td>0</td>\n",
       "    </tr>\n",
       "    <tr>\n",
       "      <th>2</th>\n",
       "      <td>1</td>\n",
       "      <td>0</td>\n",
       "      <td>0</td>\n",
       "      <td>0</td>\n",
       "      <td>0</td>\n",
       "      <td>0</td>\n",
       "      <td>0</td>\n",
       "      <td>0</td>\n",
       "      <td>1</td>\n",
       "      <td>0</td>\n",
       "      <td>...</td>\n",
       "      <td>0</td>\n",
       "      <td>0</td>\n",
       "      <td>0</td>\n",
       "      <td>0</td>\n",
       "      <td>0</td>\n",
       "      <td>0</td>\n",
       "      <td>1</td>\n",
       "      <td>0</td>\n",
       "      <td>0</td>\n",
       "      <td>0</td>\n",
       "    </tr>\n",
       "    <tr>\n",
       "      <th>3</th>\n",
       "      <td>0</td>\n",
       "      <td>0</td>\n",
       "      <td>0</td>\n",
       "      <td>0</td>\n",
       "      <td>0</td>\n",
       "      <td>1</td>\n",
       "      <td>0</td>\n",
       "      <td>0</td>\n",
       "      <td>0</td>\n",
       "      <td>1</td>\n",
       "      <td>...</td>\n",
       "      <td>1</td>\n",
       "      <td>0</td>\n",
       "      <td>0</td>\n",
       "      <td>0</td>\n",
       "      <td>0</td>\n",
       "      <td>0</td>\n",
       "      <td>0</td>\n",
       "      <td>0</td>\n",
       "      <td>1</td>\n",
       "      <td>0</td>\n",
       "    </tr>\n",
       "    <tr>\n",
       "      <th>4</th>\n",
       "      <td>0</td>\n",
       "      <td>0</td>\n",
       "      <td>0</td>\n",
       "      <td>0</td>\n",
       "      <td>0</td>\n",
       "      <td>1</td>\n",
       "      <td>0</td>\n",
       "      <td>0</td>\n",
       "      <td>1</td>\n",
       "      <td>0</td>\n",
       "      <td>...</td>\n",
       "      <td>0</td>\n",
       "      <td>0</td>\n",
       "      <td>0</td>\n",
       "      <td>0</td>\n",
       "      <td>1</td>\n",
       "      <td>0</td>\n",
       "      <td>0</td>\n",
       "      <td>0</td>\n",
       "      <td>0</td>\n",
       "      <td>0</td>\n",
       "    </tr>\n",
       "  </tbody>\n",
       "</table>\n",
       "<p>5 rows × 117 columns</p>\n",
       "</div>"
      ],
      "text/plain": [
       "   cap-shape_b  cap-shape_c  cap-shape_f  cap-shape_k  cap-shape_s  \\\n",
       "0            0            0            0            0            0   \n",
       "1            0            0            0            0            0   \n",
       "2            1            0            0            0            0   \n",
       "3            0            0            0            0            0   \n",
       "4            0            0            0            0            0   \n",
       "\n",
       "   cap-shape_x  cap-surface_f  cap-surface_g  cap-surface_s  cap-surface_y  \\\n",
       "0            1              0              0              1              0   \n",
       "1            1              0              0              1              0   \n",
       "2            0              0              0              1              0   \n",
       "3            1              0              0              0              1   \n",
       "4            1              0              0              1              0   \n",
       "\n",
       "   ...  population_s  population_v  population_y  habitat_d  habitat_g  \\\n",
       "0  ...             1             0             0          0          0   \n",
       "1  ...             0             0             0          0          1   \n",
       "2  ...             0             0             0          0          0   \n",
       "3  ...             1             0             0          0          0   \n",
       "4  ...             0             0             0          0          1   \n",
       "\n",
       "   habitat_l  habitat_m  habitat_p  habitat_u  habitat_w  \n",
       "0          0          0          0          1          0  \n",
       "1          0          0          0          0          0  \n",
       "2          0          1          0          0          0  \n",
       "3          0          0          0          1          0  \n",
       "4          0          0          0          0          0  \n",
       "\n",
       "[5 rows x 117 columns]"
      ]
     },
     "execution_count": 1202,
     "metadata": {},
     "output_type": "execute_result"
    }
   ],
   "source": [
    "X_balanced_dataset = pd.get_dummies(balanced_dataset[features]) # get dummies\n",
    "X_balanced_dataset.head()"
   ]
  },
  {
   "cell_type": "markdown",
   "id": "b7133b2a",
   "metadata": {},
   "source": [
    "We will be performing label encoding on the target column to convert the values to numerical form."
   ]
  },
  {
   "cell_type": "code",
   "execution_count": 1203,
   "id": "ed81de5c",
   "metadata": {},
   "outputs": [
    {
     "data": {
      "text/plain": [
       "array([1, 0, 0, ..., 0, 1, 0])"
      ]
     },
     "execution_count": 1203,
     "metadata": {},
     "output_type": "execute_result"
    }
   ],
   "source": [
    "Y_balanced_dataset=balanced_dataset['class'].copy()\n",
    "encoder=LabelEncoder()\n",
    "Y_balanced_dataset=encoder.fit_transform(Y_balanced_dataset)\n",
    "Y_balanced_dataset\n",
    "#poisonous=1, edible=0"
   ]
  },
  {
   "cell_type": "markdown",
   "id": "df5169a6",
   "metadata": {},
   "source": [
    "Now we need to make a copy by concatenating features and labels both into a single dataframe, so that we can use it while creating the surrogates."
   ]
  },
  {
   "cell_type": "code",
   "execution_count": 1204,
   "id": "86f9766f",
   "metadata": {},
   "outputs": [
    {
     "data": {
      "text/html": [
       "<div>\n",
       "<style scoped>\n",
       "    .dataframe tbody tr th:only-of-type {\n",
       "        vertical-align: middle;\n",
       "    }\n",
       "\n",
       "    .dataframe tbody tr th {\n",
       "        vertical-align: top;\n",
       "    }\n",
       "\n",
       "    .dataframe thead th {\n",
       "        text-align: right;\n",
       "    }\n",
       "</style>\n",
       "<table border=\"1\" class=\"dataframe\">\n",
       "  <thead>\n",
       "    <tr style=\"text-align: right;\">\n",
       "      <th></th>\n",
       "      <th>cap-shape_b</th>\n",
       "      <th>cap-shape_c</th>\n",
       "      <th>cap-shape_f</th>\n",
       "      <th>cap-shape_k</th>\n",
       "      <th>cap-shape_s</th>\n",
       "      <th>cap-shape_x</th>\n",
       "      <th>cap-surface_f</th>\n",
       "      <th>cap-surface_g</th>\n",
       "      <th>cap-surface_s</th>\n",
       "      <th>cap-surface_y</th>\n",
       "      <th>...</th>\n",
       "      <th>population_v</th>\n",
       "      <th>population_y</th>\n",
       "      <th>habitat_d</th>\n",
       "      <th>habitat_g</th>\n",
       "      <th>habitat_l</th>\n",
       "      <th>habitat_m</th>\n",
       "      <th>habitat_p</th>\n",
       "      <th>habitat_u</th>\n",
       "      <th>habitat_w</th>\n",
       "      <th>class</th>\n",
       "    </tr>\n",
       "  </thead>\n",
       "  <tbody>\n",
       "    <tr>\n",
       "      <th>0</th>\n",
       "      <td>0</td>\n",
       "      <td>0</td>\n",
       "      <td>0</td>\n",
       "      <td>0</td>\n",
       "      <td>0</td>\n",
       "      <td>1</td>\n",
       "      <td>0</td>\n",
       "      <td>0</td>\n",
       "      <td>1</td>\n",
       "      <td>0</td>\n",
       "      <td>...</td>\n",
       "      <td>0</td>\n",
       "      <td>0</td>\n",
       "      <td>0</td>\n",
       "      <td>0</td>\n",
       "      <td>0</td>\n",
       "      <td>0</td>\n",
       "      <td>0</td>\n",
       "      <td>1</td>\n",
       "      <td>0</td>\n",
       "      <td>1</td>\n",
       "    </tr>\n",
       "    <tr>\n",
       "      <th>1</th>\n",
       "      <td>0</td>\n",
       "      <td>0</td>\n",
       "      <td>0</td>\n",
       "      <td>0</td>\n",
       "      <td>0</td>\n",
       "      <td>1</td>\n",
       "      <td>0</td>\n",
       "      <td>0</td>\n",
       "      <td>1</td>\n",
       "      <td>0</td>\n",
       "      <td>...</td>\n",
       "      <td>0</td>\n",
       "      <td>0</td>\n",
       "      <td>0</td>\n",
       "      <td>1</td>\n",
       "      <td>0</td>\n",
       "      <td>0</td>\n",
       "      <td>0</td>\n",
       "      <td>0</td>\n",
       "      <td>0</td>\n",
       "      <td>0</td>\n",
       "    </tr>\n",
       "    <tr>\n",
       "      <th>2</th>\n",
       "      <td>1</td>\n",
       "      <td>0</td>\n",
       "      <td>0</td>\n",
       "      <td>0</td>\n",
       "      <td>0</td>\n",
       "      <td>0</td>\n",
       "      <td>0</td>\n",
       "      <td>0</td>\n",
       "      <td>1</td>\n",
       "      <td>0</td>\n",
       "      <td>...</td>\n",
       "      <td>0</td>\n",
       "      <td>0</td>\n",
       "      <td>0</td>\n",
       "      <td>0</td>\n",
       "      <td>0</td>\n",
       "      <td>1</td>\n",
       "      <td>0</td>\n",
       "      <td>0</td>\n",
       "      <td>0</td>\n",
       "      <td>0</td>\n",
       "    </tr>\n",
       "    <tr>\n",
       "      <th>3</th>\n",
       "      <td>0</td>\n",
       "      <td>0</td>\n",
       "      <td>0</td>\n",
       "      <td>0</td>\n",
       "      <td>0</td>\n",
       "      <td>1</td>\n",
       "      <td>0</td>\n",
       "      <td>0</td>\n",
       "      <td>0</td>\n",
       "      <td>1</td>\n",
       "      <td>...</td>\n",
       "      <td>0</td>\n",
       "      <td>0</td>\n",
       "      <td>0</td>\n",
       "      <td>0</td>\n",
       "      <td>0</td>\n",
       "      <td>0</td>\n",
       "      <td>0</td>\n",
       "      <td>1</td>\n",
       "      <td>0</td>\n",
       "      <td>1</td>\n",
       "    </tr>\n",
       "    <tr>\n",
       "      <th>4</th>\n",
       "      <td>0</td>\n",
       "      <td>0</td>\n",
       "      <td>0</td>\n",
       "      <td>0</td>\n",
       "      <td>0</td>\n",
       "      <td>1</td>\n",
       "      <td>0</td>\n",
       "      <td>0</td>\n",
       "      <td>1</td>\n",
       "      <td>0</td>\n",
       "      <td>...</td>\n",
       "      <td>0</td>\n",
       "      <td>0</td>\n",
       "      <td>0</td>\n",
       "      <td>1</td>\n",
       "      <td>0</td>\n",
       "      <td>0</td>\n",
       "      <td>0</td>\n",
       "      <td>0</td>\n",
       "      <td>0</td>\n",
       "      <td>0</td>\n",
       "    </tr>\n",
       "  </tbody>\n",
       "</table>\n",
       "<p>5 rows × 118 columns</p>\n",
       "</div>"
      ],
      "text/plain": [
       "   cap-shape_b  cap-shape_c  cap-shape_f  cap-shape_k  cap-shape_s  \\\n",
       "0            0            0            0            0            0   \n",
       "1            0            0            0            0            0   \n",
       "2            1            0            0            0            0   \n",
       "3            0            0            0            0            0   \n",
       "4            0            0            0            0            0   \n",
       "\n",
       "   cap-shape_x  cap-surface_f  cap-surface_g  cap-surface_s  cap-surface_y  \\\n",
       "0            1              0              0              1              0   \n",
       "1            1              0              0              1              0   \n",
       "2            0              0              0              1              0   \n",
       "3            1              0              0              0              1   \n",
       "4            1              0              0              1              0   \n",
       "\n",
       "   ...  population_v  population_y  habitat_d  habitat_g  habitat_l  \\\n",
       "0  ...             0             0          0          0          0   \n",
       "1  ...             0             0          0          1          0   \n",
       "2  ...             0             0          0          0          0   \n",
       "3  ...             0             0          0          0          0   \n",
       "4  ...             0             0          0          1          0   \n",
       "\n",
       "   habitat_m  habitat_p  habitat_u  habitat_w  class  \n",
       "0          0          0          1          0      1  \n",
       "1          0          0          0          0      0  \n",
       "2          1          0          0          0      0  \n",
       "3          0          0          1          0      1  \n",
       "4          0          0          0          0      0  \n",
       "\n",
       "[5 rows x 118 columns]"
      ]
     },
     "execution_count": 1204,
     "metadata": {},
     "output_type": "execute_result"
    }
   ],
   "source": [
    "balanced_dataset=X_balanced_dataset.copy()\n",
    "balanced_dataset['class']=Y_balanced_dataset.tolist()\n",
    "balanced_dataset.head()"
   ]
  },
  {
   "cell_type": "code",
   "execution_count": 1205,
   "id": "40e14add",
   "metadata": {},
   "outputs": [
    {
     "name": "stdout",
     "output_type": "stream",
     "text": [
      "Duplicates in the dataset:  0\n"
     ]
    }
   ],
   "source": [
    "print('Duplicates in the dataset: ', balanced_dataset.duplicated().sum())"
   ]
  },
  {
   "cell_type": "markdown",
   "id": "eee3fdeb",
   "metadata": {},
   "source": [
    "# Creating a Surrogate achieving low Imbalance"
   ]
  },
  {
   "cell_type": "code",
   "execution_count": 1206,
   "id": "cac4f1d9",
   "metadata": {},
   "outputs": [
    {
     "data": {
      "text/html": [
       "<div>\n",
       "<style scoped>\n",
       "    .dataframe tbody tr th:only-of-type {\n",
       "        vertical-align: middle;\n",
       "    }\n",
       "\n",
       "    .dataframe tbody tr th {\n",
       "        vertical-align: top;\n",
       "    }\n",
       "\n",
       "    .dataframe thead th {\n",
       "        text-align: right;\n",
       "    }\n",
       "</style>\n",
       "<table border=\"1\" class=\"dataframe\">\n",
       "  <thead>\n",
       "    <tr style=\"text-align: right;\">\n",
       "      <th></th>\n",
       "      <th>cap-shape_b</th>\n",
       "      <th>cap-shape_c</th>\n",
       "      <th>cap-shape_f</th>\n",
       "      <th>cap-shape_k</th>\n",
       "      <th>cap-shape_s</th>\n",
       "      <th>cap-shape_x</th>\n",
       "      <th>cap-surface_f</th>\n",
       "      <th>cap-surface_g</th>\n",
       "      <th>cap-surface_s</th>\n",
       "      <th>cap-surface_y</th>\n",
       "      <th>...</th>\n",
       "      <th>population_v</th>\n",
       "      <th>population_y</th>\n",
       "      <th>habitat_d</th>\n",
       "      <th>habitat_g</th>\n",
       "      <th>habitat_l</th>\n",
       "      <th>habitat_m</th>\n",
       "      <th>habitat_p</th>\n",
       "      <th>habitat_u</th>\n",
       "      <th>habitat_w</th>\n",
       "      <th>class</th>\n",
       "    </tr>\n",
       "  </thead>\n",
       "  <tbody>\n",
       "    <tr>\n",
       "      <th>0</th>\n",
       "      <td>0</td>\n",
       "      <td>0</td>\n",
       "      <td>0</td>\n",
       "      <td>0</td>\n",
       "      <td>0</td>\n",
       "      <td>1</td>\n",
       "      <td>0</td>\n",
       "      <td>0</td>\n",
       "      <td>1</td>\n",
       "      <td>0</td>\n",
       "      <td>...</td>\n",
       "      <td>0</td>\n",
       "      <td>0</td>\n",
       "      <td>0</td>\n",
       "      <td>0</td>\n",
       "      <td>0</td>\n",
       "      <td>0</td>\n",
       "      <td>0</td>\n",
       "      <td>1</td>\n",
       "      <td>0</td>\n",
       "      <td>1</td>\n",
       "    </tr>\n",
       "    <tr>\n",
       "      <th>3</th>\n",
       "      <td>0</td>\n",
       "      <td>0</td>\n",
       "      <td>0</td>\n",
       "      <td>0</td>\n",
       "      <td>0</td>\n",
       "      <td>1</td>\n",
       "      <td>0</td>\n",
       "      <td>0</td>\n",
       "      <td>0</td>\n",
       "      <td>1</td>\n",
       "      <td>...</td>\n",
       "      <td>0</td>\n",
       "      <td>0</td>\n",
       "      <td>0</td>\n",
       "      <td>0</td>\n",
       "      <td>0</td>\n",
       "      <td>0</td>\n",
       "      <td>0</td>\n",
       "      <td>1</td>\n",
       "      <td>0</td>\n",
       "      <td>1</td>\n",
       "    </tr>\n",
       "    <tr>\n",
       "      <th>8</th>\n",
       "      <td>0</td>\n",
       "      <td>0</td>\n",
       "      <td>0</td>\n",
       "      <td>0</td>\n",
       "      <td>0</td>\n",
       "      <td>1</td>\n",
       "      <td>0</td>\n",
       "      <td>0</td>\n",
       "      <td>0</td>\n",
       "      <td>1</td>\n",
       "      <td>...</td>\n",
       "      <td>1</td>\n",
       "      <td>0</td>\n",
       "      <td>0</td>\n",
       "      <td>1</td>\n",
       "      <td>0</td>\n",
       "      <td>0</td>\n",
       "      <td>0</td>\n",
       "      <td>0</td>\n",
       "      <td>0</td>\n",
       "      <td>1</td>\n",
       "    </tr>\n",
       "    <tr>\n",
       "      <th>13</th>\n",
       "      <td>0</td>\n",
       "      <td>0</td>\n",
       "      <td>0</td>\n",
       "      <td>0</td>\n",
       "      <td>0</td>\n",
       "      <td>1</td>\n",
       "      <td>0</td>\n",
       "      <td>0</td>\n",
       "      <td>0</td>\n",
       "      <td>1</td>\n",
       "      <td>...</td>\n",
       "      <td>1</td>\n",
       "      <td>0</td>\n",
       "      <td>0</td>\n",
       "      <td>0</td>\n",
       "      <td>0</td>\n",
       "      <td>0</td>\n",
       "      <td>0</td>\n",
       "      <td>1</td>\n",
       "      <td>0</td>\n",
       "      <td>1</td>\n",
       "    </tr>\n",
       "    <tr>\n",
       "      <th>17</th>\n",
       "      <td>0</td>\n",
       "      <td>0</td>\n",
       "      <td>0</td>\n",
       "      <td>0</td>\n",
       "      <td>0</td>\n",
       "      <td>1</td>\n",
       "      <td>0</td>\n",
       "      <td>0</td>\n",
       "      <td>1</td>\n",
       "      <td>0</td>\n",
       "      <td>...</td>\n",
       "      <td>0</td>\n",
       "      <td>0</td>\n",
       "      <td>0</td>\n",
       "      <td>1</td>\n",
       "      <td>0</td>\n",
       "      <td>0</td>\n",
       "      <td>0</td>\n",
       "      <td>0</td>\n",
       "      <td>0</td>\n",
       "      <td>1</td>\n",
       "    </tr>\n",
       "  </tbody>\n",
       "</table>\n",
       "<p>5 rows × 118 columns</p>\n",
       "</div>"
      ],
      "text/plain": [
       "    cap-shape_b  cap-shape_c  cap-shape_f  cap-shape_k  cap-shape_s  \\\n",
       "0             0            0            0            0            0   \n",
       "3             0            0            0            0            0   \n",
       "8             0            0            0            0            0   \n",
       "13            0            0            0            0            0   \n",
       "17            0            0            0            0            0   \n",
       "\n",
       "    cap-shape_x  cap-surface_f  cap-surface_g  cap-surface_s  cap-surface_y  \\\n",
       "0             1              0              0              1              0   \n",
       "3             1              0              0              0              1   \n",
       "8             1              0              0              0              1   \n",
       "13            1              0              0              0              1   \n",
       "17            1              0              0              1              0   \n",
       "\n",
       "    ...  population_v  population_y  habitat_d  habitat_g  habitat_l  \\\n",
       "0   ...             0             0          0          0          0   \n",
       "3   ...             0             0          0          0          0   \n",
       "8   ...             1             0          0          1          0   \n",
       "13  ...             1             0          0          0          0   \n",
       "17  ...             0             0          0          1          0   \n",
       "\n",
       "    habitat_m  habitat_p  habitat_u  habitat_w  class  \n",
       "0           0          0          1          0      1  \n",
       "3           0          0          1          0      1  \n",
       "8           0          0          0          0      1  \n",
       "13          0          0          1          0      1  \n",
       "17          0          0          0          0      1  \n",
       "\n",
       "[5 rows x 118 columns]"
      ]
     },
     "execution_count": 1206,
     "metadata": {},
     "output_type": "execute_result"
    }
   ],
   "source": [
    "e=balanced_dataset[balanced_dataset['class'] == 0] \n",
    "p=balanced_dataset[balanced_dataset['class'] == 1] #majority class poisonous represented by 1\n",
    "e= e.sample(replace=False,  n=2109, random_state=1) #minority class edible represented by 0\n",
    "Imbalanced_dataset_low=pd.concat([p, e])\n",
    "Imbalanced_dataset_low.head()"
   ]
  },
  {
   "cell_type": "code",
   "execution_count": 1207,
   "id": "2003ff63",
   "metadata": {},
   "outputs": [
    {
     "name": "stdout",
     "output_type": "stream",
     "text": [
      "percentage of class p:  65\n",
      "percentage of class e:  35\n"
     ]
    }
   ],
   "source": [
    "p=(Imbalanced_dataset_low['class'].value_counts()[1])/(len(Imbalanced_dataset_low))*100\n",
    "print('percentage of class p: ',round(p))\n",
    "e=Imbalanced_dataset_low['class'].value_counts()[0]/(len(Imbalanced_dataset_low))*100\n",
    "print('percentage of class e: ',round(e))"
   ]
  },
  {
   "cell_type": "code",
   "execution_count": 1208,
   "id": "78b47a26",
   "metadata": {},
   "outputs": [
    {
     "data": {
      "text/plain": [
       "<AxesSubplot:xlabel='class', ylabel='count'>"
      ]
     },
     "execution_count": 1208,
     "metadata": {},
     "output_type": "execute_result"
    },
    {
     "data": {
      "image/png": "[encoded data removed]",
      "text/plain": [
       "<Figure size 432x288 with 1 Axes>"
      ]
     },
     "metadata": {
      "needs_background": "light"
     },
     "output_type": "display_data"
    }
   ],
   "source": [
    "sns.countplot(x=\"class\", data=Imbalanced_dataset_low)"
   ]
  },
  {
   "cell_type": "code",
   "execution_count": 1209,
   "id": "be6fc8af",
   "metadata": {},
   "outputs": [
    {
     "data": {
      "text/plain": [
       "(6025, 118)"
      ]
     },
     "execution_count": 1209,
     "metadata": {},
     "output_type": "execute_result"
    }
   ],
   "source": [
    "Imbalanced_dataset_low.shape"
   ]
  },
  {
   "cell_type": "markdown",
   "id": "18827661",
   "metadata": {},
   "source": [
    "Low Surrogate dataset has 6025 rows and same number of columns as in balanced dataset."
   ]
  },
  {
   "cell_type": "code",
   "execution_count": 1210,
   "id": "91c8d00d",
   "metadata": {},
   "outputs": [
    {
     "name": "stdout",
     "output_type": "stream",
     "text": [
      "Duplicates in the dataset:  0\n"
     ]
    }
   ],
   "source": [
    "print('Duplicates in the dataset: ', Imbalanced_dataset_low.duplicated().sum())"
   ]
  },
  {
   "cell_type": "markdown",
   "id": "bfc3dc5f",
   "metadata": {},
   "source": [
    "Duplicates are checked to ensure that there was no duplication while randomly sub-sampling from the e class."
   ]
  },
  {
   "cell_type": "code",
   "execution_count": 1211,
   "id": "47e73b20",
   "metadata": {},
   "outputs": [],
   "source": [
    "X_Imbalanced_dataset_low=Imbalanced_dataset_low.drop(columns=['class'])\n",
    "Y_Imbalanced_dataset_low=Imbalanced_dataset_low['class'].copy()"
   ]
  },
  {
   "cell_type": "markdown",
   "id": "49402de5",
   "metadata": {},
   "source": [
    "Features and target label are separated in the above piece of code."
   ]
  },
  {
   "cell_type": "markdown",
   "id": "60a3ce29",
   "metadata": {},
   "source": [
    "# Creating a Surrogate achieving Medium Imbalance"
   ]
  },
  {
   "cell_type": "code",
   "execution_count": 1212,
   "id": "6e84508d",
   "metadata": {},
   "outputs": [
    {
     "data": {
      "text/html": [
       "<div>\n",
       "<style scoped>\n",
       "    .dataframe tbody tr th:only-of-type {\n",
       "        vertical-align: middle;\n",
       "    }\n",
       "\n",
       "    .dataframe tbody tr th {\n",
       "        vertical-align: top;\n",
       "    }\n",
       "\n",
       "    .dataframe thead th {\n",
       "        text-align: right;\n",
       "    }\n",
       "</style>\n",
       "<table border=\"1\" class=\"dataframe\">\n",
       "  <thead>\n",
       "    <tr style=\"text-align: right;\">\n",
       "      <th></th>\n",
       "      <th>cap-shape_b</th>\n",
       "      <th>cap-shape_c</th>\n",
       "      <th>cap-shape_f</th>\n",
       "      <th>cap-shape_k</th>\n",
       "      <th>cap-shape_s</th>\n",
       "      <th>cap-shape_x</th>\n",
       "      <th>cap-surface_f</th>\n",
       "      <th>cap-surface_g</th>\n",
       "      <th>cap-surface_s</th>\n",
       "      <th>cap-surface_y</th>\n",
       "      <th>...</th>\n",
       "      <th>population_v</th>\n",
       "      <th>population_y</th>\n",
       "      <th>habitat_d</th>\n",
       "      <th>habitat_g</th>\n",
       "      <th>habitat_l</th>\n",
       "      <th>habitat_m</th>\n",
       "      <th>habitat_p</th>\n",
       "      <th>habitat_u</th>\n",
       "      <th>habitat_w</th>\n",
       "      <th>class</th>\n",
       "    </tr>\n",
       "  </thead>\n",
       "  <tbody>\n",
       "    <tr>\n",
       "      <th>0</th>\n",
       "      <td>0</td>\n",
       "      <td>0</td>\n",
       "      <td>0</td>\n",
       "      <td>0</td>\n",
       "      <td>0</td>\n",
       "      <td>1</td>\n",
       "      <td>0</td>\n",
       "      <td>0</td>\n",
       "      <td>1</td>\n",
       "      <td>0</td>\n",
       "      <td>...</td>\n",
       "      <td>0</td>\n",
       "      <td>0</td>\n",
       "      <td>0</td>\n",
       "      <td>0</td>\n",
       "      <td>0</td>\n",
       "      <td>0</td>\n",
       "      <td>0</td>\n",
       "      <td>1</td>\n",
       "      <td>0</td>\n",
       "      <td>1</td>\n",
       "    </tr>\n",
       "    <tr>\n",
       "      <th>3</th>\n",
       "      <td>0</td>\n",
       "      <td>0</td>\n",
       "      <td>0</td>\n",
       "      <td>0</td>\n",
       "      <td>0</td>\n",
       "      <td>1</td>\n",
       "      <td>0</td>\n",
       "      <td>0</td>\n",
       "      <td>0</td>\n",
       "      <td>1</td>\n",
       "      <td>...</td>\n",
       "      <td>0</td>\n",
       "      <td>0</td>\n",
       "      <td>0</td>\n",
       "      <td>0</td>\n",
       "      <td>0</td>\n",
       "      <td>0</td>\n",
       "      <td>0</td>\n",
       "      <td>1</td>\n",
       "      <td>0</td>\n",
       "      <td>1</td>\n",
       "    </tr>\n",
       "    <tr>\n",
       "      <th>8</th>\n",
       "      <td>0</td>\n",
       "      <td>0</td>\n",
       "      <td>0</td>\n",
       "      <td>0</td>\n",
       "      <td>0</td>\n",
       "      <td>1</td>\n",
       "      <td>0</td>\n",
       "      <td>0</td>\n",
       "      <td>0</td>\n",
       "      <td>1</td>\n",
       "      <td>...</td>\n",
       "      <td>1</td>\n",
       "      <td>0</td>\n",
       "      <td>0</td>\n",
       "      <td>1</td>\n",
       "      <td>0</td>\n",
       "      <td>0</td>\n",
       "      <td>0</td>\n",
       "      <td>0</td>\n",
       "      <td>0</td>\n",
       "      <td>1</td>\n",
       "    </tr>\n",
       "    <tr>\n",
       "      <th>13</th>\n",
       "      <td>0</td>\n",
       "      <td>0</td>\n",
       "      <td>0</td>\n",
       "      <td>0</td>\n",
       "      <td>0</td>\n",
       "      <td>1</td>\n",
       "      <td>0</td>\n",
       "      <td>0</td>\n",
       "      <td>0</td>\n",
       "      <td>1</td>\n",
       "      <td>...</td>\n",
       "      <td>1</td>\n",
       "      <td>0</td>\n",
       "      <td>0</td>\n",
       "      <td>0</td>\n",
       "      <td>0</td>\n",
       "      <td>0</td>\n",
       "      <td>0</td>\n",
       "      <td>1</td>\n",
       "      <td>0</td>\n",
       "      <td>1</td>\n",
       "    </tr>\n",
       "    <tr>\n",
       "      <th>17</th>\n",
       "      <td>0</td>\n",
       "      <td>0</td>\n",
       "      <td>0</td>\n",
       "      <td>0</td>\n",
       "      <td>0</td>\n",
       "      <td>1</td>\n",
       "      <td>0</td>\n",
       "      <td>0</td>\n",
       "      <td>1</td>\n",
       "      <td>0</td>\n",
       "      <td>...</td>\n",
       "      <td>0</td>\n",
       "      <td>0</td>\n",
       "      <td>0</td>\n",
       "      <td>1</td>\n",
       "      <td>0</td>\n",
       "      <td>0</td>\n",
       "      <td>0</td>\n",
       "      <td>0</td>\n",
       "      <td>0</td>\n",
       "      <td>1</td>\n",
       "    </tr>\n",
       "  </tbody>\n",
       "</table>\n",
       "<p>5 rows × 118 columns</p>\n",
       "</div>"
      ],
      "text/plain": [
       "    cap-shape_b  cap-shape_c  cap-shape_f  cap-shape_k  cap-shape_s  \\\n",
       "0             0            0            0            0            0   \n",
       "3             0            0            0            0            0   \n",
       "8             0            0            0            0            0   \n",
       "13            0            0            0            0            0   \n",
       "17            0            0            0            0            0   \n",
       "\n",
       "    cap-shape_x  cap-surface_f  cap-surface_g  cap-surface_s  cap-surface_y  \\\n",
       "0             1              0              0              1              0   \n",
       "3             1              0              0              0              1   \n",
       "8             1              0              0              0              1   \n",
       "13            1              0              0              0              1   \n",
       "17            1              0              0              1              0   \n",
       "\n",
       "    ...  population_v  population_y  habitat_d  habitat_g  habitat_l  \\\n",
       "0   ...             0             0          0          0          0   \n",
       "3   ...             0             0          0          0          0   \n",
       "8   ...             1             0          0          1          0   \n",
       "13  ...             1             0          0          0          0   \n",
       "17  ...             0             0          0          1          0   \n",
       "\n",
       "    habitat_m  habitat_p  habitat_u  habitat_w  class  \n",
       "0           0          0          1          0      1  \n",
       "3           0          0          1          0      1  \n",
       "8           0          0          0          0      1  \n",
       "13          0          0          1          0      1  \n",
       "17          0          0          0          0      1  \n",
       "\n",
       "[5 rows x 118 columns]"
      ]
     },
     "execution_count": 1212,
     "metadata": {},
     "output_type": "execute_result"
    }
   ],
   "source": [
    "p=balanced_dataset[balanced_dataset['class'] == 1] #majority class poisonous represented by 1\n",
    "e=balanced_dataset[balanced_dataset['class'] == 0] #minority class edible represented by 0\n",
    "e= e.sample(replace=False,  n=1307, random_state=1) \n",
    "Imbalanced_dataset_med=pd.concat([p, e])\n",
    "Imbalanced_dataset_med.head()"
   ]
  },
  {
   "cell_type": "code",
   "execution_count": 1213,
   "id": "e6adb685",
   "metadata": {},
   "outputs": [
    {
     "name": "stdout",
     "output_type": "stream",
     "text": [
      "percentage of class p:  75\n",
      "percentage of class e:  25\n"
     ]
    }
   ],
   "source": [
    "p=(Imbalanced_dataset_med['class'].value_counts()[1])/(len(Imbalanced_dataset_med))*100\n",
    "print('percentage of class p: ',round(p))\n",
    "e=Imbalanced_dataset_med['class'].value_counts()[0]/(len(Imbalanced_dataset_med))*100\n",
    "print('percentage of class e: ',round(e))"
   ]
  },
  {
   "cell_type": "code",
   "execution_count": 1214,
   "id": "83f31053",
   "metadata": {},
   "outputs": [
    {
     "data": {
      "text/plain": [
       "<AxesSubplot:xlabel='class', ylabel='count'>"
      ]
     },
     "execution_count": 1214,
     "metadata": {},
     "output_type": "execute_result"
    },
    {
     "data": {
      "image/png": "[encoded data removed]",
      "text/plain": [
       "<Figure size 432x288 with 1 Axes>"
      ]
     },
     "metadata": {
      "needs_background": "light"
     },
     "output_type": "display_data"
    }
   ],
   "source": [
    "sns.countplot(x=\"class\", data=Imbalanced_dataset_med)"
   ]
  },
  {
   "cell_type": "code",
   "execution_count": 1215,
   "id": "7858b4c0",
   "metadata": {},
   "outputs": [
    {
     "data": {
      "text/plain": [
       "(5223, 118)"
      ]
     },
     "execution_count": 1215,
     "metadata": {},
     "output_type": "execute_result"
    }
   ],
   "source": [
    "Imbalanced_dataset_med.shape"
   ]
  },
  {
   "cell_type": "markdown",
   "id": "b44e0e85",
   "metadata": {},
   "source": [
    "Med Surrogate dataset has 5223 rows and same number of columns as in balanced dataset."
   ]
  },
  {
   "cell_type": "code",
   "execution_count": 1216,
   "id": "cd8b3e5e",
   "metadata": {},
   "outputs": [
    {
     "name": "stdout",
     "output_type": "stream",
     "text": [
      "Duplicates in the dataset:  0\n"
     ]
    }
   ],
   "source": [
    "print('Duplicates in the dataset: ', Imbalanced_dataset_med.duplicated().sum())"
   ]
  },
  {
   "cell_type": "markdown",
   "id": "47fea721",
   "metadata": {},
   "source": [
    "Duplicates are checked to ensure that there was no duplication while randomly sub-sampling from the e class."
   ]
  },
  {
   "cell_type": "code",
   "execution_count": 1217,
   "id": "9c6b225b",
   "metadata": {},
   "outputs": [],
   "source": [
    "X_Imbalanced_dataset_med=Imbalanced_dataset_med.drop(columns=['class'])\n",
    "Y_Imbalanced_dataset_med=Imbalanced_dataset_med['class'].copy()"
   ]
  },
  {
   "cell_type": "markdown",
   "id": "296875b9",
   "metadata": {},
   "source": [
    "Features and target label are separated in the above piece of code."
   ]
  },
  {
   "cell_type": "markdown",
   "id": "bd978773",
   "metadata": {},
   "source": [
    "# Creating a Surrogate achieving High Imbalance"
   ]
  },
  {
   "cell_type": "code",
   "execution_count": 1218,
   "id": "26bede56",
   "metadata": {},
   "outputs": [
    {
     "data": {
      "text/html": [
       "<div>\n",
       "<style scoped>\n",
       "    .dataframe tbody tr th:only-of-type {\n",
       "        vertical-align: middle;\n",
       "    }\n",
       "\n",
       "    .dataframe tbody tr th {\n",
       "        vertical-align: top;\n",
       "    }\n",
       "\n",
       "    .dataframe thead th {\n",
       "        text-align: right;\n",
       "    }\n",
       "</style>\n",
       "<table border=\"1\" class=\"dataframe\">\n",
       "  <thead>\n",
       "    <tr style=\"text-align: right;\">\n",
       "      <th></th>\n",
       "      <th>cap-shape_b</th>\n",
       "      <th>cap-shape_c</th>\n",
       "      <th>cap-shape_f</th>\n",
       "      <th>cap-shape_k</th>\n",
       "      <th>cap-shape_s</th>\n",
       "      <th>cap-shape_x</th>\n",
       "      <th>cap-surface_f</th>\n",
       "      <th>cap-surface_g</th>\n",
       "      <th>cap-surface_s</th>\n",
       "      <th>cap-surface_y</th>\n",
       "      <th>...</th>\n",
       "      <th>population_v</th>\n",
       "      <th>population_y</th>\n",
       "      <th>habitat_d</th>\n",
       "      <th>habitat_g</th>\n",
       "      <th>habitat_l</th>\n",
       "      <th>habitat_m</th>\n",
       "      <th>habitat_p</th>\n",
       "      <th>habitat_u</th>\n",
       "      <th>habitat_w</th>\n",
       "      <th>class</th>\n",
       "    </tr>\n",
       "  </thead>\n",
       "  <tbody>\n",
       "    <tr>\n",
       "      <th>0</th>\n",
       "      <td>0</td>\n",
       "      <td>0</td>\n",
       "      <td>0</td>\n",
       "      <td>0</td>\n",
       "      <td>0</td>\n",
       "      <td>1</td>\n",
       "      <td>0</td>\n",
       "      <td>0</td>\n",
       "      <td>1</td>\n",
       "      <td>0</td>\n",
       "      <td>...</td>\n",
       "      <td>0</td>\n",
       "      <td>0</td>\n",
       "      <td>0</td>\n",
       "      <td>0</td>\n",
       "      <td>0</td>\n",
       "      <td>0</td>\n",
       "      <td>0</td>\n",
       "      <td>1</td>\n",
       "      <td>0</td>\n",
       "      <td>1</td>\n",
       "    </tr>\n",
       "    <tr>\n",
       "      <th>3</th>\n",
       "      <td>0</td>\n",
       "      <td>0</td>\n",
       "      <td>0</td>\n",
       "      <td>0</td>\n",
       "      <td>0</td>\n",
       "      <td>1</td>\n",
       "      <td>0</td>\n",
       "      <td>0</td>\n",
       "      <td>0</td>\n",
       "      <td>1</td>\n",
       "      <td>...</td>\n",
       "      <td>0</td>\n",
       "      <td>0</td>\n",
       "      <td>0</td>\n",
       "      <td>0</td>\n",
       "      <td>0</td>\n",
       "      <td>0</td>\n",
       "      <td>0</td>\n",
       "      <td>1</td>\n",
       "      <td>0</td>\n",
       "      <td>1</td>\n",
       "    </tr>\n",
       "    <tr>\n",
       "      <th>8</th>\n",
       "      <td>0</td>\n",
       "      <td>0</td>\n",
       "      <td>0</td>\n",
       "      <td>0</td>\n",
       "      <td>0</td>\n",
       "      <td>1</td>\n",
       "      <td>0</td>\n",
       "      <td>0</td>\n",
       "      <td>0</td>\n",
       "      <td>1</td>\n",
       "      <td>...</td>\n",
       "      <td>1</td>\n",
       "      <td>0</td>\n",
       "      <td>0</td>\n",
       "      <td>1</td>\n",
       "      <td>0</td>\n",
       "      <td>0</td>\n",
       "      <td>0</td>\n",
       "      <td>0</td>\n",
       "      <td>0</td>\n",
       "      <td>1</td>\n",
       "    </tr>\n",
       "    <tr>\n",
       "      <th>13</th>\n",
       "      <td>0</td>\n",
       "      <td>0</td>\n",
       "      <td>0</td>\n",
       "      <td>0</td>\n",
       "      <td>0</td>\n",
       "      <td>1</td>\n",
       "      <td>0</td>\n",
       "      <td>0</td>\n",
       "      <td>0</td>\n",
       "      <td>1</td>\n",
       "      <td>...</td>\n",
       "      <td>1</td>\n",
       "      <td>0</td>\n",
       "      <td>0</td>\n",
       "      <td>0</td>\n",
       "      <td>0</td>\n",
       "      <td>0</td>\n",
       "      <td>0</td>\n",
       "      <td>1</td>\n",
       "      <td>0</td>\n",
       "      <td>1</td>\n",
       "    </tr>\n",
       "    <tr>\n",
       "      <th>17</th>\n",
       "      <td>0</td>\n",
       "      <td>0</td>\n",
       "      <td>0</td>\n",
       "      <td>0</td>\n",
       "      <td>0</td>\n",
       "      <td>1</td>\n",
       "      <td>0</td>\n",
       "      <td>0</td>\n",
       "      <td>1</td>\n",
       "      <td>0</td>\n",
       "      <td>...</td>\n",
       "      <td>0</td>\n",
       "      <td>0</td>\n",
       "      <td>0</td>\n",
       "      <td>1</td>\n",
       "      <td>0</td>\n",
       "      <td>0</td>\n",
       "      <td>0</td>\n",
       "      <td>0</td>\n",
       "      <td>0</td>\n",
       "      <td>1</td>\n",
       "    </tr>\n",
       "  </tbody>\n",
       "</table>\n",
       "<p>5 rows × 118 columns</p>\n",
       "</div>"
      ],
      "text/plain": [
       "    cap-shape_b  cap-shape_c  cap-shape_f  cap-shape_k  cap-shape_s  \\\n",
       "0             0            0            0            0            0   \n",
       "3             0            0            0            0            0   \n",
       "8             0            0            0            0            0   \n",
       "13            0            0            0            0            0   \n",
       "17            0            0            0            0            0   \n",
       "\n",
       "    cap-shape_x  cap-surface_f  cap-surface_g  cap-surface_s  cap-surface_y  \\\n",
       "0             1              0              0              1              0   \n",
       "3             1              0              0              0              1   \n",
       "8             1              0              0              0              1   \n",
       "13            1              0              0              0              1   \n",
       "17            1              0              0              1              0   \n",
       "\n",
       "    ...  population_v  population_y  habitat_d  habitat_g  habitat_l  \\\n",
       "0   ...             0             0          0          0          0   \n",
       "3   ...             0             0          0          0          0   \n",
       "8   ...             1             0          0          1          0   \n",
       "13  ...             1             0          0          0          0   \n",
       "17  ...             0             0          0          1          0   \n",
       "\n",
       "    habitat_m  habitat_p  habitat_u  habitat_w  class  \n",
       "0           0          0          1          0      1  \n",
       "3           0          0          1          0      1  \n",
       "8           0          0          0          0      1  \n",
       "13          0          0          1          0      1  \n",
       "17          0          0          0          0      1  \n",
       "\n",
       "[5 rows x 118 columns]"
      ]
     },
     "execution_count": 1218,
     "metadata": {},
     "output_type": "execute_result"
    }
   ],
   "source": [
    "p=balanced_dataset[balanced_dataset['class'] == 1] #majority class poisonous represented by 1\n",
    "e=balanced_dataset[balanced_dataset['class'] == 0] #minority class edible represented by 0\n",
    "e= e.sample(replace=False,  n=436, random_state=1) \n",
    "Imbalanced_dataset_high=pd.concat([p, e])\n",
    "Imbalanced_dataset_high.head()"
   ]
  },
  {
   "cell_type": "code",
   "execution_count": 1219,
   "id": "869cb2ab",
   "metadata": {},
   "outputs": [
    {
     "name": "stdout",
     "output_type": "stream",
     "text": [
      "percentage of class p:  90\n",
      "percentage of class e:  10\n"
     ]
    }
   ],
   "source": [
    "p=(Imbalanced_dataset_high['class'].value_counts()[1])/(len(Imbalanced_dataset_high))*100\n",
    "print('percentage of class p: ',round(p))\n",
    "e=Imbalanced_dataset_high['class'].value_counts()[0]/(len(Imbalanced_dataset_high))*100\n",
    "print('percentage of class e: ',round(e))"
   ]
  },
  {
   "cell_type": "code",
   "execution_count": 1220,
   "id": "ec0eac96",
   "metadata": {},
   "outputs": [
    {
     "data": {
      "text/plain": [
       "<AxesSubplot:xlabel='class', ylabel='count'>"
      ]
     },
     "execution_count": 1220,
     "metadata": {},
     "output_type": "execute_result"
    },
    {
     "data": {
      "image/png": "[encoded data removed]",
      "text/plain": [
       "<Figure size 432x288 with 1 Axes>"
      ]
     },
     "metadata": {
      "needs_background": "light"
     },
     "output_type": "display_data"
    }
   ],
   "source": [
    "sns.countplot(x=\"class\", data=Imbalanced_dataset_high)"
   ]
  },
  {
   "cell_type": "code",
   "execution_count": 1221,
   "id": "78e9929a",
   "metadata": {},
   "outputs": [
    {
     "data": {
      "text/plain": [
       "(4352, 118)"
      ]
     },
     "execution_count": 1221,
     "metadata": {},
     "output_type": "execute_result"
    }
   ],
   "source": [
    "Imbalanced_dataset_high.shape"
   ]
  },
  {
   "cell_type": "markdown",
   "id": "af80b5de",
   "metadata": {},
   "source": [
    "Med Surrogate dataset has 4352 rows and same number of columns as in balanced dataset."
   ]
  },
  {
   "cell_type": "code",
   "execution_count": 1222,
   "id": "73b08385",
   "metadata": {},
   "outputs": [
    {
     "name": "stdout",
     "output_type": "stream",
     "text": [
      "Duplicates in the dataset:  0\n"
     ]
    }
   ],
   "source": [
    "print('Duplicates in the dataset: ', Imbalanced_dataset_high.duplicated().sum())"
   ]
  },
  {
   "cell_type": "markdown",
   "id": "2d715574",
   "metadata": {},
   "source": [
    "Duplicates are checked to ensure that there was no duplication while randomly sub-sampling from the e class."
   ]
  },
  {
   "cell_type": "code",
   "execution_count": 1223,
   "id": "1c6b5a82",
   "metadata": {},
   "outputs": [],
   "source": [
    "X_Imbalanced_dataset_high=Imbalanced_dataset_high.drop(columns=['class'])\n",
    "Y_Imbalanced_dataset_high=Imbalanced_dataset_high['class'].copy()"
   ]
  },
  {
   "cell_type": "markdown",
   "id": "178683df",
   "metadata": {},
   "source": [
    "Features and target label are separated in the above piece of code."
   ]
  }
 ],
 "metadata": {
  "kernelspec": {
   "display_name": "Python 3 (ipykernel)",
   "language": "python",
   "name": "python3"
  },
  "language_info": {
   "codemirror_mode": {
    "name": "ipython",
    "version": 3
   },
   "file_extension": ".py",
   "mimetype": "text/x-python",
   "name": "python",
   "nbconvert_exporter": "python",
   "pygments_lexer": "ipython3",
   "version": "3.9.7"
  }
 },
 "nbformat": 4,
 "nbformat_minor": 5
}
