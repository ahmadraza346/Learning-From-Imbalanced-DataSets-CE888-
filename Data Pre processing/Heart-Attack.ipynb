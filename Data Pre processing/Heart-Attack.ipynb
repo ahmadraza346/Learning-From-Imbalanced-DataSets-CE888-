{
 "cells": [
  {
   "cell_type": "markdown",
   "id": "2910bb79",
   "metadata": {},
   "source": [
    "# Libraries"
   ]
  },
  {
   "cell_type": "code",
   "execution_count": 121,
   "id": "a5bcccfe",
   "metadata": {},
   "outputs": [],
   "source": [
    "import pandas as pd\n",
    "import numpy as np\n",
    "import seaborn as sns\n",
    "import numpy as np\n",
    "import matplotlib.pyplot as plt\n",
    "from sklearn.preprocessing import LabelEncoder,OneHotEncoder\n",
    "from sklearn.compose import ColumnTransformer\n",
    "from sklearn.ensemble import RandomForestClassifier\n",
    "from sklearn.model_selection import cross_val_score\n",
    "from sklearn.metrics import make_scorer, accuracy_score, f1_score, precision_score, recall_score\n",
    "from sklearn.model_selection import StratifiedKFold"
   ]
  },
  {
   "cell_type": "markdown",
   "id": "68702aaf",
   "metadata": {},
   "source": [
    "# Loading the DataSet"
   ]
  },
  {
   "cell_type": "markdown",
   "id": "9a3b852a",
   "metadata": {},
   "source": [
    "https://www.kaggle.com/rashikrahmanpritom/heart-attack-analysis-prediction-dataset"
   ]
  },
  {
   "cell_type": "code",
   "execution_count": 122,
   "id": "bb915751",
   "metadata": {},
   "outputs": [
    {
     "data": {
      "text/html": [
       "<div>\n",
       "<style scoped>\n",
       "    .dataframe tbody tr th:only-of-type {\n",
       "        vertical-align: middle;\n",
       "    }\n",
       "\n",
       "    .dataframe tbody tr th {\n",
       "        vertical-align: top;\n",
       "    }\n",
       "\n",
       "    .dataframe thead th {\n",
       "        text-align: right;\n",
       "    }\n",
       "</style>\n",
       "<table border=\"1\" class=\"dataframe\">\n",
       "  <thead>\n",
       "    <tr style=\"text-align: right;\">\n",
       "      <th></th>\n",
       "      <th>age</th>\n",
       "      <th>sex</th>\n",
       "      <th>cp</th>\n",
       "      <th>trtbps</th>\n",
       "      <th>chol</th>\n",
       "      <th>fbs</th>\n",
       "      <th>restecg</th>\n",
       "      <th>thalachh</th>\n",
       "      <th>exng</th>\n",
       "      <th>oldpeak</th>\n",
       "      <th>slp</th>\n",
       "      <th>caa</th>\n",
       "      <th>thall</th>\n",
       "      <th>output</th>\n",
       "    </tr>\n",
       "  </thead>\n",
       "  <tbody>\n",
       "    <tr>\n",
       "      <th>0</th>\n",
       "      <td>63</td>\n",
       "      <td>1</td>\n",
       "      <td>3</td>\n",
       "      <td>145</td>\n",
       "      <td>233</td>\n",
       "      <td>1</td>\n",
       "      <td>0</td>\n",
       "      <td>150</td>\n",
       "      <td>0</td>\n",
       "      <td>2.3</td>\n",
       "      <td>0</td>\n",
       "      <td>0</td>\n",
       "      <td>1</td>\n",
       "      <td>1</td>\n",
       "    </tr>\n",
       "    <tr>\n",
       "      <th>1</th>\n",
       "      <td>37</td>\n",
       "      <td>1</td>\n",
       "      <td>2</td>\n",
       "      <td>130</td>\n",
       "      <td>250</td>\n",
       "      <td>0</td>\n",
       "      <td>1</td>\n",
       "      <td>187</td>\n",
       "      <td>0</td>\n",
       "      <td>3.5</td>\n",
       "      <td>0</td>\n",
       "      <td>0</td>\n",
       "      <td>2</td>\n",
       "      <td>1</td>\n",
       "    </tr>\n",
       "    <tr>\n",
       "      <th>2</th>\n",
       "      <td>41</td>\n",
       "      <td>0</td>\n",
       "      <td>1</td>\n",
       "      <td>130</td>\n",
       "      <td>204</td>\n",
       "      <td>0</td>\n",
       "      <td>0</td>\n",
       "      <td>172</td>\n",
       "      <td>0</td>\n",
       "      <td>1.4</td>\n",
       "      <td>2</td>\n",
       "      <td>0</td>\n",
       "      <td>2</td>\n",
       "      <td>1</td>\n",
       "    </tr>\n",
       "    <tr>\n",
       "      <th>3</th>\n",
       "      <td>56</td>\n",
       "      <td>1</td>\n",
       "      <td>1</td>\n",
       "      <td>120</td>\n",
       "      <td>236</td>\n",
       "      <td>0</td>\n",
       "      <td>1</td>\n",
       "      <td>178</td>\n",
       "      <td>0</td>\n",
       "      <td>0.8</td>\n",
       "      <td>2</td>\n",
       "      <td>0</td>\n",
       "      <td>2</td>\n",
       "      <td>1</td>\n",
       "    </tr>\n",
       "    <tr>\n",
       "      <th>4</th>\n",
       "      <td>57</td>\n",
       "      <td>0</td>\n",
       "      <td>0</td>\n",
       "      <td>120</td>\n",
       "      <td>354</td>\n",
       "      <td>0</td>\n",
       "      <td>1</td>\n",
       "      <td>163</td>\n",
       "      <td>1</td>\n",
       "      <td>0.6</td>\n",
       "      <td>2</td>\n",
       "      <td>0</td>\n",
       "      <td>2</td>\n",
       "      <td>1</td>\n",
       "    </tr>\n",
       "  </tbody>\n",
       "</table>\n",
       "</div>"
      ],
      "text/plain": [
       "   age  sex  cp  trtbps  chol  fbs  restecg  thalachh  exng  oldpeak  slp  \\\n",
       "0   63    1   3     145   233    1        0       150     0      2.3    0   \n",
       "1   37    1   2     130   250    0        1       187     0      3.5    0   \n",
       "2   41    0   1     130   204    0        0       172     0      1.4    2   \n",
       "3   56    1   1     120   236    0        1       178     0      0.8    2   \n",
       "4   57    0   0     120   354    0        1       163     1      0.6    2   \n",
       "\n",
       "   caa  thall  output  \n",
       "0    0      1       1  \n",
       "1    0      2       1  \n",
       "2    0      2       1  \n",
       "3    0      2       1  \n",
       "4    0      2       1  "
      ]
     },
     "execution_count": 122,
     "metadata": {},
     "output_type": "execute_result"
    }
   ],
   "source": [
    "gender = pd.read_csv(\"heart.csv\")\n",
    "balanced_dataset= gender.copy()\n",
    "balanced_dataset.head()"
   ]
  },
  {
   "cell_type": "markdown",
   "id": "5810ee11",
   "metadata": {},
   "source": [
    "# Inspecting the Data"
   ]
  },
  {
   "cell_type": "code",
   "execution_count": 123,
   "id": "e88a1c4f",
   "metadata": {},
   "outputs": [
    {
     "name": "stdout",
     "output_type": "stream",
     "text": [
      "percentage of more chance of heart attacks:  54.45544554455446\n",
      "percentage of less chance of heart attacks:  45.54455445544555\n"
     ]
    }
   ],
   "source": [
    "H=(balanced_dataset['output'].value_counts()[1])/(len(balanced_dataset))*100\n",
    "print('percentage of more chance of heart attacks: ',H)\n",
    "N=balanced_dataset['output'].value_counts()[0]/(len(balanced_dataset))*100\n",
    "print('percentage of less chance of heart attacks: ',N)"
   ]
  },
  {
   "cell_type": "markdown",
   "id": "c8869d03",
   "metadata": {},
   "source": [
    "Initially the dataset is almost balanced with a negligible ratio of imbalance."
   ]
  },
  {
   "cell_type": "code",
   "execution_count": 124,
   "id": "bd21e69d",
   "metadata": {},
   "outputs": [
    {
     "data": {
      "text/plain": [
       "<AxesSubplot:xlabel='output', ylabel='count'>"
      ]
     },
     "execution_count": 124,
     "metadata": {},
     "output_type": "execute_result"
    },
    {
     "data": {
      "image/png": "[encoded data removed]",
      "text/plain": [
       "<Figure size 432x288 with 1 Axes>"
      ]
     },
     "metadata": {
      "needs_background": "light"
     },
     "output_type": "display_data"
    }
   ],
   "source": [
    "sns.countplot(x=\"output\", data=balanced_dataset)"
   ]
  },
  {
   "cell_type": "code",
   "execution_count": 125,
   "id": "f96702a9",
   "metadata": {},
   "outputs": [
    {
     "name": "stdout",
     "output_type": "stream",
     "text": [
      "<class 'pandas.core.frame.DataFrame'>\n",
      "RangeIndex: 303 entries, 0 to 302\n",
      "Data columns (total 14 columns):\n",
      " #   Column    Non-Null Count  Dtype  \n",
      "---  ------    --------------  -----  \n",
      " 0   age       303 non-null    int64  \n",
      " 1   sex       303 non-null    int64  \n",
      " 2   cp        303 non-null    int64  \n",
      " 3   trtbps    303 non-null    int64  \n",
      " 4   chol      303 non-null    int64  \n",
      " 5   fbs       303 non-null    int64  \n",
      " 6   restecg   303 non-null    int64  \n",
      " 7   thalachh  303 non-null    int64  \n",
      " 8   exng      303 non-null    int64  \n",
      " 9   oldpeak   303 non-null    float64\n",
      " 10  slp       303 non-null    int64  \n",
      " 11  caa       303 non-null    int64  \n",
      " 12  thall     303 non-null    int64  \n",
      " 13  output    303 non-null    int64  \n",
      "dtypes: float64(1), int64(13)\n",
      "memory usage: 33.3 KB\n"
     ]
    }
   ],
   "source": [
    "balanced_dataset.info()"
   ]
  },
  {
   "cell_type": "markdown",
   "id": "63f92611",
   "metadata": {},
   "source": [
    "Appeantly,there are no categorical features,all the columns contains numerical values."
   ]
  },
  {
   "cell_type": "code",
   "execution_count": 126,
   "id": "7659eb52",
   "metadata": {},
   "outputs": [
    {
     "data": {
      "text/plain": [
       "(303, 14)"
      ]
     },
     "execution_count": 126,
     "metadata": {},
     "output_type": "execute_result"
    }
   ],
   "source": [
    "balanced_dataset.shape"
   ]
  },
  {
   "cell_type": "markdown",
   "id": "1686b3ae",
   "metadata": {},
   "source": [
    "DataSet has 14 columns and 303 rows.\n",
    "\n"
   ]
  },
  {
   "cell_type": "code",
   "execution_count": 127,
   "id": "1d13e68e",
   "metadata": {},
   "outputs": [
    {
     "name": "stdout",
     "output_type": "stream",
     "text": [
      "Null Values in the dataset:  0\n"
     ]
    }
   ],
   "source": [
    "print('Null Values in the dataset: ',balanced_dataset.isnull().sum().sum())"
   ]
  },
  {
   "cell_type": "markdown",
   "id": "2c1fb2ab",
   "metadata": {},
   "source": [
    "No column contains the null values."
   ]
  },
  {
   "cell_type": "code",
   "execution_count": 128,
   "id": "bf77c5bf",
   "metadata": {},
   "outputs": [
    {
     "name": "stdout",
     "output_type": "stream",
     "text": [
      "Duplicates in the dataset:  1\n"
     ]
    }
   ],
   "source": [
    "print('Duplicates in the dataset: ', balanced_dataset.duplicated().sum())"
   ]
  },
  {
   "cell_type": "markdown",
   "id": "b5296eb2",
   "metadata": {},
   "source": [
    "There is only one duplicate row in the dataset so we have to drop it in the pre-processing step."
   ]
  },
  {
   "cell_type": "markdown",
   "id": "06b50f3f",
   "metadata": {},
   "source": [
    "# Visualizing the Data"
   ]
  },
  {
   "cell_type": "code",
   "execution_count": 129,
   "id": "6a04a2c5",
   "metadata": {},
   "outputs": [
    {
     "data": {
      "image/png": "[encoded data removed]",
      "text/plain": [
       "<Figure size 1440x1080 with 16 Axes>"
      ]
     },
     "metadata": {
      "needs_background": "light"
     },
     "output_type": "display_data"
    }
   ],
   "source": [
    "_ = balanced_dataset.hist(bins=50, figsize=(20,15))"
   ]
  },
  {
   "cell_type": "markdown",
   "id": "733f78b9",
   "metadata": {},
   "source": [
    "'sex', 'cp', 'fbs', 'restecg', 'exng', 'slp', 'caa', 'thall' appear to be numerical features but they are categorical features.\n",
    "For other features, it seems that data is skewed so there is a possibility of outliers present. We will explore this further in the next section.\n"
   ]
  },
  {
   "cell_type": "code",
   "execution_count": 130,
   "id": "e272e903",
   "metadata": {},
   "outputs": [],
   "source": [
    "numerical_features=['age','trtbps','chol','thalachh','oldpeak']\n",
    "categorical_features=['sex', 'cp', 'fbs', 'restecg', 'exng', 'slp', 'caa', 'thall']"
   ]
  },
  {
   "cell_type": "markdown",
   "id": "cc789b86",
   "metadata": {},
   "source": [
    "# Exploring the Numerical Features"
   ]
  },
  {
   "cell_type": "markdown",
   "id": "37441840",
   "metadata": {},
   "source": [
    "Lets visualize the numerical data with the help of boxplots to get some insights about outliers and quartiles."
   ]
  },
  {
   "cell_type": "code",
   "execution_count": 131,
   "id": "f5d0992b",
   "metadata": {},
   "outputs": [
    {
     "data": {
      "text/plain": [
       "<AxesSubplot:>"
      ]
     },
     "execution_count": 131,
     "metadata": {},
     "output_type": "execute_result"
    },
    {
     "data": {
      "image/png": "[encoded data removed]",
      "text/plain": [
       "<Figure size 432x288 with 1 Axes>"
      ]
     },
     "metadata": {
      "needs_background": "light"
     },
     "output_type": "display_data"
    }
   ],
   "source": [
    "balanced_dataset[numerical_features].boxplot()"
   ]
  },
  {
   "cell_type": "code",
   "execution_count": 132,
   "id": "99cda30f",
   "metadata": {},
   "outputs": [
    {
     "data": {
      "text/plain": [
       "<AxesSubplot:xlabel='age'>"
      ]
     },
     "execution_count": 132,
     "metadata": {},
     "output_type": "execute_result"
    },
    {
     "data": {
      "image/png": "[encoded data removed]",
      "text/plain": [
       "<Figure size 432x288 with 1 Axes>"
      ]
     },
     "metadata": {
      "needs_background": "light"
     },
     "output_type": "display_data"
    }
   ],
   "source": [
    "sns.boxplot(x='age', data=balanced_dataset)"
   ]
  },
  {
   "cell_type": "markdown",
   "id": "14c93795",
   "metadata": {},
   "source": [
    "Appearantly, the age feature has no outliers."
   ]
  },
  {
   "cell_type": "code",
   "execution_count": 133,
   "id": "8b04a36b",
   "metadata": {},
   "outputs": [
    {
     "data": {
      "text/plain": [
       "<AxesSubplot:xlabel='trtbps'>"
      ]
     },
     "execution_count": 133,
     "metadata": {},
     "output_type": "execute_result"
    },
    {
     "data": {
      "image/png": "[encoded data removed]",
      "text/plain": [
       "<Figure size 432x288 with 1 Axes>"
      ]
     },
     "metadata": {
      "needs_background": "light"
     },
     "output_type": "display_data"
    }
   ],
   "source": [
    "sns.boxplot(x='trtbps', data=balanced_dataset)"
   ]
  },
  {
   "cell_type": "markdown",
   "id": "557e8948",
   "metadata": {},
   "source": [
    "For trtbph(resting blood pressure) feature, there are 6 outliers whose value appear to be greater than 170."
   ]
  },
  {
   "cell_type": "code",
   "execution_count": 134,
   "id": "978c628c",
   "metadata": {},
   "outputs": [
    {
     "data": {
      "text/plain": [
       "<AxesSubplot:xlabel='chol'>"
      ]
     },
     "execution_count": 134,
     "metadata": {},
     "output_type": "execute_result"
    },
    {
     "data": {
      "image/png": "[encoded data removed]",
      "text/plain": [
       "<Figure size 432x288 with 1 Axes>"
      ]
     },
     "metadata": {
      "needs_background": "light"
     },
     "output_type": "display_data"
    }
   ],
   "source": [
    "sns.boxplot(x='chol', data=balanced_dataset)"
   ]
  },
  {
   "cell_type": "markdown",
   "id": "a7109a8c",
   "metadata": {},
   "source": [
    "For cholesterol(chol), there are 5 outliers whose value appear to be greater than 360."
   ]
  },
  {
   "cell_type": "code",
   "execution_count": 135,
   "id": "70b8a36e",
   "metadata": {},
   "outputs": [
    {
     "data": {
      "text/plain": [
       "<AxesSubplot:xlabel='thalachh'>"
      ]
     },
     "execution_count": 135,
     "metadata": {},
     "output_type": "execute_result"
    },
    {
     "data": {
      "image/png": "[encoded data removed]",
      "text/plain": [
       "<Figure size 432x288 with 1 Axes>"
      ]
     },
     "metadata": {
      "needs_background": "light"
     },
     "output_type": "display_data"
    }
   ],
   "source": [
    "sns.boxplot(x='thalachh', data=balanced_dataset)"
   ]
  },
  {
   "cell_type": "markdown",
   "id": "7287c7aa",
   "metadata": {},
   "source": [
    "For feaure maximum heart rate achieved(thalachh), there is only one outlier whose value appear to be less than 75."
   ]
  },
  {
   "cell_type": "code",
   "execution_count": 136,
   "id": "cd1045c8",
   "metadata": {},
   "outputs": [
    {
     "data": {
      "text/plain": [
       "<AxesSubplot:xlabel='oldpeak'>"
      ]
     },
     "execution_count": 136,
     "metadata": {},
     "output_type": "execute_result"
    },
    {
     "data": {
      "image/png": "[encoded data removed]",
      "text/plain": [
       "<Figure size 432x288 with 1 Axes>"
      ]
     },
     "metadata": {
      "needs_background": "light"
     },
     "output_type": "display_data"
    }
   ],
   "source": [
    "sns.boxplot(x='oldpeak', data=balanced_dataset)"
   ]
  },
  {
   "cell_type": "markdown",
   "id": "a551a693",
   "metadata": {},
   "source": [
    "For feature old peak, there are 4 outliers having value greater than 4."
   ]
  },
  {
   "cell_type": "markdown",
   "id": "9081d06f",
   "metadata": {},
   "source": [
    "Although outliers exist in our continuous data, but we are not going to remove them as those values are realistic values. For example, cholesterol reaching above 400 in very rare but it happens under different medical circumstances."
   ]
  },
  {
   "cell_type": "markdown",
   "id": "0bbaa339",
   "metadata": {},
   "source": [
    "Lets, check the correlations among the numerical features with the help of a heat map."
   ]
  },
  {
   "cell_type": "code",
   "execution_count": 137,
   "id": "a9ec420e",
   "metadata": {},
   "outputs": [
    {
     "data": {
      "image/png": "[encoded data removed]",
      "text/plain": [
       "<Figure size 432x288 with 2 Axes>"
      ]
     },
     "metadata": {
      "needs_background": "light"
     },
     "output_type": "display_data"
    }
   ],
   "source": [
    "corr = balanced_dataset[numerical_features].corr()\n",
    "sns.heatmap(corr, annot=True, square=True)\n",
    "plt.yticks(rotation=0)\n",
    "plt.show()"
   ]
  },
  {
   "cell_type": "markdown",
   "id": "0a1c7656",
   "metadata": {},
   "source": [
    "Thalachh(max heart rate achieved) has a weak negative correlation with all other features.\n",
    "While oldpeak, cholesterol, trtbps(resting bloodpressure) and age have weak positive correlations among each other.\n",
    "We can verify this through relational plots."
   ]
  },
  {
   "cell_type": "code",
   "execution_count": 138,
   "id": "dd8ca394",
   "metadata": {},
   "outputs": [
    {
     "data": {
      "text/plain": [
       "<seaborn.axisgrid.FacetGrid at 0x276417bfdf0>"
      ]
     },
     "execution_count": 138,
     "metadata": {},
     "output_type": "execute_result"
    },
    {
     "data": {
      "image/png": "[encoded data removed]",
      "text/plain": [
       "<Figure size 402.375x360 with 1 Axes>"
      ]
     },
     "metadata": {
      "needs_background": "light"
     },
     "output_type": "display_data"
    }
   ],
   "source": [
    "sns.relplot(x='age', y='chol', hue='output', data=balanced_dataset)"
   ]
  },
  {
   "cell_type": "markdown",
   "id": "f8066b7d",
   "metadata": {},
   "source": [
    "The above graph gives no significant insights about the relation between chol and age because both are weakly corelated as discussed earlier."
   ]
  },
  {
   "cell_type": "markdown",
   "id": "bbf9727e",
   "metadata": {},
   "source": [
    "# Exploring the Categorical Features"
   ]
  },
  {
   "cell_type": "markdown",
   "id": "d91ada31",
   "metadata": {},
   "source": [
    "Displaying the distribution of categorical features among both classes in terms of percentage.\n",
    "\n",
    "https://medium.com/swlh/how-to-create-percentage-plots-for-visualizing-your-data-in-python-f0d894d7c7bb"
   ]
  },
  {
   "cell_type": "code",
   "execution_count": 139,
   "id": "902200b9",
   "metadata": {},
   "outputs": [
    {
     "data": {
      "text/plain": [
       "<seaborn.axisgrid.FacetGrid at 0x276418673a0>"
      ]
     },
     "execution_count": 139,
     "metadata": {},
     "output_type": "execute_result"
    },
    {
     "data": {
      "image/png": "[encoded data removed]",
      "text/plain": [
       "<Figure size 402.375x360 with 1 Axes>"
      ]
     },
     "metadata": {
      "needs_background": "light"
     },
     "output_type": "display_data"
    }
   ],
   "source": [
    "df_temp = balanced_dataset.groupby('sex')['output'].value_counts(normalize=True)\n",
    "df_temp = df_temp.mul(100).rename('Percent').reset_index()\n",
    "sns.catplot(x='sex', y='Percent', hue='output', kind='bar', data=df_temp)"
   ]
  },
  {
   "cell_type": "markdown",
   "id": "2a9e7548",
   "metadata": {},
   "source": [
    "Insight from above graph: Chances of heart attack in females(0) is higher than males(1)."
   ]
  },
  {
   "cell_type": "code",
   "execution_count": 140,
   "id": "280190b3",
   "metadata": {},
   "outputs": [
    {
     "data": {
      "text/plain": [
       "<seaborn.axisgrid.FacetGrid at 0x276416b16d0>"
      ]
     },
     "execution_count": 140,
     "metadata": {},
     "output_type": "execute_result"
    },
    {
     "data": {
      "image/png": "[encoded data removed]",
      "text/plain": [
       "<Figure size 402.375x360 with 1 Axes>"
      ]
     },
     "metadata": {
      "needs_background": "light"
     },
     "output_type": "display_data"
    }
   ],
   "source": [
    "df_temp = balanced_dataset.groupby('cp')['output'].value_counts(normalize=True)\n",
    "df_temp = df_temp.mul(100).rename('Percent').reset_index()\n",
    "sns.catplot(x='cp', y='Percent', hue='output', kind='bar', data=df_temp)"
   ]
  },
  {
   "cell_type": "markdown",
   "id": "e639d865",
   "metadata": {},
   "source": [
    "Insight: Chances of heartattack are high with chest pains (atypical angina(1), non-anginal pain(2) and asympmtomatic pain(3))."
   ]
  },
  {
   "cell_type": "code",
   "execution_count": 141,
   "id": "2d13839e",
   "metadata": {},
   "outputs": [
    {
     "data": {
      "text/plain": [
       "<seaborn.axisgrid.FacetGrid at 0x2763ec1ffd0>"
      ]
     },
     "execution_count": 141,
     "metadata": {},
     "output_type": "execute_result"
    },
    {
     "data": {
      "image/png": "[encoded data removed]",
      "text/plain": [
       "<Figure size 402.375x360 with 1 Axes>"
      ]
     },
     "metadata": {
      "needs_background": "light"
     },
     "output_type": "display_data"
    }
   ],
   "source": [
    "df_temp = balanced_dataset.groupby('restecg')['output'].value_counts(normalize=True)\n",
    "df_temp = df_temp.mul(100).rename('Percent').reset_index()\n",
    "sns.catplot(x='restecg', y='Percent', hue='output', kind='bar', data=df_temp)"
   ]
  },
  {
   "cell_type": "markdown",
   "id": "35f6dddb",
   "metadata": {},
   "source": [
    "With Restingelectrocardiographic results of type1, chances of heartattack are high, with type 0 they are moderate while with type 2 they are really low."
   ]
  },
  {
   "cell_type": "code",
   "execution_count": 142,
   "id": "32cc53e7",
   "metadata": {},
   "outputs": [
    {
     "data": {
      "text/plain": [
       "<seaborn.axisgrid.FacetGrid at 0x2763a7507c0>"
      ]
     },
     "execution_count": 142,
     "metadata": {},
     "output_type": "execute_result"
    },
    {
     "data": {
      "image/png": "[encoded data removed]",
      "text/plain": [
       "<Figure size 402.375x360 with 1 Axes>"
      ]
     },
     "metadata": {
      "needs_background": "light"
     },
     "output_type": "display_data"
    }
   ],
   "source": [
    "df_temp = balanced_dataset.groupby('exng')['output'].value_counts(normalize=True)\n",
    "df_temp = df_temp.mul(100).rename('Percent').reset_index()\n",
    "sns.catplot(x='exng', y='Percent', hue='output', kind='bar', data=df_temp)"
   ]
  },
  {
   "cell_type": "markdown",
   "id": "e2feeb28",
   "metadata": {},
   "source": [
    "Surprisingly, with Exercise Induced Angina, chances of heartattack are low."
   ]
  },
  {
   "cell_type": "code",
   "execution_count": 143,
   "id": "23ab0a67",
   "metadata": {},
   "outputs": [
    {
     "data": {
      "text/plain": [
       "<seaborn.axisgrid.FacetGrid at 0x2763a25c6d0>"
      ]
     },
     "execution_count": 143,
     "metadata": {},
     "output_type": "execute_result"
    },
    {
     "data": {
      "image/png": "[encoded data removed]",
      "text/plain": [
       "<Figure size 402.375x360 with 1 Axes>"
      ]
     },
     "metadata": {
      "needs_background": "light"
     },
     "output_type": "display_data"
    }
   ],
   "source": [
    "df_temp = balanced_dataset.groupby('caa')['output'].value_counts(normalize=True)\n",
    "df_temp = df_temp.mul(100).rename('Percent').reset_index()\n",
    "sns.catplot(x='caa', y='Percent', hue='output', kind='bar', data=df_temp)"
   ]
  },
  {
   "cell_type": "markdown",
   "id": "11e3759d",
   "metadata": {},
   "source": [
    "People with 0 and 4 major vessels have more chances of getting a heart attack."
   ]
  },
  {
   "cell_type": "markdown",
   "id": "9d047eaf",
   "metadata": {},
   "source": [
    "# Data pre-processing"
   ]
  },
  {
   "cell_type": "code",
   "execution_count": 144,
   "id": "a94788e9",
   "metadata": {},
   "outputs": [
    {
     "name": "stdout",
     "output_type": "stream",
     "text": [
      "Number of rows before dropping duplicates: 303\n",
      "Number of rows after dropping duplicates: 302\n"
     ]
    }
   ],
   "source": [
    "print(\"Number of rows before dropping duplicates: %d\" % len(balanced_dataset))\n",
    "balanced_dataset= balanced_dataset.drop_duplicates()\n",
    "print(\"Number of rows after dropping duplicates: %d\" % len(balanced_dataset))"
   ]
  },
  {
   "cell_type": "markdown",
   "id": "6afa134f",
   "metadata": {},
   "source": [
    "As visualized earlier, they was 1 duplicate rows in the dataset so we have removed it."
   ]
  },
  {
   "cell_type": "markdown",
   "id": "55b002f4",
   "metadata": {},
   "source": [
    "As, we are going to perform random forest in our baseline model, so no feature scaling or features reduction is required."
   ]
  },
  {
   "cell_type": "code",
   "execution_count": 145,
   "id": "cf6272c5",
   "metadata": {},
   "outputs": [],
   "source": [
    "X_balanced_dataset=balanced_dataset.drop(columns=['output'])\n",
    "Y_balanced_dataset=balanced_dataset['output'].copy()"
   ]
  },
  {
   "cell_type": "markdown",
   "id": "5e5a424e",
   "metadata": {},
   "source": [
    "# Creating a Surrogate achieving low Imbalance"
   ]
  },
  {
   "cell_type": "code",
   "execution_count": 146,
   "id": "2d56cdd6",
   "metadata": {},
   "outputs": [
    {
     "data": {
      "text/html": [
       "<div>\n",
       "<style scoped>\n",
       "    .dataframe tbody tr th:only-of-type {\n",
       "        vertical-align: middle;\n",
       "    }\n",
       "\n",
       "    .dataframe tbody tr th {\n",
       "        vertical-align: top;\n",
       "    }\n",
       "\n",
       "    .dataframe thead th {\n",
       "        text-align: right;\n",
       "    }\n",
       "</style>\n",
       "<table border=\"1\" class=\"dataframe\">\n",
       "  <thead>\n",
       "    <tr style=\"text-align: right;\">\n",
       "      <th></th>\n",
       "      <th>age</th>\n",
       "      <th>sex</th>\n",
       "      <th>cp</th>\n",
       "      <th>trtbps</th>\n",
       "      <th>chol</th>\n",
       "      <th>fbs</th>\n",
       "      <th>restecg</th>\n",
       "      <th>thalachh</th>\n",
       "      <th>exng</th>\n",
       "      <th>oldpeak</th>\n",
       "      <th>slp</th>\n",
       "      <th>caa</th>\n",
       "      <th>thall</th>\n",
       "      <th>output</th>\n",
       "    </tr>\n",
       "  </thead>\n",
       "  <tbody>\n",
       "    <tr>\n",
       "      <th>0</th>\n",
       "      <td>63</td>\n",
       "      <td>1</td>\n",
       "      <td>3</td>\n",
       "      <td>145</td>\n",
       "      <td>233</td>\n",
       "      <td>1</td>\n",
       "      <td>0</td>\n",
       "      <td>150</td>\n",
       "      <td>0</td>\n",
       "      <td>2.3</td>\n",
       "      <td>0</td>\n",
       "      <td>0</td>\n",
       "      <td>1</td>\n",
       "      <td>1</td>\n",
       "    </tr>\n",
       "    <tr>\n",
       "      <th>1</th>\n",
       "      <td>37</td>\n",
       "      <td>1</td>\n",
       "      <td>2</td>\n",
       "      <td>130</td>\n",
       "      <td>250</td>\n",
       "      <td>0</td>\n",
       "      <td>1</td>\n",
       "      <td>187</td>\n",
       "      <td>0</td>\n",
       "      <td>3.5</td>\n",
       "      <td>0</td>\n",
       "      <td>0</td>\n",
       "      <td>2</td>\n",
       "      <td>1</td>\n",
       "    </tr>\n",
       "    <tr>\n",
       "      <th>2</th>\n",
       "      <td>41</td>\n",
       "      <td>0</td>\n",
       "      <td>1</td>\n",
       "      <td>130</td>\n",
       "      <td>204</td>\n",
       "      <td>0</td>\n",
       "      <td>0</td>\n",
       "      <td>172</td>\n",
       "      <td>0</td>\n",
       "      <td>1.4</td>\n",
       "      <td>2</td>\n",
       "      <td>0</td>\n",
       "      <td>2</td>\n",
       "      <td>1</td>\n",
       "    </tr>\n",
       "    <tr>\n",
       "      <th>3</th>\n",
       "      <td>56</td>\n",
       "      <td>1</td>\n",
       "      <td>1</td>\n",
       "      <td>120</td>\n",
       "      <td>236</td>\n",
       "      <td>0</td>\n",
       "      <td>1</td>\n",
       "      <td>178</td>\n",
       "      <td>0</td>\n",
       "      <td>0.8</td>\n",
       "      <td>2</td>\n",
       "      <td>0</td>\n",
       "      <td>2</td>\n",
       "      <td>1</td>\n",
       "    </tr>\n",
       "    <tr>\n",
       "      <th>4</th>\n",
       "      <td>57</td>\n",
       "      <td>0</td>\n",
       "      <td>0</td>\n",
       "      <td>120</td>\n",
       "      <td>354</td>\n",
       "      <td>0</td>\n",
       "      <td>1</td>\n",
       "      <td>163</td>\n",
       "      <td>1</td>\n",
       "      <td>0.6</td>\n",
       "      <td>2</td>\n",
       "      <td>0</td>\n",
       "      <td>2</td>\n",
       "      <td>1</td>\n",
       "    </tr>\n",
       "  </tbody>\n",
       "</table>\n",
       "</div>"
      ],
      "text/plain": [
       "   age  sex  cp  trtbps  chol  fbs  restecg  thalachh  exng  oldpeak  slp  \\\n",
       "0   63    1   3     145   233    1        0       150     0      2.3    0   \n",
       "1   37    1   2     130   250    0        1       187     0      3.5    0   \n",
       "2   41    0   1     130   204    0        0       172     0      1.4    2   \n",
       "3   56    1   1     120   236    0        1       178     0      0.8    2   \n",
       "4   57    0   0     120   354    0        1       163     1      0.6    2   \n",
       "\n",
       "   caa  thall  output  \n",
       "0    0      1       1  \n",
       "1    0      2       1  \n",
       "2    0      2       1  \n",
       "3    0      2       1  \n",
       "4    0      2       1  "
      ]
     },
     "execution_count": 146,
     "metadata": {},
     "output_type": "execute_result"
    }
   ],
   "source": [
    "L=balanced_dataset[balanced_dataset['output'] == 0] \n",
    "M=balanced_dataset[balanced_dataset['output'] == 1] #majority class more chances of heartattack represented by 1\n",
    "L= L.sample(replace=False,  n=88, random_state=1) #minority class less chances of heartattack represented by 0\n",
    "Imbalanced_dataset_low=pd.concat([M, L])\n",
    "Imbalanced_dataset_low.head()"
   ]
  },
  {
   "cell_type": "code",
   "execution_count": 147,
   "id": "ab9b7230",
   "metadata": {},
   "outputs": [
    {
     "name": "stdout",
     "output_type": "stream",
     "text": [
      "percentage of output with more chances of heart attack:  65\n",
      "percentage of output with less chances of heartattack:  35\n"
     ]
    }
   ],
   "source": [
    "M=(Imbalanced_dataset_low['output'].value_counts()[1])/(len(Imbalanced_dataset_low))*100\n",
    "print('percentage of output with more chances of heart attack: ',round(M))\n",
    "L=Imbalanced_dataset_low['output'].value_counts()[0]/(len(Imbalanced_dataset_low))*100\n",
    "print('percentage of output with less chances of heartattack: ',round(L))"
   ]
  },
  {
   "cell_type": "code",
   "execution_count": 148,
   "id": "d70d0029",
   "metadata": {},
   "outputs": [
    {
     "data": {
      "text/plain": [
       "<AxesSubplot:xlabel='output', ylabel='count'>"
      ]
     },
     "execution_count": 148,
     "metadata": {},
     "output_type": "execute_result"
    },
    {
     "data": {
      "image/png": "[encoded data removed]",
      "text/plain": [
       "<Figure size 432x288 with 1 Axes>"
      ]
     },
     "metadata": {
      "needs_background": "light"
     },
     "output_type": "display_data"
    }
   ],
   "source": [
    "sns.countplot(x=\"output\", data=Imbalanced_dataset_low)"
   ]
  },
  {
   "cell_type": "code",
   "execution_count": 149,
   "id": "840a987c",
   "metadata": {},
   "outputs": [
    {
     "data": {
      "text/plain": [
       "(252, 14)"
      ]
     },
     "execution_count": 149,
     "metadata": {},
     "output_type": "execute_result"
    }
   ],
   "source": [
    "Imbalanced_dataset_low.shape"
   ]
  },
  {
   "cell_type": "markdown",
   "id": "3d40cc5d",
   "metadata": {},
   "source": [
    "Low Surrogate dataset has 252 rows and same number of columns as in balanced dataset."
   ]
  },
  {
   "cell_type": "code",
   "execution_count": 150,
   "id": "6ad216d4",
   "metadata": {},
   "outputs": [
    {
     "name": "stdout",
     "output_type": "stream",
     "text": [
      "Duplicates in the dataset:  0\n"
     ]
    }
   ],
   "source": [
    "print('Duplicates in the dataset: ', Imbalanced_dataset_low.duplicated().sum())"
   ]
  },
  {
   "cell_type": "markdown",
   "id": "ebd5c9f7",
   "metadata": {},
   "source": [
    "Duplicates are checked to ensure that there was no duplication while randomly sub-sampling from the e class."
   ]
  },
  {
   "cell_type": "code",
   "execution_count": 151,
   "id": "87b3da1b",
   "metadata": {},
   "outputs": [],
   "source": [
    "X_Imbalanced_dataset_low=Imbalanced_dataset_low.drop(columns=['output'])\n",
    "Y_Imbalanced_dataset_low=Imbalanced_dataset_low['output'].copy()"
   ]
  },
  {
   "cell_type": "markdown",
   "id": "3c7bb803",
   "metadata": {},
   "source": [
    "Features and target label are separated in the above piece of code."
   ]
  },
  {
   "cell_type": "markdown",
   "id": "9b49d2b0",
   "metadata": {},
   "source": [
    "# Creating a Surrogate achieving Medium Imbalance"
   ]
  },
  {
   "cell_type": "code",
   "execution_count": 152,
   "id": "9b0d3ef1",
   "metadata": {},
   "outputs": [
    {
     "data": {
      "text/html": [
       "<div>\n",
       "<style scoped>\n",
       "    .dataframe tbody tr th:only-of-type {\n",
       "        vertical-align: middle;\n",
       "    }\n",
       "\n",
       "    .dataframe tbody tr th {\n",
       "        vertical-align: top;\n",
       "    }\n",
       "\n",
       "    .dataframe thead th {\n",
       "        text-align: right;\n",
       "    }\n",
       "</style>\n",
       "<table border=\"1\" class=\"dataframe\">\n",
       "  <thead>\n",
       "    <tr style=\"text-align: right;\">\n",
       "      <th></th>\n",
       "      <th>age</th>\n",
       "      <th>sex</th>\n",
       "      <th>cp</th>\n",
       "      <th>trtbps</th>\n",
       "      <th>chol</th>\n",
       "      <th>fbs</th>\n",
       "      <th>restecg</th>\n",
       "      <th>thalachh</th>\n",
       "      <th>exng</th>\n",
       "      <th>oldpeak</th>\n",
       "      <th>slp</th>\n",
       "      <th>caa</th>\n",
       "      <th>thall</th>\n",
       "      <th>output</th>\n",
       "    </tr>\n",
       "  </thead>\n",
       "  <tbody>\n",
       "    <tr>\n",
       "      <th>0</th>\n",
       "      <td>63</td>\n",
       "      <td>1</td>\n",
       "      <td>3</td>\n",
       "      <td>145</td>\n",
       "      <td>233</td>\n",
       "      <td>1</td>\n",
       "      <td>0</td>\n",
       "      <td>150</td>\n",
       "      <td>0</td>\n",
       "      <td>2.3</td>\n",
       "      <td>0</td>\n",
       "      <td>0</td>\n",
       "      <td>1</td>\n",
       "      <td>1</td>\n",
       "    </tr>\n",
       "    <tr>\n",
       "      <th>1</th>\n",
       "      <td>37</td>\n",
       "      <td>1</td>\n",
       "      <td>2</td>\n",
       "      <td>130</td>\n",
       "      <td>250</td>\n",
       "      <td>0</td>\n",
       "      <td>1</td>\n",
       "      <td>187</td>\n",
       "      <td>0</td>\n",
       "      <td>3.5</td>\n",
       "      <td>0</td>\n",
       "      <td>0</td>\n",
       "      <td>2</td>\n",
       "      <td>1</td>\n",
       "    </tr>\n",
       "    <tr>\n",
       "      <th>2</th>\n",
       "      <td>41</td>\n",
       "      <td>0</td>\n",
       "      <td>1</td>\n",
       "      <td>130</td>\n",
       "      <td>204</td>\n",
       "      <td>0</td>\n",
       "      <td>0</td>\n",
       "      <td>172</td>\n",
       "      <td>0</td>\n",
       "      <td>1.4</td>\n",
       "      <td>2</td>\n",
       "      <td>0</td>\n",
       "      <td>2</td>\n",
       "      <td>1</td>\n",
       "    </tr>\n",
       "    <tr>\n",
       "      <th>3</th>\n",
       "      <td>56</td>\n",
       "      <td>1</td>\n",
       "      <td>1</td>\n",
       "      <td>120</td>\n",
       "      <td>236</td>\n",
       "      <td>0</td>\n",
       "      <td>1</td>\n",
       "      <td>178</td>\n",
       "      <td>0</td>\n",
       "      <td>0.8</td>\n",
       "      <td>2</td>\n",
       "      <td>0</td>\n",
       "      <td>2</td>\n",
       "      <td>1</td>\n",
       "    </tr>\n",
       "    <tr>\n",
       "      <th>4</th>\n",
       "      <td>57</td>\n",
       "      <td>0</td>\n",
       "      <td>0</td>\n",
       "      <td>120</td>\n",
       "      <td>354</td>\n",
       "      <td>0</td>\n",
       "      <td>1</td>\n",
       "      <td>163</td>\n",
       "      <td>1</td>\n",
       "      <td>0.6</td>\n",
       "      <td>2</td>\n",
       "      <td>0</td>\n",
       "      <td>2</td>\n",
       "      <td>1</td>\n",
       "    </tr>\n",
       "  </tbody>\n",
       "</table>\n",
       "</div>"
      ],
      "text/plain": [
       "   age  sex  cp  trtbps  chol  fbs  restecg  thalachh  exng  oldpeak  slp  \\\n",
       "0   63    1   3     145   233    1        0       150     0      2.3    0   \n",
       "1   37    1   2     130   250    0        1       187     0      3.5    0   \n",
       "2   41    0   1     130   204    0        0       172     0      1.4    2   \n",
       "3   56    1   1     120   236    0        1       178     0      0.8    2   \n",
       "4   57    0   0     120   354    0        1       163     1      0.6    2   \n",
       "\n",
       "   caa  thall  output  \n",
       "0    0      1       1  \n",
       "1    0      2       1  \n",
       "2    0      2       1  \n",
       "3    0      2       1  \n",
       "4    0      2       1  "
      ]
     },
     "execution_count": 152,
     "metadata": {},
     "output_type": "execute_result"
    }
   ],
   "source": [
    "L=balanced_dataset[balanced_dataset['output'] == 0] \n",
    "M=balanced_dataset[balanced_dataset['output'] == 1] #majority class more chances of heartattack represented by 1\n",
    "L= L.sample(replace=False,  n=54, random_state=1) #minority class less chances of heartattack represented by 0\n",
    "Imbalanced_dataset_med=pd.concat([M, L])\n",
    "Imbalanced_dataset_med.head()"
   ]
  },
  {
   "cell_type": "code",
   "execution_count": 153,
   "id": "22149493",
   "metadata": {},
   "outputs": [
    {
     "name": "stdout",
     "output_type": "stream",
     "text": [
      "percentage of output with more chances of heart attack:  75\n",
      "percentage of output with less chances of heartattack:  25\n"
     ]
    }
   ],
   "source": [
    "M=(Imbalanced_dataset_med['output'].value_counts()[1])/(len(Imbalanced_dataset_med))*100\n",
    "print('percentage of output with more chances of heart attack: ',round(M))\n",
    "L=Imbalanced_dataset_med['output'].value_counts()[0]/(len(Imbalanced_dataset_med))*100\n",
    "print('percentage of output with less chances of heartattack: ',round(L))"
   ]
  },
  {
   "cell_type": "code",
   "execution_count": 154,
   "id": "871211d3",
   "metadata": {},
   "outputs": [
    {
     "data": {
      "text/plain": [
       "<AxesSubplot:xlabel='output', ylabel='count'>"
      ]
     },
     "execution_count": 154,
     "metadata": {},
     "output_type": "execute_result"
    },
    {
     "data": {
      "image/png": "[encoded data removed]",
      "text/plain": [
       "<Figure size 432x288 with 1 Axes>"
      ]
     },
     "metadata": {
      "needs_background": "light"
     },
     "output_type": "display_data"
    }
   ],
   "source": [
    "sns.countplot(x=\"output\", data=Imbalanced_dataset_med)"
   ]
  },
  {
   "cell_type": "code",
   "execution_count": 155,
   "id": "a3f6256e",
   "metadata": {},
   "outputs": [
    {
     "data": {
      "text/plain": [
       "(218, 14)"
      ]
     },
     "execution_count": 155,
     "metadata": {},
     "output_type": "execute_result"
    }
   ],
   "source": [
    "Imbalanced_dataset_med.shape"
   ]
  },
  {
   "cell_type": "markdown",
   "id": "577edb3a",
   "metadata": {},
   "source": [
    "Med Surrogate dataset has 218 rows and same number of columns as in balanced dataset."
   ]
  },
  {
   "cell_type": "code",
   "execution_count": 156,
   "id": "15ca091c",
   "metadata": {},
   "outputs": [
    {
     "name": "stdout",
     "output_type": "stream",
     "text": [
      "Duplicates in the dataset:  0\n"
     ]
    }
   ],
   "source": [
    "print('Duplicates in the dataset: ', Imbalanced_dataset_med.duplicated().sum())"
   ]
  },
  {
   "cell_type": "markdown",
   "id": "f311b118",
   "metadata": {},
   "source": [
    "Duplicates are checked to ensure that there was no duplication while randomly sub-sampling from the e class."
   ]
  },
  {
   "cell_type": "code",
   "execution_count": 157,
   "id": "aaaba218",
   "metadata": {},
   "outputs": [],
   "source": [
    "X_Imbalanced_dataset_med=Imbalanced_dataset_med.drop(columns=['output'])\n",
    "Y_Imbalanced_dataset_med=Imbalanced_dataset_med['output'].copy()"
   ]
  },
  {
   "cell_type": "markdown",
   "id": "3e932d3a",
   "metadata": {},
   "source": [
    "Features and target label are separated in the above piece of code."
   ]
  },
  {
   "cell_type": "markdown",
   "id": "0f80f7ed",
   "metadata": {},
   "source": [
    "# Creating a Surrogate achieving High Imbalance"
   ]
  },
  {
   "cell_type": "code",
   "execution_count": 158,
   "id": "30e32631",
   "metadata": {},
   "outputs": [
    {
     "data": {
      "text/html": [
       "<div>\n",
       "<style scoped>\n",
       "    .dataframe tbody tr th:only-of-type {\n",
       "        vertical-align: middle;\n",
       "    }\n",
       "\n",
       "    .dataframe tbody tr th {\n",
       "        vertical-align: top;\n",
       "    }\n",
       "\n",
       "    .dataframe thead th {\n",
       "        text-align: right;\n",
       "    }\n",
       "</style>\n",
       "<table border=\"1\" class=\"dataframe\">\n",
       "  <thead>\n",
       "    <tr style=\"text-align: right;\">\n",
       "      <th></th>\n",
       "      <th>age</th>\n",
       "      <th>sex</th>\n",
       "      <th>cp</th>\n",
       "      <th>trtbps</th>\n",
       "      <th>chol</th>\n",
       "      <th>fbs</th>\n",
       "      <th>restecg</th>\n",
       "      <th>thalachh</th>\n",
       "      <th>exng</th>\n",
       "      <th>oldpeak</th>\n",
       "      <th>slp</th>\n",
       "      <th>caa</th>\n",
       "      <th>thall</th>\n",
       "      <th>output</th>\n",
       "    </tr>\n",
       "  </thead>\n",
       "  <tbody>\n",
       "    <tr>\n",
       "      <th>0</th>\n",
       "      <td>63</td>\n",
       "      <td>1</td>\n",
       "      <td>3</td>\n",
       "      <td>145</td>\n",
       "      <td>233</td>\n",
       "      <td>1</td>\n",
       "      <td>0</td>\n",
       "      <td>150</td>\n",
       "      <td>0</td>\n",
       "      <td>2.3</td>\n",
       "      <td>0</td>\n",
       "      <td>0</td>\n",
       "      <td>1</td>\n",
       "      <td>1</td>\n",
       "    </tr>\n",
       "    <tr>\n",
       "      <th>1</th>\n",
       "      <td>37</td>\n",
       "      <td>1</td>\n",
       "      <td>2</td>\n",
       "      <td>130</td>\n",
       "      <td>250</td>\n",
       "      <td>0</td>\n",
       "      <td>1</td>\n",
       "      <td>187</td>\n",
       "      <td>0</td>\n",
       "      <td>3.5</td>\n",
       "      <td>0</td>\n",
       "      <td>0</td>\n",
       "      <td>2</td>\n",
       "      <td>1</td>\n",
       "    </tr>\n",
       "    <tr>\n",
       "      <th>2</th>\n",
       "      <td>41</td>\n",
       "      <td>0</td>\n",
       "      <td>1</td>\n",
       "      <td>130</td>\n",
       "      <td>204</td>\n",
       "      <td>0</td>\n",
       "      <td>0</td>\n",
       "      <td>172</td>\n",
       "      <td>0</td>\n",
       "      <td>1.4</td>\n",
       "      <td>2</td>\n",
       "      <td>0</td>\n",
       "      <td>2</td>\n",
       "      <td>1</td>\n",
       "    </tr>\n",
       "    <tr>\n",
       "      <th>3</th>\n",
       "      <td>56</td>\n",
       "      <td>1</td>\n",
       "      <td>1</td>\n",
       "      <td>120</td>\n",
       "      <td>236</td>\n",
       "      <td>0</td>\n",
       "      <td>1</td>\n",
       "      <td>178</td>\n",
       "      <td>0</td>\n",
       "      <td>0.8</td>\n",
       "      <td>2</td>\n",
       "      <td>0</td>\n",
       "      <td>2</td>\n",
       "      <td>1</td>\n",
       "    </tr>\n",
       "    <tr>\n",
       "      <th>4</th>\n",
       "      <td>57</td>\n",
       "      <td>0</td>\n",
       "      <td>0</td>\n",
       "      <td>120</td>\n",
       "      <td>354</td>\n",
       "      <td>0</td>\n",
       "      <td>1</td>\n",
       "      <td>163</td>\n",
       "      <td>1</td>\n",
       "      <td>0.6</td>\n",
       "      <td>2</td>\n",
       "      <td>0</td>\n",
       "      <td>2</td>\n",
       "      <td>1</td>\n",
       "    </tr>\n",
       "  </tbody>\n",
       "</table>\n",
       "</div>"
      ],
      "text/plain": [
       "   age  sex  cp  trtbps  chol  fbs  restecg  thalachh  exng  oldpeak  slp  \\\n",
       "0   63    1   3     145   233    1        0       150     0      2.3    0   \n",
       "1   37    1   2     130   250    0        1       187     0      3.5    0   \n",
       "2   41    0   1     130   204    0        0       172     0      1.4    2   \n",
       "3   56    1   1     120   236    0        1       178     0      0.8    2   \n",
       "4   57    0   0     120   354    0        1       163     1      0.6    2   \n",
       "\n",
       "   caa  thall  output  \n",
       "0    0      1       1  \n",
       "1    0      2       1  \n",
       "2    0      2       1  \n",
       "3    0      2       1  \n",
       "4    0      2       1  "
      ]
     },
     "execution_count": 158,
     "metadata": {},
     "output_type": "execute_result"
    }
   ],
   "source": [
    "L=balanced_dataset[balanced_dataset['output'] == 0] \n",
    "M=balanced_dataset[balanced_dataset['output'] == 1] #majority class more chances of heartattack represented by 1\n",
    "L= L.sample(replace=False,  n=18, random_state=1) #minority class less chances of heartattack represented by 0\n",
    "Imbalanced_dataset_high=pd.concat([M, L])\n",
    "Imbalanced_dataset_high.head()"
   ]
  },
  {
   "cell_type": "code",
   "execution_count": 159,
   "id": "1741860c",
   "metadata": {},
   "outputs": [
    {
     "name": "stdout",
     "output_type": "stream",
     "text": [
      "percentage of output with more chances of heart attack:  90\n",
      "percentage of output with less chances of heartattack:  10\n"
     ]
    }
   ],
   "source": [
    "M=(Imbalanced_dataset_high['output'].value_counts()[1])/(len(Imbalanced_dataset_high))*100\n",
    "print('percentage of output with more chances of heart attack: ',round(M))\n",
    "L=Imbalanced_dataset_high['output'].value_counts()[0]/(len(Imbalanced_dataset_high))*100\n",
    "print('percentage of output with less chances of heartattack: ',round(L))"
   ]
  },
  {
   "cell_type": "code",
   "execution_count": 160,
   "id": "47b9f833",
   "metadata": {},
   "outputs": [
    {
     "data": {
      "text/plain": [
       "<AxesSubplot:xlabel='output', ylabel='count'>"
      ]
     },
     "execution_count": 160,
     "metadata": {},
     "output_type": "execute_result"
    },
    {
     "data": {
      "image/png": "[encoded data removed]",
      "text/plain": [
       "<Figure size 432x288 with 1 Axes>"
      ]
     },
     "metadata": {
      "needs_background": "light"
     },
     "output_type": "display_data"
    }
   ],
   "source": [
    "sns.countplot(x=\"output\", data=Imbalanced_dataset_high)"
   ]
  },
  {
   "cell_type": "code",
   "execution_count": 161,
   "id": "504e897c",
   "metadata": {},
   "outputs": [
    {
     "data": {
      "text/plain": [
       "(182, 14)"
      ]
     },
     "execution_count": 161,
     "metadata": {},
     "output_type": "execute_result"
    }
   ],
   "source": [
    "Imbalanced_dataset_high.shape"
   ]
  },
  {
   "cell_type": "markdown",
   "id": "3dc4b2a9",
   "metadata": {},
   "source": [
    "Med Surrogate dataset has 182 rows and same number of columns as in balanced dataset."
   ]
  },
  {
   "cell_type": "code",
   "execution_count": 162,
   "id": "fbb52f22",
   "metadata": {},
   "outputs": [
    {
     "name": "stdout",
     "output_type": "stream",
     "text": [
      "Duplicates in the dataset:  0\n"
     ]
    }
   ],
   "source": [
    "print('Duplicates in the dataset: ', Imbalanced_dataset_high.duplicated().sum())"
   ]
  },
  {
   "cell_type": "markdown",
   "id": "2941668f",
   "metadata": {},
   "source": [
    "Duplicates are checked to ensure that there was no duplication while randomly sub-sampling from the e class."
   ]
  },
  {
   "cell_type": "code",
   "execution_count": 163,
   "id": "c840d372",
   "metadata": {},
   "outputs": [],
   "source": [
    "X_Imbalanced_dataset_high=Imbalanced_dataset_high.drop(columns=['output'])\n",
    "Y_Imbalanced_dataset_high=Imbalanced_dataset_high['output'].copy()"
   ]
  },
  {
   "cell_type": "markdown",
   "id": "0092a0f1",
   "metadata": {},
   "source": [
    "Features and target label are separated in the above piece of code."
   ]
  }
 ],
 "metadata": {
  "kernelspec": {
   "display_name": "Python 3 (ipykernel)",
   "language": "python",
   "name": "python3"
  },
  "language_info": {
   "codemirror_mode": {
    "name": "ipython",
    "version": 3
   },
   "file_extension": ".py",
   "mimetype": "text/x-python",
   "name": "python",
   "nbconvert_exporter": "python",
   "pygments_lexer": "ipython3",
   "version": "3.9.7"
  }
 },
 "nbformat": 4,
 "nbformat_minor": 5
}
