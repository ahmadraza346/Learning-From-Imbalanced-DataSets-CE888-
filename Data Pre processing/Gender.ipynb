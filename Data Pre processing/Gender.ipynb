{
 "cells": [
  {
   "cell_type": "markdown",
   "id": "2910bb79",
   "metadata": {},
   "source": [
    "# Libraries"
   ]
  },
  {
   "cell_type": "code",
   "execution_count": 377,
   "id": "a5bcccfe",
   "metadata": {},
   "outputs": [],
   "source": [
    "import pandas as pd\n",
    "import numpy as np\n",
    "import seaborn as sns\n",
    "import numpy as np\n",
    "import matplotlib.pyplot as plt\n",
    "from sklearn.preprocessing import LabelEncoder,OneHotEncoder\n",
    "from sklearn.compose import ColumnTransformer\n",
    "from sklearn.ensemble import RandomForestClassifier\n",
    "from sklearn.model_selection import cross_val_score\n",
    "from sklearn.metrics import make_scorer, accuracy_score, f1_score, precision_score, recall_score\n",
    "from sklearn.model_selection import StratifiedKFold\n",
    "from sklearn.feature_selection import VarianceThreshold"
   ]
  },
  {
   "cell_type": "markdown",
   "id": "68702aaf",
   "metadata": {},
   "source": [
    "# Loading the DataSet"
   ]
  },
  {
   "cell_type": "markdown",
   "id": "9a3b852a",
   "metadata": {},
   "source": [
    "https://www.kaggle.com/hb20007/gender-classification"
   ]
  },
  {
   "cell_type": "code",
   "execution_count": 378,
   "id": "bb915751",
   "metadata": {},
   "outputs": [
    {
     "data": {
      "text/html": [
       "<div>\n",
       "<style scoped>\n",
       "    .dataframe tbody tr th:only-of-type {\n",
       "        vertical-align: middle;\n",
       "    }\n",
       "\n",
       "    .dataframe tbody tr th {\n",
       "        vertical-align: top;\n",
       "    }\n",
       "\n",
       "    .dataframe thead th {\n",
       "        text-align: right;\n",
       "    }\n",
       "</style>\n",
       "<table border=\"1\" class=\"dataframe\">\n",
       "  <thead>\n",
       "    <tr style=\"text-align: right;\">\n",
       "      <th></th>\n",
       "      <th>Favorite Color</th>\n",
       "      <th>Favorite Music Genre</th>\n",
       "      <th>Favorite Beverage</th>\n",
       "      <th>Favorite Soft Drink</th>\n",
       "      <th>Gender</th>\n",
       "    </tr>\n",
       "  </thead>\n",
       "  <tbody>\n",
       "    <tr>\n",
       "      <th>0</th>\n",
       "      <td>Cool</td>\n",
       "      <td>Rock</td>\n",
       "      <td>Vodka</td>\n",
       "      <td>7UP/Sprite</td>\n",
       "      <td>F</td>\n",
       "    </tr>\n",
       "    <tr>\n",
       "      <th>1</th>\n",
       "      <td>Neutral</td>\n",
       "      <td>Hip hop</td>\n",
       "      <td>Vodka</td>\n",
       "      <td>Coca Cola/Pepsi</td>\n",
       "      <td>F</td>\n",
       "    </tr>\n",
       "    <tr>\n",
       "      <th>2</th>\n",
       "      <td>Warm</td>\n",
       "      <td>Rock</td>\n",
       "      <td>Wine</td>\n",
       "      <td>Coca Cola/Pepsi</td>\n",
       "      <td>F</td>\n",
       "    </tr>\n",
       "    <tr>\n",
       "      <th>3</th>\n",
       "      <td>Warm</td>\n",
       "      <td>Folk/Traditional</td>\n",
       "      <td>Whiskey</td>\n",
       "      <td>Fanta</td>\n",
       "      <td>F</td>\n",
       "    </tr>\n",
       "    <tr>\n",
       "      <th>4</th>\n",
       "      <td>Cool</td>\n",
       "      <td>Rock</td>\n",
       "      <td>Vodka</td>\n",
       "      <td>Coca Cola/Pepsi</td>\n",
       "      <td>F</td>\n",
       "    </tr>\n",
       "  </tbody>\n",
       "</table>\n",
       "</div>"
      ],
      "text/plain": [
       "  Favorite Color Favorite Music Genre Favorite Beverage Favorite Soft Drink  \\\n",
       "0           Cool                 Rock             Vodka          7UP/Sprite   \n",
       "1        Neutral              Hip hop             Vodka     Coca Cola/Pepsi   \n",
       "2           Warm                 Rock              Wine     Coca Cola/Pepsi   \n",
       "3           Warm     Folk/Traditional           Whiskey               Fanta   \n",
       "4           Cool                 Rock             Vodka     Coca Cola/Pepsi   \n",
       "\n",
       "  Gender  \n",
       "0      F  \n",
       "1      F  \n",
       "2      F  \n",
       "3      F  \n",
       "4      F  "
      ]
     },
     "execution_count": 378,
     "metadata": {},
     "output_type": "execute_result"
    }
   ],
   "source": [
    "gender = pd.read_csv(\"Transformed Data Set - Sheet1.csv\")\n",
    "balanced_dataset= gender.copy()\n",
    "balanced_dataset.head()"
   ]
  },
  {
   "cell_type": "markdown",
   "id": "5810ee11",
   "metadata": {},
   "source": [
    "# Inspecting the Data"
   ]
  },
  {
   "cell_type": "code",
   "execution_count": 379,
   "id": "e88a1c4f",
   "metadata": {},
   "outputs": [
    {
     "name": "stdout",
     "output_type": "stream",
     "text": [
      "percentage of gender Male:  50.0\n",
      "percentage of gender Femal:  50.0\n"
     ]
    }
   ],
   "source": [
    "M=(balanced_dataset['Gender'].value_counts()['M'])/(len(balanced_dataset))*100\n",
    "print('percentage of gender Male: ',M)\n",
    "F=balanced_dataset['Gender'].value_counts()['F']/(len(balanced_dataset))*100\n",
    "print('percentage of gender Femal: ',F)"
   ]
  },
  {
   "cell_type": "markdown",
   "id": "c8869d03",
   "metadata": {},
   "source": [
    "Initially the dataset is balanced. i.e. The target has equal percentage of both classes,Make and Female."
   ]
  },
  {
   "cell_type": "code",
   "execution_count": 380,
   "id": "bd21e69d",
   "metadata": {},
   "outputs": [
    {
     "data": {
      "text/plain": [
       "<AxesSubplot:xlabel='Gender', ylabel='count'>"
      ]
     },
     "execution_count": 380,
     "metadata": {},
     "output_type": "execute_result"
    },
    {
     "data": {
      "image/png": "[encoded data removed]",
      "text/plain": [
       "<Figure size 432x288 with 1 Axes>"
      ]
     },
     "metadata": {
      "needs_background": "light"
     },
     "output_type": "display_data"
    }
   ],
   "source": [
    "sns.countplot(x=\"Gender\", data=balanced_dataset)"
   ]
  },
  {
   "cell_type": "code",
   "execution_count": 381,
   "id": "f96702a9",
   "metadata": {},
   "outputs": [
    {
     "name": "stdout",
     "output_type": "stream",
     "text": [
      "<class 'pandas.core.frame.DataFrame'>\n",
      "RangeIndex: 66 entries, 0 to 65\n",
      "Data columns (total 5 columns):\n",
      " #   Column                Non-Null Count  Dtype \n",
      "---  ------                --------------  ----- \n",
      " 0   Favorite Color        66 non-null     object\n",
      " 1   Favorite Music Genre  66 non-null     object\n",
      " 2   Favorite Beverage     66 non-null     object\n",
      " 3   Favorite Soft Drink   66 non-null     object\n",
      " 4   Gender                66 non-null     object\n",
      "dtypes: object(5)\n",
      "memory usage: 2.7+ KB\n"
     ]
    }
   ],
   "source": [
    "balanced_dataset.info()"
   ]
  },
  {
   "cell_type": "markdown",
   "id": "63f92611",
   "metadata": {},
   "source": [
    "There are no numerical features,all the columns contains categorical values."
   ]
  },
  {
   "cell_type": "code",
   "execution_count": 382,
   "id": "7659eb52",
   "metadata": {},
   "outputs": [
    {
     "data": {
      "text/plain": [
       "(66, 5)"
      ]
     },
     "execution_count": 382,
     "metadata": {},
     "output_type": "execute_result"
    }
   ],
   "source": [
    "balanced_dataset.shape"
   ]
  },
  {
   "cell_type": "markdown",
   "id": "1686b3ae",
   "metadata": {},
   "source": [
    "DataSet has 5 columns and 66 rows.\n",
    "\n"
   ]
  },
  {
   "cell_type": "code",
   "execution_count": 383,
   "id": "1d13e68e",
   "metadata": {},
   "outputs": [
    {
     "name": "stdout",
     "output_type": "stream",
     "text": [
      "Null Values in the dataset:  0\n"
     ]
    }
   ],
   "source": [
    "print('Null Values in the dataset: ',balanced_dataset.isnull().sum().sum())"
   ]
  },
  {
   "cell_type": "markdown",
   "id": "2c1fb2ab",
   "metadata": {},
   "source": [
    "No column contains the null values."
   ]
  },
  {
   "cell_type": "code",
   "execution_count": 384,
   "id": "bf77c5bf",
   "metadata": {},
   "outputs": [
    {
     "name": "stdout",
     "output_type": "stream",
     "text": [
      "Duplicates in the dataset:  4\n"
     ]
    }
   ],
   "source": [
    "print('Duplicates in the dataset: ', balanced_dataset.duplicated().sum())"
   ]
  },
  {
   "cell_type": "markdown",
   "id": "b5296eb2",
   "metadata": {},
   "source": [
    "There are 4 duplicate rows in the dataset so we have to drop them in the pre-processing step."
   ]
  },
  {
   "cell_type": "markdown",
   "id": "06b50f3f",
   "metadata": {},
   "source": [
    "# Visualizing the Data"
   ]
  },
  {
   "cell_type": "markdown",
   "id": "903cb0c2",
   "metadata": {},
   "source": [
    "Displaying the distribution of features among both classes in terms of percentage.\n",
    "https://medium.com/swlh/how-to-create-percentage-plots-for-visualizing-your-data-in-python-f0d894d7c7bb"
   ]
  },
  {
   "cell_type": "code",
   "execution_count": 385,
   "id": "902200b9",
   "metadata": {},
   "outputs": [
    {
     "data": {
      "text/plain": [
       "<seaborn.axisgrid.FacetGrid at 0x260cc9287f0>"
      ]
     },
     "execution_count": 385,
     "metadata": {},
     "output_type": "execute_result"
    },
    {
     "data": {
      "image/png": "[encoded data removed]",
      "text/plain": [
       "<Figure size 404.875x360 with 1 Axes>"
      ]
     },
     "metadata": {
      "needs_background": "light"
     },
     "output_type": "display_data"
    }
   ],
   "source": [
    "df_temp = balanced_dataset.groupby('Favorite Color')['Gender'].value_counts(normalize=True)\n",
    "df_temp = df_temp.mul(100).rename('Percent').reset_index()\n",
    "sns.catplot(x='Favorite Color', y='Percent', hue='Gender', kind='bar', data=df_temp)"
   ]
  },
  {
   "cell_type": "markdown",
   "id": "2a9e7548",
   "metadata": {},
   "source": [
    "Insight from above graph: Percentage of males who like cool and neutral colors is more than females while females prefer warm colors."
   ]
  },
  {
   "cell_type": "code",
   "execution_count": 386,
   "id": "280190b3",
   "metadata": {},
   "outputs": [
    {
     "data": {
      "text/plain": [
       "<seaborn.axisgrid.FacetGrid at 0x260ca86b0d0>"
      ]
     },
     "execution_count": 386,
     "metadata": {},
     "output_type": "execute_result"
    },
    {
     "data": {
      "image/png": "[encoded data removed]",
      "text/plain": [
       "<Figure size 764.875x360 with 1 Axes>"
      ]
     },
     "metadata": {
      "needs_background": "light"
     },
     "output_type": "display_data"
    }
   ],
   "source": [
    "df_temp = balanced_dataset.groupby('Favorite Music Genre')['Gender'].value_counts(normalize=True)\n",
    "df_temp = df_temp.mul(100).rename('Percent').reset_index()\n",
    "sns.catplot(x='Favorite Music Genre', y='Percent', hue='Gender', kind='bar', data=df_temp, aspect=2)"
   ]
  },
  {
   "cell_type": "markdown",
   "id": "e639d865",
   "metadata": {},
   "source": [
    "Insight: Percentage of male and female liking the music genre folk/traditional is equal. In case of genre rock its also  almost equal, while in case of other genres, percentage differs significantly."
   ]
  },
  {
   "cell_type": "code",
   "execution_count": 387,
   "id": "2d13839e",
   "metadata": {},
   "outputs": [
    {
     "data": {
      "text/plain": [
       "<seaborn.axisgrid.FacetGrid at 0x260cdb0b280>"
      ]
     },
     "execution_count": 387,
     "metadata": {},
     "output_type": "execute_result"
    },
    {
     "data": {
      "image/png": "[encoded data removed]",
      "text/plain": [
       "<Figure size 764.875x360 with 1 Axes>"
      ]
     },
     "metadata": {
      "needs_background": "light"
     },
     "output_type": "display_data"
    }
   ],
   "source": [
    "df_temp = balanced_dataset.groupby('Favorite Beverage')['Gender'].value_counts(normalize=True)\n",
    "df_temp = df_temp.mul(100).rename('Percent').reset_index()\n",
    "sns.catplot(x='Favorite Beverage', y='Percent', hue='Gender', kind='bar', data=df_temp, aspect=2)"
   ]
  },
  {
   "cell_type": "markdown",
   "id": "35f6dddb",
   "metadata": {},
   "source": [
    "Insight: Percentage of Males who prefer to drink beer and vodka is more than females while females prefer wine, whiskey and other beverages.\n",
    "Also, percentage of females who drink is more than males."
   ]
  },
  {
   "cell_type": "code",
   "execution_count": 388,
   "id": "32cc53e7",
   "metadata": {},
   "outputs": [
    {
     "data": {
      "text/plain": [
       "<seaborn.axisgrid.FacetGrid at 0x260ccaf9550>"
      ]
     },
     "execution_count": 388,
     "metadata": {},
     "output_type": "execute_result"
    },
    {
     "data": {
      "image/png": "[encoded data removed]",
      "text/plain": [
       "<Figure size 764.875x360 with 1 Axes>"
      ]
     },
     "metadata": {
      "needs_background": "light"
     },
     "output_type": "display_data"
    }
   ],
   "source": [
    "df_temp = balanced_dataset.groupby('Favorite Soft Drink')['Gender'].value_counts(normalize=True)\n",
    "df_temp = df_temp.mul(100).rename('Percent').reset_index()\n",
    "sns.catplot(x='Favorite Soft Drink', y='Percent', hue='Gender', kind='bar', data=df_temp, aspect=2)"
   ]
  },
  {
   "cell_type": "markdown",
   "id": "e2feeb28",
   "metadata": {},
   "source": [
    "Insight: 7up/Sprite and Coca Cola/Pepsi are more popluar drinks in females while males prefer fanta and other soft drinks."
   ]
  },
  {
   "cell_type": "markdown",
   "id": "9d047eaf",
   "metadata": {},
   "source": [
    "# Data pre-processing"
   ]
  },
  {
   "cell_type": "code",
   "execution_count": 389,
   "id": "0cca3d83",
   "metadata": {},
   "outputs": [
    {
     "name": "stdout",
     "output_type": "stream",
     "text": [
      "Number of rows before dropping duplicates: 66\n",
      "Number of rows after dropping duplicates: 62\n"
     ]
    }
   ],
   "source": [
    "print(\"Number of rows before dropping duplicates: %d\" % len(balanced_dataset))\n",
    "balanced_dataset= balanced_dataset.drop_duplicates()\n",
    "print(\"Number of rows after dropping duplicates: %d\" % len(balanced_dataset))"
   ]
  },
  {
   "cell_type": "markdown",
   "id": "2ce1691d",
   "metadata": {},
   "source": [
    "As visualized earlier, they were 4 duplicate rows in the dataset so we have removed them but we need to check if the dataset is still balanced after removing duplicate rows."
   ]
  },
  {
   "cell_type": "code",
   "execution_count": 390,
   "id": "1e161343",
   "metadata": {},
   "outputs": [
    {
     "name": "stdout",
     "output_type": "stream",
     "text": [
      "percentage of gender Male:  50.0\n",
      "percentage of gender Femal:  50.0\n"
     ]
    }
   ],
   "source": [
    "M=(balanced_dataset['Gender'].value_counts()['M'])/(len(balanced_dataset))*100\n",
    "print('percentage of gender Male: ',M)\n",
    "F=balanced_dataset['Gender'].value_counts()['F']/(len(balanced_dataset))*100\n",
    "print('percentage of gender Femal: ',F)"
   ]
  },
  {
   "cell_type": "markdown",
   "id": "4a43a6a7",
   "metadata": {},
   "source": [
    "Balance was not disturbed after dropping the duplicate rows."
   ]
  },
  {
   "cell_type": "code",
   "execution_count": 391,
   "id": "0ac04e67",
   "metadata": {},
   "outputs": [
    {
     "data": {
      "text/html": [
       "<div>\n",
       "<style scoped>\n",
       "    .dataframe tbody tr th:only-of-type {\n",
       "        vertical-align: middle;\n",
       "    }\n",
       "\n",
       "    .dataframe tbody tr th {\n",
       "        vertical-align: top;\n",
       "    }\n",
       "\n",
       "    .dataframe thead th {\n",
       "        text-align: right;\n",
       "    }\n",
       "</style>\n",
       "<table border=\"1\" class=\"dataframe\">\n",
       "  <thead>\n",
       "    <tr style=\"text-align: right;\">\n",
       "      <th></th>\n",
       "      <th>Favorite Color</th>\n",
       "      <th>Favorite Music Genre</th>\n",
       "      <th>Favorite Beverage</th>\n",
       "      <th>Favorite Soft Drink</th>\n",
       "    </tr>\n",
       "  </thead>\n",
       "  <tbody>\n",
       "    <tr>\n",
       "      <th>count</th>\n",
       "      <td>62</td>\n",
       "      <td>62</td>\n",
       "      <td>62</td>\n",
       "      <td>62</td>\n",
       "    </tr>\n",
       "    <tr>\n",
       "      <th>unique</th>\n",
       "      <td>3</td>\n",
       "      <td>7</td>\n",
       "      <td>6</td>\n",
       "      <td>4</td>\n",
       "    </tr>\n",
       "    <tr>\n",
       "      <th>top</th>\n",
       "      <td>Cool</td>\n",
       "      <td>Pop</td>\n",
       "      <td>Doesn't drink</td>\n",
       "      <td>Coca Cola/Pepsi</td>\n",
       "    </tr>\n",
       "    <tr>\n",
       "      <th>freq</th>\n",
       "      <td>33</td>\n",
       "      <td>17</td>\n",
       "      <td>14</td>\n",
       "      <td>28</td>\n",
       "    </tr>\n",
       "  </tbody>\n",
       "</table>\n",
       "</div>"
      ],
      "text/plain": [
       "       Favorite Color Favorite Music Genre Favorite Beverage  \\\n",
       "count              62                   62                62   \n",
       "unique              3                    7                 6   \n",
       "top              Cool                  Pop     Doesn't drink   \n",
       "freq               33                   17                14   \n",
       "\n",
       "       Favorite Soft Drink  \n",
       "count                   62  \n",
       "unique                   4  \n",
       "top        Coca Cola/Pepsi  \n",
       "freq                    28  "
      ]
     },
     "execution_count": 391,
     "metadata": {},
     "output_type": "execute_result"
    }
   ],
   "source": [
    "balanced_dataset[features].describe()"
   ]
  },
  {
   "cell_type": "markdown",
   "id": "b0f81d9e",
   "metadata": {},
   "source": [
    "Above table shows the number of unique values in a feature as well as the most frequent value and its frequency."
   ]
  },
  {
   "cell_type": "code",
   "execution_count": 392,
   "id": "2abdb23b",
   "metadata": {},
   "outputs": [
    {
     "name": "stdout",
     "output_type": "stream",
     "text": [
      "Total Unique Values among all features:  20\n"
     ]
    }
   ],
   "source": [
    "features=['Favorite Color','Favorite Music Genre','Favorite Beverage','Favorite Soft Drink']\n",
    "unique_values=0\n",
    "for i in range(len(features)):\n",
    "    unique_values=unique_values+len(balanced_dataset[features[i]].unique())\n",
    "print('Total Unique Values among all features: ',unique_values)"
   ]
  },
  {
   "cell_type": "markdown",
   "id": "202858dc",
   "metadata": {},
   "source": [
    "On observing the features, it can be seen that the features contains nominal values. i.e. they cannot be ranked so we cannot perform ordinal encoding.Therefore, we are going to perform the one hot encoding."
   ]
  },
  {
   "cell_type": "code",
   "execution_count": 393,
   "id": "16479d83",
   "metadata": {},
   "outputs": [
    {
     "data": {
      "text/html": [
       "<div>\n",
       "<style scoped>\n",
       "    .dataframe tbody tr th:only-of-type {\n",
       "        vertical-align: middle;\n",
       "    }\n",
       "\n",
       "    .dataframe tbody tr th {\n",
       "        vertical-align: top;\n",
       "    }\n",
       "\n",
       "    .dataframe thead th {\n",
       "        text-align: right;\n",
       "    }\n",
       "</style>\n",
       "<table border=\"1\" class=\"dataframe\">\n",
       "  <thead>\n",
       "    <tr style=\"text-align: right;\">\n",
       "      <th></th>\n",
       "      <th>Favorite Color_Cool</th>\n",
       "      <th>Favorite Color_Neutral</th>\n",
       "      <th>Favorite Color_Warm</th>\n",
       "      <th>Favorite Music Genre_Electronic</th>\n",
       "      <th>Favorite Music Genre_Folk/Traditional</th>\n",
       "      <th>Favorite Music Genre_Hip hop</th>\n",
       "      <th>Favorite Music Genre_Jazz/Blues</th>\n",
       "      <th>Favorite Music Genre_Pop</th>\n",
       "      <th>Favorite Music Genre_R&amp;B and soul</th>\n",
       "      <th>Favorite Music Genre_Rock</th>\n",
       "      <th>Favorite Beverage_Beer</th>\n",
       "      <th>Favorite Beverage_Doesn't drink</th>\n",
       "      <th>Favorite Beverage_Other</th>\n",
       "      <th>Favorite Beverage_Vodka</th>\n",
       "      <th>Favorite Beverage_Whiskey</th>\n",
       "      <th>Favorite Beverage_Wine</th>\n",
       "      <th>Favorite Soft Drink_7UP/Sprite</th>\n",
       "      <th>Favorite Soft Drink_Coca Cola/Pepsi</th>\n",
       "      <th>Favorite Soft Drink_Fanta</th>\n",
       "      <th>Favorite Soft Drink_Other</th>\n",
       "    </tr>\n",
       "  </thead>\n",
       "  <tbody>\n",
       "    <tr>\n",
       "      <th>0</th>\n",
       "      <td>1</td>\n",
       "      <td>0</td>\n",
       "      <td>0</td>\n",
       "      <td>0</td>\n",
       "      <td>0</td>\n",
       "      <td>0</td>\n",
       "      <td>0</td>\n",
       "      <td>0</td>\n",
       "      <td>0</td>\n",
       "      <td>1</td>\n",
       "      <td>0</td>\n",
       "      <td>0</td>\n",
       "      <td>0</td>\n",
       "      <td>1</td>\n",
       "      <td>0</td>\n",
       "      <td>0</td>\n",
       "      <td>1</td>\n",
       "      <td>0</td>\n",
       "      <td>0</td>\n",
       "      <td>0</td>\n",
       "    </tr>\n",
       "    <tr>\n",
       "      <th>1</th>\n",
       "      <td>0</td>\n",
       "      <td>1</td>\n",
       "      <td>0</td>\n",
       "      <td>0</td>\n",
       "      <td>0</td>\n",
       "      <td>1</td>\n",
       "      <td>0</td>\n",
       "      <td>0</td>\n",
       "      <td>0</td>\n",
       "      <td>0</td>\n",
       "      <td>0</td>\n",
       "      <td>0</td>\n",
       "      <td>0</td>\n",
       "      <td>1</td>\n",
       "      <td>0</td>\n",
       "      <td>0</td>\n",
       "      <td>0</td>\n",
       "      <td>1</td>\n",
       "      <td>0</td>\n",
       "      <td>0</td>\n",
       "    </tr>\n",
       "    <tr>\n",
       "      <th>2</th>\n",
       "      <td>0</td>\n",
       "      <td>0</td>\n",
       "      <td>1</td>\n",
       "      <td>0</td>\n",
       "      <td>0</td>\n",
       "      <td>0</td>\n",
       "      <td>0</td>\n",
       "      <td>0</td>\n",
       "      <td>0</td>\n",
       "      <td>1</td>\n",
       "      <td>0</td>\n",
       "      <td>0</td>\n",
       "      <td>0</td>\n",
       "      <td>0</td>\n",
       "      <td>0</td>\n",
       "      <td>1</td>\n",
       "      <td>0</td>\n",
       "      <td>1</td>\n",
       "      <td>0</td>\n",
       "      <td>0</td>\n",
       "    </tr>\n",
       "    <tr>\n",
       "      <th>3</th>\n",
       "      <td>0</td>\n",
       "      <td>0</td>\n",
       "      <td>1</td>\n",
       "      <td>0</td>\n",
       "      <td>1</td>\n",
       "      <td>0</td>\n",
       "      <td>0</td>\n",
       "      <td>0</td>\n",
       "      <td>0</td>\n",
       "      <td>0</td>\n",
       "      <td>0</td>\n",
       "      <td>0</td>\n",
       "      <td>0</td>\n",
       "      <td>0</td>\n",
       "      <td>1</td>\n",
       "      <td>0</td>\n",
       "      <td>0</td>\n",
       "      <td>0</td>\n",
       "      <td>1</td>\n",
       "      <td>0</td>\n",
       "    </tr>\n",
       "    <tr>\n",
       "      <th>4</th>\n",
       "      <td>1</td>\n",
       "      <td>0</td>\n",
       "      <td>0</td>\n",
       "      <td>0</td>\n",
       "      <td>0</td>\n",
       "      <td>0</td>\n",
       "      <td>0</td>\n",
       "      <td>0</td>\n",
       "      <td>0</td>\n",
       "      <td>1</td>\n",
       "      <td>0</td>\n",
       "      <td>0</td>\n",
       "      <td>0</td>\n",
       "      <td>1</td>\n",
       "      <td>0</td>\n",
       "      <td>0</td>\n",
       "      <td>0</td>\n",
       "      <td>1</td>\n",
       "      <td>0</td>\n",
       "      <td>0</td>\n",
       "    </tr>\n",
       "  </tbody>\n",
       "</table>\n",
       "</div>"
      ],
      "text/plain": [
       "   Favorite Color_Cool  Favorite Color_Neutral  Favorite Color_Warm  \\\n",
       "0                    1                       0                    0   \n",
       "1                    0                       1                    0   \n",
       "2                    0                       0                    1   \n",
       "3                    0                       0                    1   \n",
       "4                    1                       0                    0   \n",
       "\n",
       "   Favorite Music Genre_Electronic  Favorite Music Genre_Folk/Traditional  \\\n",
       "0                                0                                      0   \n",
       "1                                0                                      0   \n",
       "2                                0                                      0   \n",
       "3                                0                                      1   \n",
       "4                                0                                      0   \n",
       "\n",
       "   Favorite Music Genre_Hip hop  Favorite Music Genre_Jazz/Blues  \\\n",
       "0                             0                                0   \n",
       "1                             1                                0   \n",
       "2                             0                                0   \n",
       "3                             0                                0   \n",
       "4                             0                                0   \n",
       "\n",
       "   Favorite Music Genre_Pop  Favorite Music Genre_R&B and soul  \\\n",
       "0                         0                                  0   \n",
       "1                         0                                  0   \n",
       "2                         0                                  0   \n",
       "3                         0                                  0   \n",
       "4                         0                                  0   \n",
       "\n",
       "   Favorite Music Genre_Rock  Favorite Beverage_Beer  \\\n",
       "0                          1                       0   \n",
       "1                          0                       0   \n",
       "2                          1                       0   \n",
       "3                          0                       0   \n",
       "4                          1                       0   \n",
       "\n",
       "   Favorite Beverage_Doesn't drink  Favorite Beverage_Other  \\\n",
       "0                                0                        0   \n",
       "1                                0                        0   \n",
       "2                                0                        0   \n",
       "3                                0                        0   \n",
       "4                                0                        0   \n",
       "\n",
       "   Favorite Beverage_Vodka  Favorite Beverage_Whiskey  Favorite Beverage_Wine  \\\n",
       "0                        1                          0                       0   \n",
       "1                        1                          0                       0   \n",
       "2                        0                          0                       1   \n",
       "3                        0                          1                       0   \n",
       "4                        1                          0                       0   \n",
       "\n",
       "   Favorite Soft Drink_7UP/Sprite  Favorite Soft Drink_Coca Cola/Pepsi  \\\n",
       "0                               1                                    0   \n",
       "1                               0                                    1   \n",
       "2                               0                                    1   \n",
       "3                               0                                    0   \n",
       "4                               0                                    1   \n",
       "\n",
       "   Favorite Soft Drink_Fanta  Favorite Soft Drink_Other  \n",
       "0                          0                          0  \n",
       "1                          0                          0  \n",
       "2                          0                          0  \n",
       "3                          1                          0  \n",
       "4                          0                          0  "
      ]
     },
     "execution_count": 393,
     "metadata": {},
     "output_type": "execute_result"
    }
   ],
   "source": [
    "X_balanced_dataset = pd.get_dummies(balanced_dataset[features]) # get dummies\n",
    "X_balanced_dataset.head()"
   ]
  },
  {
   "cell_type": "markdown",
   "id": "2fb724d1",
   "metadata": {},
   "source": [
    "We will be performing label encoding on the target column to convert the values to numerical form."
   ]
  },
  {
   "cell_type": "code",
   "execution_count": 394,
   "id": "f4a4f372",
   "metadata": {},
   "outputs": [
    {
     "data": {
      "text/plain": [
       "array([0, 0, 0, 0, 0, 0, 0, 0, 0, 0, 0, 0, 0, 0, 0, 0, 0, 0, 0, 0, 0, 0,\n",
       "       0, 0, 0, 0, 0, 0, 0, 0, 0, 1, 1, 1, 1, 1, 1, 1, 1, 1, 1, 1, 1, 1,\n",
       "       1, 1, 1, 1, 1, 1, 1, 1, 1, 1, 1, 1, 1, 1, 1, 1, 1, 1])"
      ]
     },
     "execution_count": 394,
     "metadata": {},
     "output_type": "execute_result"
    }
   ],
   "source": [
    "Y_balanced_dataset=balanced_dataset['Gender'].copy()\n",
    "encoder=LabelEncoder()\n",
    "Y_balanced_dataset=encoder.fit_transform(Y_balanced_dataset)\n",
    "Y_balanced_dataset\n",
    "#Male=1, Female=0"
   ]
  },
  {
   "cell_type": "markdown",
   "id": "ef0fc05e",
   "metadata": {},
   "source": [
    "We are going to drop one column from each feature beacause while creating dummy variables atleast two columns are corelated. I.e. One variable can predict the values of other variables. This problem is known as dummy variable trap."
   ]
  },
  {
   "cell_type": "code",
   "execution_count": 395,
   "id": "1096a707",
   "metadata": {},
   "outputs": [
    {
     "data": {
      "text/html": [
       "<div>\n",
       "<style scoped>\n",
       "    .dataframe tbody tr th:only-of-type {\n",
       "        vertical-align: middle;\n",
       "    }\n",
       "\n",
       "    .dataframe tbody tr th {\n",
       "        vertical-align: top;\n",
       "    }\n",
       "\n",
       "    .dataframe thead th {\n",
       "        text-align: right;\n",
       "    }\n",
       "</style>\n",
       "<table border=\"1\" class=\"dataframe\">\n",
       "  <thead>\n",
       "    <tr style=\"text-align: right;\">\n",
       "      <th></th>\n",
       "      <th>Favorite Color_Neutral</th>\n",
       "      <th>Favorite Color_Warm</th>\n",
       "      <th>Favorite Music Genre_Folk/Traditional</th>\n",
       "      <th>Favorite Music Genre_Hip hop</th>\n",
       "      <th>Favorite Music Genre_Jazz/Blues</th>\n",
       "      <th>Favorite Music Genre_Pop</th>\n",
       "      <th>Favorite Music Genre_R&amp;B and soul</th>\n",
       "      <th>Favorite Music Genre_Rock</th>\n",
       "      <th>Favorite Beverage_Doesn't drink</th>\n",
       "      <th>Favorite Beverage_Other</th>\n",
       "      <th>Favorite Beverage_Vodka</th>\n",
       "      <th>Favorite Beverage_Whiskey</th>\n",
       "      <th>Favorite Beverage_Wine</th>\n",
       "      <th>Favorite Soft Drink_Coca Cola/Pepsi</th>\n",
       "      <th>Favorite Soft Drink_Fanta</th>\n",
       "      <th>Favorite Soft Drink_Other</th>\n",
       "    </tr>\n",
       "  </thead>\n",
       "  <tbody>\n",
       "    <tr>\n",
       "      <th>0</th>\n",
       "      <td>0</td>\n",
       "      <td>0</td>\n",
       "      <td>0</td>\n",
       "      <td>0</td>\n",
       "      <td>0</td>\n",
       "      <td>0</td>\n",
       "      <td>0</td>\n",
       "      <td>1</td>\n",
       "      <td>0</td>\n",
       "      <td>0</td>\n",
       "      <td>1</td>\n",
       "      <td>0</td>\n",
       "      <td>0</td>\n",
       "      <td>0</td>\n",
       "      <td>0</td>\n",
       "      <td>0</td>\n",
       "    </tr>\n",
       "    <tr>\n",
       "      <th>1</th>\n",
       "      <td>1</td>\n",
       "      <td>0</td>\n",
       "      <td>0</td>\n",
       "      <td>1</td>\n",
       "      <td>0</td>\n",
       "      <td>0</td>\n",
       "      <td>0</td>\n",
       "      <td>0</td>\n",
       "      <td>0</td>\n",
       "      <td>0</td>\n",
       "      <td>1</td>\n",
       "      <td>0</td>\n",
       "      <td>0</td>\n",
       "      <td>1</td>\n",
       "      <td>0</td>\n",
       "      <td>0</td>\n",
       "    </tr>\n",
       "    <tr>\n",
       "      <th>2</th>\n",
       "      <td>0</td>\n",
       "      <td>1</td>\n",
       "      <td>0</td>\n",
       "      <td>0</td>\n",
       "      <td>0</td>\n",
       "      <td>0</td>\n",
       "      <td>0</td>\n",
       "      <td>1</td>\n",
       "      <td>0</td>\n",
       "      <td>0</td>\n",
       "      <td>0</td>\n",
       "      <td>0</td>\n",
       "      <td>1</td>\n",
       "      <td>1</td>\n",
       "      <td>0</td>\n",
       "      <td>0</td>\n",
       "    </tr>\n",
       "    <tr>\n",
       "      <th>3</th>\n",
       "      <td>0</td>\n",
       "      <td>1</td>\n",
       "      <td>1</td>\n",
       "      <td>0</td>\n",
       "      <td>0</td>\n",
       "      <td>0</td>\n",
       "      <td>0</td>\n",
       "      <td>0</td>\n",
       "      <td>0</td>\n",
       "      <td>0</td>\n",
       "      <td>0</td>\n",
       "      <td>1</td>\n",
       "      <td>0</td>\n",
       "      <td>0</td>\n",
       "      <td>1</td>\n",
       "      <td>0</td>\n",
       "    </tr>\n",
       "    <tr>\n",
       "      <th>4</th>\n",
       "      <td>0</td>\n",
       "      <td>0</td>\n",
       "      <td>0</td>\n",
       "      <td>0</td>\n",
       "      <td>0</td>\n",
       "      <td>0</td>\n",
       "      <td>0</td>\n",
       "      <td>1</td>\n",
       "      <td>0</td>\n",
       "      <td>0</td>\n",
       "      <td>1</td>\n",
       "      <td>0</td>\n",
       "      <td>0</td>\n",
       "      <td>1</td>\n",
       "      <td>0</td>\n",
       "      <td>0</td>\n",
       "    </tr>\n",
       "  </tbody>\n",
       "</table>\n",
       "</div>"
      ],
      "text/plain": [
       "   Favorite Color_Neutral  Favorite Color_Warm  \\\n",
       "0                       0                    0   \n",
       "1                       1                    0   \n",
       "2                       0                    1   \n",
       "3                       0                    1   \n",
       "4                       0                    0   \n",
       "\n",
       "   Favorite Music Genre_Folk/Traditional  Favorite Music Genre_Hip hop  \\\n",
       "0                                      0                             0   \n",
       "1                                      0                             1   \n",
       "2                                      0                             0   \n",
       "3                                      1                             0   \n",
       "4                                      0                             0   \n",
       "\n",
       "   Favorite Music Genre_Jazz/Blues  Favorite Music Genre_Pop  \\\n",
       "0                                0                         0   \n",
       "1                                0                         0   \n",
       "2                                0                         0   \n",
       "3                                0                         0   \n",
       "4                                0                         0   \n",
       "\n",
       "   Favorite Music Genre_R&B and soul  Favorite Music Genre_Rock  \\\n",
       "0                                  0                          1   \n",
       "1                                  0                          0   \n",
       "2                                  0                          1   \n",
       "3                                  0                          0   \n",
       "4                                  0                          1   \n",
       "\n",
       "   Favorite Beverage_Doesn't drink  Favorite Beverage_Other  \\\n",
       "0                                0                        0   \n",
       "1                                0                        0   \n",
       "2                                0                        0   \n",
       "3                                0                        0   \n",
       "4                                0                        0   \n",
       "\n",
       "   Favorite Beverage_Vodka  Favorite Beverage_Whiskey  Favorite Beverage_Wine  \\\n",
       "0                        1                          0                       0   \n",
       "1                        1                          0                       0   \n",
       "2                        0                          0                       1   \n",
       "3                        0                          1                       0   \n",
       "4                        1                          0                       0   \n",
       "\n",
       "   Favorite Soft Drink_Coca Cola/Pepsi  Favorite Soft Drink_Fanta  \\\n",
       "0                                    0                          0   \n",
       "1                                    1                          0   \n",
       "2                                    1                          0   \n",
       "3                                    0                          1   \n",
       "4                                    1                          0   \n",
       "\n",
       "   Favorite Soft Drink_Other  \n",
       "0                          0  \n",
       "1                          0  \n",
       "2                          0  \n",
       "3                          0  \n",
       "4                          0  "
      ]
     },
     "execution_count": 395,
     "metadata": {},
     "output_type": "execute_result"
    }
   ],
   "source": [
    "X_balanced_dataset.drop(columns=['Favorite Color_Cool','Favorite Music Genre_Electronic','Favorite Beverage_Beer','Favorite Soft Drink_7UP/Sprite'],inplace=True)\n",
    "X_balanced_dataset.head()"
   ]
  },
  {
   "cell_type": "markdown",
   "id": "92e26d00",
   "metadata": {},
   "source": [
    "Now we need to make a copy by concatenating features and labels both into a single dataframe, so that we can use it while creating the surrogates."
   ]
  },
  {
   "cell_type": "code",
   "execution_count": 396,
   "id": "84340d9d",
   "metadata": {},
   "outputs": [],
   "source": [
    "balanced_dataset=X_balanced_dataset.copy()\n",
    "balanced_dataset['Gender']=Y_balanced_dataset.tolist()"
   ]
  },
  {
   "cell_type": "markdown",
   "id": "5e5a424e",
   "metadata": {},
   "source": [
    "# Creating a Surrogate achieving low Imbalance"
   ]
  },
  {
   "cell_type": "code",
   "execution_count": 397,
   "id": "2d56cdd6",
   "metadata": {},
   "outputs": [
    {
     "data": {
      "text/html": [
       "<div>\n",
       "<style scoped>\n",
       "    .dataframe tbody tr th:only-of-type {\n",
       "        vertical-align: middle;\n",
       "    }\n",
       "\n",
       "    .dataframe tbody tr th {\n",
       "        vertical-align: top;\n",
       "    }\n",
       "\n",
       "    .dataframe thead th {\n",
       "        text-align: right;\n",
       "    }\n",
       "</style>\n",
       "<table border=\"1\" class=\"dataframe\">\n",
       "  <thead>\n",
       "    <tr style=\"text-align: right;\">\n",
       "      <th></th>\n",
       "      <th>Favorite Color_Neutral</th>\n",
       "      <th>Favorite Color_Warm</th>\n",
       "      <th>Favorite Music Genre_Folk/Traditional</th>\n",
       "      <th>Favorite Music Genre_Hip hop</th>\n",
       "      <th>Favorite Music Genre_Jazz/Blues</th>\n",
       "      <th>Favorite Music Genre_Pop</th>\n",
       "      <th>Favorite Music Genre_R&amp;B and soul</th>\n",
       "      <th>Favorite Music Genre_Rock</th>\n",
       "      <th>Favorite Beverage_Doesn't drink</th>\n",
       "      <th>Favorite Beverage_Other</th>\n",
       "      <th>Favorite Beverage_Vodka</th>\n",
       "      <th>Favorite Beverage_Whiskey</th>\n",
       "      <th>Favorite Beverage_Wine</th>\n",
       "      <th>Favorite Soft Drink_Coca Cola/Pepsi</th>\n",
       "      <th>Favorite Soft Drink_Fanta</th>\n",
       "      <th>Favorite Soft Drink_Other</th>\n",
       "      <th>Gender</th>\n",
       "    </tr>\n",
       "  </thead>\n",
       "  <tbody>\n",
       "    <tr>\n",
       "      <th>60</th>\n",
       "      <td>0</td>\n",
       "      <td>0</td>\n",
       "      <td>0</td>\n",
       "      <td>0</td>\n",
       "      <td>0</td>\n",
       "      <td>0</td>\n",
       "      <td>0</td>\n",
       "      <td>0</td>\n",
       "      <td>0</td>\n",
       "      <td>0</td>\n",
       "      <td>0</td>\n",
       "      <td>1</td>\n",
       "      <td>0</td>\n",
       "      <td>1</td>\n",
       "      <td>0</td>\n",
       "      <td>0</td>\n",
       "      <td>1</td>\n",
       "    </tr>\n",
       "    <tr>\n",
       "      <th>36</th>\n",
       "      <td>1</td>\n",
       "      <td>0</td>\n",
       "      <td>0</td>\n",
       "      <td>0</td>\n",
       "      <td>0</td>\n",
       "      <td>0</td>\n",
       "      <td>0</td>\n",
       "      <td>1</td>\n",
       "      <td>1</td>\n",
       "      <td>0</td>\n",
       "      <td>0</td>\n",
       "      <td>0</td>\n",
       "      <td>0</td>\n",
       "      <td>1</td>\n",
       "      <td>0</td>\n",
       "      <td>0</td>\n",
       "      <td>1</td>\n",
       "    </tr>\n",
       "    <tr>\n",
       "      <th>52</th>\n",
       "      <td>0</td>\n",
       "      <td>0</td>\n",
       "      <td>0</td>\n",
       "      <td>1</td>\n",
       "      <td>0</td>\n",
       "      <td>0</td>\n",
       "      <td>0</td>\n",
       "      <td>0</td>\n",
       "      <td>1</td>\n",
       "      <td>0</td>\n",
       "      <td>0</td>\n",
       "      <td>0</td>\n",
       "      <td>0</td>\n",
       "      <td>0</td>\n",
       "      <td>0</td>\n",
       "      <td>1</td>\n",
       "      <td>1</td>\n",
       "    </tr>\n",
       "    <tr>\n",
       "      <th>56</th>\n",
       "      <td>0</td>\n",
       "      <td>1</td>\n",
       "      <td>1</td>\n",
       "      <td>0</td>\n",
       "      <td>0</td>\n",
       "      <td>0</td>\n",
       "      <td>0</td>\n",
       "      <td>0</td>\n",
       "      <td>0</td>\n",
       "      <td>1</td>\n",
       "      <td>0</td>\n",
       "      <td>0</td>\n",
       "      <td>0</td>\n",
       "      <td>0</td>\n",
       "      <td>1</td>\n",
       "      <td>0</td>\n",
       "      <td>1</td>\n",
       "    </tr>\n",
       "    <tr>\n",
       "      <th>55</th>\n",
       "      <td>0</td>\n",
       "      <td>0</td>\n",
       "      <td>0</td>\n",
       "      <td>0</td>\n",
       "      <td>0</td>\n",
       "      <td>0</td>\n",
       "      <td>0</td>\n",
       "      <td>0</td>\n",
       "      <td>0</td>\n",
       "      <td>1</td>\n",
       "      <td>0</td>\n",
       "      <td>0</td>\n",
       "      <td>0</td>\n",
       "      <td>0</td>\n",
       "      <td>1</td>\n",
       "      <td>0</td>\n",
       "      <td>1</td>\n",
       "    </tr>\n",
       "  </tbody>\n",
       "</table>\n",
       "</div>"
      ],
      "text/plain": [
       "    Favorite Color_Neutral  Favorite Color_Warm  \\\n",
       "60                       0                    0   \n",
       "36                       1                    0   \n",
       "52                       0                    0   \n",
       "56                       0                    1   \n",
       "55                       0                    0   \n",
       "\n",
       "    Favorite Music Genre_Folk/Traditional  Favorite Music Genre_Hip hop  \\\n",
       "60                                      0                             0   \n",
       "36                                      0                             0   \n",
       "52                                      0                             1   \n",
       "56                                      1                             0   \n",
       "55                                      0                             0   \n",
       "\n",
       "    Favorite Music Genre_Jazz/Blues  Favorite Music Genre_Pop  \\\n",
       "60                                0                         0   \n",
       "36                                0                         0   \n",
       "52                                0                         0   \n",
       "56                                0                         0   \n",
       "55                                0                         0   \n",
       "\n",
       "    Favorite Music Genre_R&B and soul  Favorite Music Genre_Rock  \\\n",
       "60                                  0                          0   \n",
       "36                                  0                          1   \n",
       "52                                  0                          0   \n",
       "56                                  0                          0   \n",
       "55                                  0                          0   \n",
       "\n",
       "    Favorite Beverage_Doesn't drink  Favorite Beverage_Other  \\\n",
       "60                                0                        0   \n",
       "36                                1                        0   \n",
       "52                                1                        0   \n",
       "56                                0                        1   \n",
       "55                                0                        1   \n",
       "\n",
       "    Favorite Beverage_Vodka  Favorite Beverage_Whiskey  \\\n",
       "60                        0                          1   \n",
       "36                        0                          0   \n",
       "52                        0                          0   \n",
       "56                        0                          0   \n",
       "55                        0                          0   \n",
       "\n",
       "    Favorite Beverage_Wine  Favorite Soft Drink_Coca Cola/Pepsi  \\\n",
       "60                       0                                    1   \n",
       "36                       0                                    1   \n",
       "52                       0                                    0   \n",
       "56                       0                                    0   \n",
       "55                       0                                    0   \n",
       "\n",
       "    Favorite Soft Drink_Fanta  Favorite Soft Drink_Other  Gender  \n",
       "60                          0                          0       1  \n",
       "36                          0                          0       1  \n",
       "52                          0                          1       1  \n",
       "56                          1                          0       1  \n",
       "55                          1                          0       1  "
      ]
     },
     "execution_count": 397,
     "metadata": {},
     "output_type": "execute_result"
    }
   ],
   "source": [
    "F=balanced_dataset[balanced_dataset['Gender'] == 0] \n",
    "F= F.sample(replace=False,  n=16, random_state=1) #minority class female represented by 0\n",
    "M=balanced_dataset[balanced_dataset['Gender'] == 1] \n",
    "M= M.sample(replace=False,  n=30, random_state=1) #majority class male represented by 1\n",
    "Imbalanced_dataset_low=pd.concat([M, F])\n",
    "Imbalanced_dataset_low.head()"
   ]
  },
  {
   "cell_type": "code",
   "execution_count": 398,
   "id": "ab9b7230",
   "metadata": {},
   "outputs": [
    {
     "name": "stdout",
     "output_type": "stream",
     "text": [
      "percentage of class Male:  65\n",
      "percentage of class Female:  35\n"
     ]
    }
   ],
   "source": [
    "M=(Imbalanced_dataset_low['Gender'].value_counts()[1])/(len(Imbalanced_dataset_low))*100\n",
    "print('percentage of class Male: ',round(M))\n",
    "F=Imbalanced_dataset_low['Gender'].value_counts()[0]/(len(Imbalanced_dataset_low))*100\n",
    "print('percentage of class Female: ',round(F))"
   ]
  },
  {
   "cell_type": "code",
   "execution_count": 399,
   "id": "d70d0029",
   "metadata": {},
   "outputs": [
    {
     "data": {
      "text/plain": [
       "<AxesSubplot:xlabel='Gender', ylabel='count'>"
      ]
     },
     "execution_count": 399,
     "metadata": {},
     "output_type": "execute_result"
    },
    {
     "data": {
      "image/png": "[encoded data removed]",
      "text/plain": [
       "<Figure size 432x288 with 1 Axes>"
      ]
     },
     "metadata": {
      "needs_background": "light"
     },
     "output_type": "display_data"
    }
   ],
   "source": [
    "sns.countplot(x=\"Gender\", data=Imbalanced_dataset_low)"
   ]
  },
  {
   "cell_type": "code",
   "execution_count": 400,
   "id": "840a987c",
   "metadata": {},
   "outputs": [
    {
     "data": {
      "text/plain": [
       "(46, 17)"
      ]
     },
     "execution_count": 400,
     "metadata": {},
     "output_type": "execute_result"
    }
   ],
   "source": [
    "Imbalanced_dataset_low.shape"
   ]
  },
  {
   "cell_type": "markdown",
   "id": "3d40cc5d",
   "metadata": {},
   "source": [
    "Low Surrogate dataset has 46 rows and same number of columns as in balanced dataset."
   ]
  },
  {
   "cell_type": "code",
   "execution_count": 401,
   "id": "6ad216d4",
   "metadata": {},
   "outputs": [
    {
     "name": "stdout",
     "output_type": "stream",
     "text": [
      "Duplicates in the dataset:  0\n"
     ]
    }
   ],
   "source": [
    "print('Duplicates in the dataset: ', Imbalanced_dataset_low.duplicated().sum())"
   ]
  },
  {
   "cell_type": "markdown",
   "id": "ebd5c9f7",
   "metadata": {},
   "source": [
    "Duplicates are checked to ensure that there was no duplication while randomly sub-sampling from the e class."
   ]
  },
  {
   "cell_type": "code",
   "execution_count": 402,
   "id": "87b3da1b",
   "metadata": {},
   "outputs": [],
   "source": [
    "X_Imbalanced_dataset_low=Imbalanced_dataset_low.drop(columns=['Gender'])\n",
    "Y_Imbalanced_dataset_low=Imbalanced_dataset_low['Gender'].copy()"
   ]
  },
  {
   "cell_type": "markdown",
   "id": "3c7bb803",
   "metadata": {},
   "source": [
    "Features and target label are separated in the above piece of code."
   ]
  },
  {
   "cell_type": "markdown",
   "id": "9b49d2b0",
   "metadata": {},
   "source": [
    "# Creating a Surrogate achieving Medium Imbalance"
   ]
  },
  {
   "cell_type": "code",
   "execution_count": 403,
   "id": "9b0d3ef1",
   "metadata": {},
   "outputs": [
    {
     "data": {
      "text/html": [
       "<div>\n",
       "<style scoped>\n",
       "    .dataframe tbody tr th:only-of-type {\n",
       "        vertical-align: middle;\n",
       "    }\n",
       "\n",
       "    .dataframe tbody tr th {\n",
       "        vertical-align: top;\n",
       "    }\n",
       "\n",
       "    .dataframe thead th {\n",
       "        text-align: right;\n",
       "    }\n",
       "</style>\n",
       "<table border=\"1\" class=\"dataframe\">\n",
       "  <thead>\n",
       "    <tr style=\"text-align: right;\">\n",
       "      <th></th>\n",
       "      <th>Favorite Color_Neutral</th>\n",
       "      <th>Favorite Color_Warm</th>\n",
       "      <th>Favorite Music Genre_Folk/Traditional</th>\n",
       "      <th>Favorite Music Genre_Hip hop</th>\n",
       "      <th>Favorite Music Genre_Jazz/Blues</th>\n",
       "      <th>Favorite Music Genre_Pop</th>\n",
       "      <th>Favorite Music Genre_R&amp;B and soul</th>\n",
       "      <th>Favorite Music Genre_Rock</th>\n",
       "      <th>Favorite Beverage_Doesn't drink</th>\n",
       "      <th>Favorite Beverage_Other</th>\n",
       "      <th>Favorite Beverage_Vodka</th>\n",
       "      <th>Favorite Beverage_Whiskey</th>\n",
       "      <th>Favorite Beverage_Wine</th>\n",
       "      <th>Favorite Soft Drink_Coca Cola/Pepsi</th>\n",
       "      <th>Favorite Soft Drink_Fanta</th>\n",
       "      <th>Favorite Soft Drink_Other</th>\n",
       "      <th>Gender</th>\n",
       "    </tr>\n",
       "  </thead>\n",
       "  <tbody>\n",
       "    <tr>\n",
       "      <th>60</th>\n",
       "      <td>0</td>\n",
       "      <td>0</td>\n",
       "      <td>0</td>\n",
       "      <td>0</td>\n",
       "      <td>0</td>\n",
       "      <td>0</td>\n",
       "      <td>0</td>\n",
       "      <td>0</td>\n",
       "      <td>0</td>\n",
       "      <td>0</td>\n",
       "      <td>0</td>\n",
       "      <td>1</td>\n",
       "      <td>0</td>\n",
       "      <td>1</td>\n",
       "      <td>0</td>\n",
       "      <td>0</td>\n",
       "      <td>1</td>\n",
       "    </tr>\n",
       "    <tr>\n",
       "      <th>36</th>\n",
       "      <td>1</td>\n",
       "      <td>0</td>\n",
       "      <td>0</td>\n",
       "      <td>0</td>\n",
       "      <td>0</td>\n",
       "      <td>0</td>\n",
       "      <td>0</td>\n",
       "      <td>1</td>\n",
       "      <td>1</td>\n",
       "      <td>0</td>\n",
       "      <td>0</td>\n",
       "      <td>0</td>\n",
       "      <td>0</td>\n",
       "      <td>1</td>\n",
       "      <td>0</td>\n",
       "      <td>0</td>\n",
       "      <td>1</td>\n",
       "    </tr>\n",
       "    <tr>\n",
       "      <th>52</th>\n",
       "      <td>0</td>\n",
       "      <td>0</td>\n",
       "      <td>0</td>\n",
       "      <td>1</td>\n",
       "      <td>0</td>\n",
       "      <td>0</td>\n",
       "      <td>0</td>\n",
       "      <td>0</td>\n",
       "      <td>1</td>\n",
       "      <td>0</td>\n",
       "      <td>0</td>\n",
       "      <td>0</td>\n",
       "      <td>0</td>\n",
       "      <td>0</td>\n",
       "      <td>0</td>\n",
       "      <td>1</td>\n",
       "      <td>1</td>\n",
       "    </tr>\n",
       "    <tr>\n",
       "      <th>56</th>\n",
       "      <td>0</td>\n",
       "      <td>1</td>\n",
       "      <td>1</td>\n",
       "      <td>0</td>\n",
       "      <td>0</td>\n",
       "      <td>0</td>\n",
       "      <td>0</td>\n",
       "      <td>0</td>\n",
       "      <td>0</td>\n",
       "      <td>1</td>\n",
       "      <td>0</td>\n",
       "      <td>0</td>\n",
       "      <td>0</td>\n",
       "      <td>0</td>\n",
       "      <td>1</td>\n",
       "      <td>0</td>\n",
       "      <td>1</td>\n",
       "    </tr>\n",
       "    <tr>\n",
       "      <th>55</th>\n",
       "      <td>0</td>\n",
       "      <td>0</td>\n",
       "      <td>0</td>\n",
       "      <td>0</td>\n",
       "      <td>0</td>\n",
       "      <td>0</td>\n",
       "      <td>0</td>\n",
       "      <td>0</td>\n",
       "      <td>0</td>\n",
       "      <td>1</td>\n",
       "      <td>0</td>\n",
       "      <td>0</td>\n",
       "      <td>0</td>\n",
       "      <td>0</td>\n",
       "      <td>1</td>\n",
       "      <td>0</td>\n",
       "      <td>1</td>\n",
       "    </tr>\n",
       "  </tbody>\n",
       "</table>\n",
       "</div>"
      ],
      "text/plain": [
       "    Favorite Color_Neutral  Favorite Color_Warm  \\\n",
       "60                       0                    0   \n",
       "36                       1                    0   \n",
       "52                       0                    0   \n",
       "56                       0                    1   \n",
       "55                       0                    0   \n",
       "\n",
       "    Favorite Music Genre_Folk/Traditional  Favorite Music Genre_Hip hop  \\\n",
       "60                                      0                             0   \n",
       "36                                      0                             0   \n",
       "52                                      0                             1   \n",
       "56                                      1                             0   \n",
       "55                                      0                             0   \n",
       "\n",
       "    Favorite Music Genre_Jazz/Blues  Favorite Music Genre_Pop  \\\n",
       "60                                0                         0   \n",
       "36                                0                         0   \n",
       "52                                0                         0   \n",
       "56                                0                         0   \n",
       "55                                0                         0   \n",
       "\n",
       "    Favorite Music Genre_R&B and soul  Favorite Music Genre_Rock  \\\n",
       "60                                  0                          0   \n",
       "36                                  0                          1   \n",
       "52                                  0                          0   \n",
       "56                                  0                          0   \n",
       "55                                  0                          0   \n",
       "\n",
       "    Favorite Beverage_Doesn't drink  Favorite Beverage_Other  \\\n",
       "60                                0                        0   \n",
       "36                                1                        0   \n",
       "52                                1                        0   \n",
       "56                                0                        1   \n",
       "55                                0                        1   \n",
       "\n",
       "    Favorite Beverage_Vodka  Favorite Beverage_Whiskey  \\\n",
       "60                        0                          1   \n",
       "36                        0                          0   \n",
       "52                        0                          0   \n",
       "56                        0                          0   \n",
       "55                        0                          0   \n",
       "\n",
       "    Favorite Beverage_Wine  Favorite Soft Drink_Coca Cola/Pepsi  \\\n",
       "60                       0                                    1   \n",
       "36                       0                                    1   \n",
       "52                       0                                    0   \n",
       "56                       0                                    0   \n",
       "55                       0                                    0   \n",
       "\n",
       "    Favorite Soft Drink_Fanta  Favorite Soft Drink_Other  Gender  \n",
       "60                          0                          0       1  \n",
       "36                          0                          0       1  \n",
       "52                          0                          1       1  \n",
       "56                          1                          0       1  \n",
       "55                          1                          0       1  "
      ]
     },
     "execution_count": 403,
     "metadata": {},
     "output_type": "execute_result"
    }
   ],
   "source": [
    "F=balanced_dataset[balanced_dataset['Gender'] == 0] \n",
    "F= F.sample(replace=False,  n=10, random_state=1) #minority class female represented by 0\n",
    "M=balanced_dataset[balanced_dataset['Gender'] == 1] \n",
    "M= M.sample(replace=False,  n=30, random_state=1) #majority class male represented by 1\n",
    "Imbalanced_dataset_med=pd.concat([M, F])\n",
    "Imbalanced_dataset_med.head()"
   ]
  },
  {
   "cell_type": "code",
   "execution_count": 404,
   "id": "22149493",
   "metadata": {},
   "outputs": [
    {
     "name": "stdout",
     "output_type": "stream",
     "text": [
      "percentage of class Male:  75.0\n",
      "percentage of class Female:  25.0\n"
     ]
    }
   ],
   "source": [
    "M=(Imbalanced_dataset_med['Gender'].value_counts()[1])/(len(Imbalanced_dataset_med))*100\n",
    "print('percentage of class Male: ',M)\n",
    "F=Imbalanced_dataset_med['Gender'].value_counts()[0]/(len(Imbalanced_dataset_med))*100\n",
    "print('percentage of class Female: ',F)"
   ]
  },
  {
   "cell_type": "code",
   "execution_count": 405,
   "id": "871211d3",
   "metadata": {},
   "outputs": [
    {
     "data": {
      "text/plain": [
       "<AxesSubplot:xlabel='Gender', ylabel='count'>"
      ]
     },
     "execution_count": 405,
     "metadata": {},
     "output_type": "execute_result"
    },
    {
     "data": {
      "image/png": "[encoded data removed]",
      "text/plain": [
       "<Figure size 432x288 with 1 Axes>"
      ]
     },
     "metadata": {
      "needs_background": "light"
     },
     "output_type": "display_data"
    }
   ],
   "source": [
    "sns.countplot(x=\"Gender\", data=Imbalanced_dataset_med)"
   ]
  },
  {
   "cell_type": "code",
   "execution_count": 406,
   "id": "a3f6256e",
   "metadata": {},
   "outputs": [
    {
     "data": {
      "text/plain": [
       "(40, 17)"
      ]
     },
     "execution_count": 406,
     "metadata": {},
     "output_type": "execute_result"
    }
   ],
   "source": [
    "Imbalanced_dataset_med.shape"
   ]
  },
  {
   "cell_type": "markdown",
   "id": "577edb3a",
   "metadata": {},
   "source": [
    "Med Surrogate dataset has 40 rows and same number of columns as in balanced dataset."
   ]
  },
  {
   "cell_type": "code",
   "execution_count": 407,
   "id": "15ca091c",
   "metadata": {},
   "outputs": [
    {
     "name": "stdout",
     "output_type": "stream",
     "text": [
      "Duplicates in the dataset:  0\n"
     ]
    }
   ],
   "source": [
    "print('Duplicates in the dataset: ', Imbalanced_dataset_med.duplicated().sum())"
   ]
  },
  {
   "cell_type": "markdown",
   "id": "f311b118",
   "metadata": {},
   "source": [
    "Duplicates are checked to ensure that there was no duplication while randomly sub-sampling from the e class."
   ]
  },
  {
   "cell_type": "code",
   "execution_count": 408,
   "id": "aaaba218",
   "metadata": {},
   "outputs": [],
   "source": [
    "X_Imbalanced_dataset_med=Imbalanced_dataset_med.drop(columns=['Gender'])\n",
    "Y_Imbalanced_dataset_med=Imbalanced_dataset_med['Gender'].copy()"
   ]
  },
  {
   "cell_type": "markdown",
   "id": "3e932d3a",
   "metadata": {},
   "source": [
    "Features and target label are separated in the above piece of code."
   ]
  },
  {
   "cell_type": "markdown",
   "id": "0f80f7ed",
   "metadata": {},
   "source": [
    "# Creating a Surrogate achieving High Imbalance"
   ]
  },
  {
   "cell_type": "code",
   "execution_count": 409,
   "id": "30e32631",
   "metadata": {},
   "outputs": [
    {
     "data": {
      "text/html": [
       "<div>\n",
       "<style scoped>\n",
       "    .dataframe tbody tr th:only-of-type {\n",
       "        vertical-align: middle;\n",
       "    }\n",
       "\n",
       "    .dataframe tbody tr th {\n",
       "        vertical-align: top;\n",
       "    }\n",
       "\n",
       "    .dataframe thead th {\n",
       "        text-align: right;\n",
       "    }\n",
       "</style>\n",
       "<table border=\"1\" class=\"dataframe\">\n",
       "  <thead>\n",
       "    <tr style=\"text-align: right;\">\n",
       "      <th></th>\n",
       "      <th>Favorite Color_Neutral</th>\n",
       "      <th>Favorite Color_Warm</th>\n",
       "      <th>Favorite Music Genre_Folk/Traditional</th>\n",
       "      <th>Favorite Music Genre_Hip hop</th>\n",
       "      <th>Favorite Music Genre_Jazz/Blues</th>\n",
       "      <th>Favorite Music Genre_Pop</th>\n",
       "      <th>Favorite Music Genre_R&amp;B and soul</th>\n",
       "      <th>Favorite Music Genre_Rock</th>\n",
       "      <th>Favorite Beverage_Doesn't drink</th>\n",
       "      <th>Favorite Beverage_Other</th>\n",
       "      <th>Favorite Beverage_Vodka</th>\n",
       "      <th>Favorite Beverage_Whiskey</th>\n",
       "      <th>Favorite Beverage_Wine</th>\n",
       "      <th>Favorite Soft Drink_Coca Cola/Pepsi</th>\n",
       "      <th>Favorite Soft Drink_Fanta</th>\n",
       "      <th>Favorite Soft Drink_Other</th>\n",
       "      <th>Gender</th>\n",
       "    </tr>\n",
       "  </thead>\n",
       "  <tbody>\n",
       "    <tr>\n",
       "      <th>60</th>\n",
       "      <td>0</td>\n",
       "      <td>0</td>\n",
       "      <td>0</td>\n",
       "      <td>0</td>\n",
       "      <td>0</td>\n",
       "      <td>0</td>\n",
       "      <td>0</td>\n",
       "      <td>0</td>\n",
       "      <td>0</td>\n",
       "      <td>0</td>\n",
       "      <td>0</td>\n",
       "      <td>1</td>\n",
       "      <td>0</td>\n",
       "      <td>1</td>\n",
       "      <td>0</td>\n",
       "      <td>0</td>\n",
       "      <td>1</td>\n",
       "    </tr>\n",
       "    <tr>\n",
       "      <th>36</th>\n",
       "      <td>1</td>\n",
       "      <td>0</td>\n",
       "      <td>0</td>\n",
       "      <td>0</td>\n",
       "      <td>0</td>\n",
       "      <td>0</td>\n",
       "      <td>0</td>\n",
       "      <td>1</td>\n",
       "      <td>1</td>\n",
       "      <td>0</td>\n",
       "      <td>0</td>\n",
       "      <td>0</td>\n",
       "      <td>0</td>\n",
       "      <td>1</td>\n",
       "      <td>0</td>\n",
       "      <td>0</td>\n",
       "      <td>1</td>\n",
       "    </tr>\n",
       "    <tr>\n",
       "      <th>52</th>\n",
       "      <td>0</td>\n",
       "      <td>0</td>\n",
       "      <td>0</td>\n",
       "      <td>1</td>\n",
       "      <td>0</td>\n",
       "      <td>0</td>\n",
       "      <td>0</td>\n",
       "      <td>0</td>\n",
       "      <td>1</td>\n",
       "      <td>0</td>\n",
       "      <td>0</td>\n",
       "      <td>0</td>\n",
       "      <td>0</td>\n",
       "      <td>0</td>\n",
       "      <td>0</td>\n",
       "      <td>1</td>\n",
       "      <td>1</td>\n",
       "    </tr>\n",
       "    <tr>\n",
       "      <th>56</th>\n",
       "      <td>0</td>\n",
       "      <td>1</td>\n",
       "      <td>1</td>\n",
       "      <td>0</td>\n",
       "      <td>0</td>\n",
       "      <td>0</td>\n",
       "      <td>0</td>\n",
       "      <td>0</td>\n",
       "      <td>0</td>\n",
       "      <td>1</td>\n",
       "      <td>0</td>\n",
       "      <td>0</td>\n",
       "      <td>0</td>\n",
       "      <td>0</td>\n",
       "      <td>1</td>\n",
       "      <td>0</td>\n",
       "      <td>1</td>\n",
       "    </tr>\n",
       "    <tr>\n",
       "      <th>55</th>\n",
       "      <td>0</td>\n",
       "      <td>0</td>\n",
       "      <td>0</td>\n",
       "      <td>0</td>\n",
       "      <td>0</td>\n",
       "      <td>0</td>\n",
       "      <td>0</td>\n",
       "      <td>0</td>\n",
       "      <td>0</td>\n",
       "      <td>1</td>\n",
       "      <td>0</td>\n",
       "      <td>0</td>\n",
       "      <td>0</td>\n",
       "      <td>0</td>\n",
       "      <td>1</td>\n",
       "      <td>0</td>\n",
       "      <td>1</td>\n",
       "    </tr>\n",
       "  </tbody>\n",
       "</table>\n",
       "</div>"
      ],
      "text/plain": [
       "    Favorite Color_Neutral  Favorite Color_Warm  \\\n",
       "60                       0                    0   \n",
       "36                       1                    0   \n",
       "52                       0                    0   \n",
       "56                       0                    1   \n",
       "55                       0                    0   \n",
       "\n",
       "    Favorite Music Genre_Folk/Traditional  Favorite Music Genre_Hip hop  \\\n",
       "60                                      0                             0   \n",
       "36                                      0                             0   \n",
       "52                                      0                             1   \n",
       "56                                      1                             0   \n",
       "55                                      0                             0   \n",
       "\n",
       "    Favorite Music Genre_Jazz/Blues  Favorite Music Genre_Pop  \\\n",
       "60                                0                         0   \n",
       "36                                0                         0   \n",
       "52                                0                         0   \n",
       "56                                0                         0   \n",
       "55                                0                         0   \n",
       "\n",
       "    Favorite Music Genre_R&B and soul  Favorite Music Genre_Rock  \\\n",
       "60                                  0                          0   \n",
       "36                                  0                          1   \n",
       "52                                  0                          0   \n",
       "56                                  0                          0   \n",
       "55                                  0                          0   \n",
       "\n",
       "    Favorite Beverage_Doesn't drink  Favorite Beverage_Other  \\\n",
       "60                                0                        0   \n",
       "36                                1                        0   \n",
       "52                                1                        0   \n",
       "56                                0                        1   \n",
       "55                                0                        1   \n",
       "\n",
       "    Favorite Beverage_Vodka  Favorite Beverage_Whiskey  \\\n",
       "60                        0                          1   \n",
       "36                        0                          0   \n",
       "52                        0                          0   \n",
       "56                        0                          0   \n",
       "55                        0                          0   \n",
       "\n",
       "    Favorite Beverage_Wine  Favorite Soft Drink_Coca Cola/Pepsi  \\\n",
       "60                       0                                    1   \n",
       "36                       0                                    1   \n",
       "52                       0                                    0   \n",
       "56                       0                                    0   \n",
       "55                       0                                    0   \n",
       "\n",
       "    Favorite Soft Drink_Fanta  Favorite Soft Drink_Other  Gender  \n",
       "60                          0                          0       1  \n",
       "36                          0                          0       1  \n",
       "52                          0                          1       1  \n",
       "56                          1                          0       1  \n",
       "55                          1                          0       1  "
      ]
     },
     "execution_count": 409,
     "metadata": {},
     "output_type": "execute_result"
    }
   ],
   "source": [
    "F=balanced_dataset[balanced_dataset['Gender'] == 0] \n",
    "F= F.sample(replace=False,  n=3, random_state=1) #minority class female represented by 0\n",
    "M=balanced_dataset[balanced_dataset['Gender'] == 1] \n",
    "M= M.sample(replace=False,  n=27, random_state=1) #majority class male represented by 1\n",
    "Imbalanced_dataset_high=pd.concat([M, F])\n",
    "Imbalanced_dataset_high.head()"
   ]
  },
  {
   "cell_type": "code",
   "execution_count": 410,
   "id": "1741860c",
   "metadata": {},
   "outputs": [
    {
     "name": "stdout",
     "output_type": "stream",
     "text": [
      "percentage of class Male:  90.0\n",
      "percentage of class Female:  10.0\n"
     ]
    }
   ],
   "source": [
    "M=(Imbalanced_dataset_high['Gender'].value_counts()[1])/(len(Imbalanced_dataset_high))*100\n",
    "print('percentage of class Male: ',M)\n",
    "F=Imbalanced_dataset_high['Gender'].value_counts()[0]/(len(Imbalanced_dataset_high))*100\n",
    "print('percentage of class Female: ',F)"
   ]
  },
  {
   "cell_type": "code",
   "execution_count": 411,
   "id": "47b9f833",
   "metadata": {},
   "outputs": [
    {
     "data": {
      "text/plain": [
       "<AxesSubplot:xlabel='Gender', ylabel='count'>"
      ]
     },
     "execution_count": 411,
     "metadata": {},
     "output_type": "execute_result"
    },
    {
     "data": {
      "image/png": "[encoded data removed]",
      "text/plain": [
       "<Figure size 432x288 with 1 Axes>"
      ]
     },
     "metadata": {
      "needs_background": "light"
     },
     "output_type": "display_data"
    }
   ],
   "source": [
    "sns.countplot(x=\"Gender\", data=Imbalanced_dataset_high)"
   ]
  },
  {
   "cell_type": "code",
   "execution_count": 412,
   "id": "504e897c",
   "metadata": {},
   "outputs": [
    {
     "data": {
      "text/plain": [
       "(30, 17)"
      ]
     },
     "execution_count": 412,
     "metadata": {},
     "output_type": "execute_result"
    }
   ],
   "source": [
    "Imbalanced_dataset_high.shape"
   ]
  },
  {
   "cell_type": "markdown",
   "id": "3dc4b2a9",
   "metadata": {},
   "source": [
    "High Surrogate dataset has 30 rows and same number of columns as in balanced dataset."
   ]
  },
  {
   "cell_type": "code",
   "execution_count": 413,
   "id": "fbb52f22",
   "metadata": {},
   "outputs": [
    {
     "name": "stdout",
     "output_type": "stream",
     "text": [
      "Duplicates in the dataset:  0\n"
     ]
    }
   ],
   "source": [
    "print('Duplicates in the dataset: ', Imbalanced_dataset_high.duplicated().sum())"
   ]
  },
  {
   "cell_type": "markdown",
   "id": "2941668f",
   "metadata": {},
   "source": [
    "Duplicates are checked to ensure that there was no duplication while randomly sub-sampling from the e class."
   ]
  },
  {
   "cell_type": "code",
   "execution_count": 414,
   "id": "c840d372",
   "metadata": {},
   "outputs": [],
   "source": [
    "X_Imbalanced_dataset_high=Imbalanced_dataset_high.drop(columns=['Gender'])\n",
    "Y_Imbalanced_dataset_high=Imbalanced_dataset_high['Gender'].copy()"
   ]
  },
  {
   "cell_type": "markdown",
   "id": "0092a0f1",
   "metadata": {},
   "source": [
    "Features and target label are separated in the above piece of code."
   ]
  }
 ],
 "metadata": {
  "kernelspec": {
   "display_name": "Python 3 (ipykernel)",
   "language": "python",
   "name": "python3"
  },
  "language_info": {
   "codemirror_mode": {
    "name": "ipython",
    "version": 3
   },
   "file_extension": ".py",
   "mimetype": "text/x-python",
   "name": "python",
   "nbconvert_exporter": "python",
   "pygments_lexer": "ipython3",
   "version": "3.9.7"
  }
 },
 "nbformat": 4,
 "nbformat_minor": 5
}
